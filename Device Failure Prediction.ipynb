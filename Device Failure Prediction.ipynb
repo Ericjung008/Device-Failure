{
 "cells": [
  {
   "cell_type": "markdown",
   "metadata": {},
   "source": [
    "# Device Failure Prediction"
   ]
  },
  {
   "cell_type": "markdown",
   "metadata": {},
   "source": [
    "**Libraries that will be used are imported.**"
   ]
  },
  {
   "cell_type": "code",
   "execution_count": 1,
   "metadata": {},
   "outputs": [],
   "source": [
    "import numpy as np\n",
    "import pandas as pd\n",
    "import matplotlib.pyplot as plt\n",
    "import seaborn as sns\n",
    "from sklearn.model_selection import train_test_split, cross_validate, GridSearchCV, RandomizedSearchCV\n",
    "from sklearn.linear_model import LogisticRegression\n",
    "from sklearn.ensemble import RandomForestClassifier, GradientBoostingClassifier\n",
    "from xgboost import XGBClassifier\n",
    "from imblearn.pipeline import make_pipeline\n",
    "from imblearn.under_sampling import NearMiss\n",
    "from imblearn.over_sampling import SMOTE\n",
    "from sklearn.metrics import accuracy_score,precision_score, recall_score, f1_score, confusion_matrix\n",
    "from sklearn.metrics import average_precision_score,precision_recall_curve, classification_report\n",
    "import warnings\n",
    "warnings.filterwarnings('ignore')\n",
    "%matplotlib inline"
   ]
  },
  {
   "cell_type": "markdown",
   "metadata": {},
   "source": [
    "**The dataset is imported, and the first five rows are read to ensure the dataset has been properly loaded.**\n",
    "* _**Note: Attribute column names are anonymized.**_"
   ]
  },
  {
   "cell_type": "code",
   "execution_count": 2,
   "metadata": {},
   "outputs": [
    {
     "data": {
      "text/html": [
       "<div>\n",
       "<style scoped>\n",
       "    .dataframe tbody tr th:only-of-type {\n",
       "        vertical-align: middle;\n",
       "    }\n",
       "\n",
       "    .dataframe tbody tr th {\n",
       "        vertical-align: top;\n",
       "    }\n",
       "\n",
       "    .dataframe thead th {\n",
       "        text-align: right;\n",
       "    }\n",
       "</style>\n",
       "<table border=\"1\" class=\"dataframe\">\n",
       "  <thead>\n",
       "    <tr style=\"text-align: right;\">\n",
       "      <th></th>\n",
       "      <th>date</th>\n",
       "      <th>device</th>\n",
       "      <th>failure</th>\n",
       "      <th>attribute1</th>\n",
       "      <th>attribute2</th>\n",
       "      <th>attribute3</th>\n",
       "      <th>attribute4</th>\n",
       "      <th>attribute5</th>\n",
       "      <th>attribute6</th>\n",
       "      <th>attribute7</th>\n",
       "      <th>attribute8</th>\n",
       "      <th>attribute9</th>\n",
       "    </tr>\n",
       "  </thead>\n",
       "  <tbody>\n",
       "    <tr>\n",
       "      <td>0</td>\n",
       "      <td>2015-01-01</td>\n",
       "      <td>S1F01085</td>\n",
       "      <td>0</td>\n",
       "      <td>215630672</td>\n",
       "      <td>56</td>\n",
       "      <td>0</td>\n",
       "      <td>52</td>\n",
       "      <td>6</td>\n",
       "      <td>407438</td>\n",
       "      <td>0</td>\n",
       "      <td>0</td>\n",
       "      <td>7</td>\n",
       "    </tr>\n",
       "    <tr>\n",
       "      <td>1</td>\n",
       "      <td>2015-01-01</td>\n",
       "      <td>S1F0166B</td>\n",
       "      <td>0</td>\n",
       "      <td>61370680</td>\n",
       "      <td>0</td>\n",
       "      <td>3</td>\n",
       "      <td>0</td>\n",
       "      <td>6</td>\n",
       "      <td>403174</td>\n",
       "      <td>0</td>\n",
       "      <td>0</td>\n",
       "      <td>0</td>\n",
       "    </tr>\n",
       "    <tr>\n",
       "      <td>2</td>\n",
       "      <td>2015-01-01</td>\n",
       "      <td>S1F01E6Y</td>\n",
       "      <td>0</td>\n",
       "      <td>173295968</td>\n",
       "      <td>0</td>\n",
       "      <td>0</td>\n",
       "      <td>0</td>\n",
       "      <td>12</td>\n",
       "      <td>237394</td>\n",
       "      <td>0</td>\n",
       "      <td>0</td>\n",
       "      <td>0</td>\n",
       "    </tr>\n",
       "    <tr>\n",
       "      <td>3</td>\n",
       "      <td>2015-01-01</td>\n",
       "      <td>S1F01JE0</td>\n",
       "      <td>0</td>\n",
       "      <td>79694024</td>\n",
       "      <td>0</td>\n",
       "      <td>0</td>\n",
       "      <td>0</td>\n",
       "      <td>6</td>\n",
       "      <td>410186</td>\n",
       "      <td>0</td>\n",
       "      <td>0</td>\n",
       "      <td>0</td>\n",
       "    </tr>\n",
       "    <tr>\n",
       "      <td>4</td>\n",
       "      <td>2015-01-01</td>\n",
       "      <td>S1F01R2B</td>\n",
       "      <td>0</td>\n",
       "      <td>135970480</td>\n",
       "      <td>0</td>\n",
       "      <td>0</td>\n",
       "      <td>0</td>\n",
       "      <td>15</td>\n",
       "      <td>313173</td>\n",
       "      <td>0</td>\n",
       "      <td>0</td>\n",
       "      <td>3</td>\n",
       "    </tr>\n",
       "  </tbody>\n",
       "</table>\n",
       "</div>"
      ],
      "text/plain": [
       "         date    device  failure  attribute1  attribute2  attribute3  \\\n",
       "0  2015-01-01  S1F01085        0   215630672          56           0   \n",
       "1  2015-01-01  S1F0166B        0    61370680           0           3   \n",
       "2  2015-01-01  S1F01E6Y        0   173295968           0           0   \n",
       "3  2015-01-01  S1F01JE0        0    79694024           0           0   \n",
       "4  2015-01-01  S1F01R2B        0   135970480           0           0   \n",
       "\n",
       "   attribute4  attribute5  attribute6  attribute7  attribute8  attribute9  \n",
       "0          52           6      407438           0           0           7  \n",
       "1           0           6      403174           0           0           0  \n",
       "2           0          12      237394           0           0           0  \n",
       "3           0           6      410186           0           0           0  \n",
       "4           0          15      313173           0           0           3  "
      ]
     },
     "execution_count": 2,
     "metadata": {},
     "output_type": "execute_result"
    }
   ],
   "source": [
    "df = pd.read_csv('failures.csv')\n",
    "df.head()"
   ]
  },
  {
   "cell_type": "markdown",
   "metadata": {},
   "source": [
    "**Some information about the dataset is pulled:**\n",
    "* _**There are 124,494 rows.**_\n",
    "* _**There are 12 columns.**_"
   ]
  },
  {
   "cell_type": "code",
   "execution_count": 3,
   "metadata": {},
   "outputs": [
    {
     "name": "stdout",
     "output_type": "stream",
     "text": [
      "<class 'pandas.core.frame.DataFrame'>\n",
      "RangeIndex: 124494 entries, 0 to 124493\n",
      "Data columns (total 12 columns):\n",
      "date          124494 non-null object\n",
      "device        124494 non-null object\n",
      "failure       124494 non-null int64\n",
      "attribute1    124494 non-null int64\n",
      "attribute2    124494 non-null int64\n",
      "attribute3    124494 non-null int64\n",
      "attribute4    124494 non-null int64\n",
      "attribute5    124494 non-null int64\n",
      "attribute6    124494 non-null int64\n",
      "attribute7    124494 non-null int64\n",
      "attribute8    124494 non-null int64\n",
      "attribute9    124494 non-null int64\n",
      "dtypes: int64(10), object(2)\n",
      "memory usage: 11.4+ MB\n"
     ]
    }
   ],
   "source": [
    "df.info()"
   ]
  },
  {
   "cell_type": "markdown",
   "metadata": {},
   "source": [
    "### EDA - Exploratory Data Analysis"
   ]
  },
  {
   "cell_type": "markdown",
   "metadata": {},
   "source": [
    "**Analysis of the \"failure\" column shows the target variable is skewed.**"
   ]
  },
  {
   "cell_type": "code",
   "execution_count": 4,
   "metadata": {},
   "outputs": [],
   "source": [
    "def val_count(data,target):\n",
    "    nonfailed_list = []\n",
    "    failed_list = []\n",
    "\n",
    "    nonfailed_num = data[target].value_counts()[0]\n",
    "    nonfailed_percent = (data[target].value_counts()[0]/len(data)) * 100\n",
    "    failed_num = data[target].value_counts()[1]\n",
    "    failed_percent = (data[target].value_counts()[1]/len(data)) * 100\n",
    "    \n",
    "    nonfailed_list.append(nonfailed_num)\n",
    "    nonfailed_list.append(nonfailed_percent)\n",
    "    failed_list.append(failed_num)\n",
    "    failed_list.append(failed_percent)\n",
    "    \n",
    "    analyzed_df = pd.DataFrame(data = {'nonfailed' : nonfailed_list,\n",
    "                                       'failed' : failed_list},\n",
    "                              index = ['number_of_cases','percentage'])\n",
    "    return analyzed_df\n",
    "    "
   ]
  },
  {
   "cell_type": "code",
   "execution_count": 5,
   "metadata": {},
   "outputs": [
    {
     "data": {
      "text/html": [
       "<div>\n",
       "<style scoped>\n",
       "    .dataframe tbody tr th:only-of-type {\n",
       "        vertical-align: middle;\n",
       "    }\n",
       "\n",
       "    .dataframe tbody tr th {\n",
       "        vertical-align: top;\n",
       "    }\n",
       "\n",
       "    .dataframe thead th {\n",
       "        text-align: right;\n",
       "    }\n",
       "</style>\n",
       "<table border=\"1\" class=\"dataframe\">\n",
       "  <thead>\n",
       "    <tr style=\"text-align: right;\">\n",
       "      <th></th>\n",
       "      <th>nonfailed</th>\n",
       "      <th>failed</th>\n",
       "    </tr>\n",
       "  </thead>\n",
       "  <tbody>\n",
       "    <tr>\n",
       "      <td>number_of_cases</td>\n",
       "      <td>124388.000000</td>\n",
       "      <td>106.000000</td>\n",
       "    </tr>\n",
       "    <tr>\n",
       "      <td>percentage</td>\n",
       "      <td>99.914855</td>\n",
       "      <td>0.085145</td>\n",
       "    </tr>\n",
       "  </tbody>\n",
       "</table>\n",
       "</div>"
      ],
      "text/plain": [
       "                     nonfailed      failed\n",
       "number_of_cases  124388.000000  106.000000\n",
       "percentage           99.914855    0.085145"
      ]
     },
     "execution_count": 5,
     "metadata": {},
     "output_type": "execute_result"
    }
   ],
   "source": [
    "val_count(df,'failure')"
   ]
  },
  {
   "cell_type": "code",
   "execution_count": 6,
   "metadata": {},
   "outputs": [],
   "source": [
    "def bar_graph(data,col):\n",
    "    fig, ax = plt.subplots(figsize = (10,6))\n",
    "    sns.countplot(data[col],ax = ax)\n",
    "    fig.suptitle(col.capitalize() +' Value Count',fontsize = 25)\n",
    "    fig.tight_layout(rect = [0,0,1,0.95])"
   ]
  },
  {
   "cell_type": "code",
   "execution_count": 7,
   "metadata": {},
   "outputs": [
    {
     "data": {
      "image/png": "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\n",
      "text/plain": [
       "<Figure size 720x432 with 1 Axes>"
      ]
     },
     "metadata": {
      "needs_background": "light"
     },
     "output_type": "display_data"
    }
   ],
   "source": [
    "bar_graph(df,'failure')"
   ]
  },
  {
   "cell_type": "markdown",
   "metadata": {},
   "source": [
    "**Characteristics regarding the attribute columns are reviewed and some key information are pulled:**\n",
    "* _**Due to the high number of unique values, the following columns are inferred to be numerical:**_\n",
    "    * _**attribute1**_\n",
    "    * _**attribute2**_\n",
    "    * _**attribute3**_\n",
    "    * _**attribute4**_    \n",
    "    \n",
    "\n",
    "* _**The following columns have a high failed mean and a low non-failed mean:**_\n",
    "    * _**attribute1**_\n",
    "    * _**attribute2**_\n",
    "    * _**attribute4**_"
   ]
  },
  {
   "cell_type": "code",
   "execution_count": 8,
   "metadata": {},
   "outputs": [
    {
     "data": {
      "text/html": [
       "<div>\n",
       "<style scoped>\n",
       "    .dataframe tbody tr th:only-of-type {\n",
       "        vertical-align: middle;\n",
       "    }\n",
       "\n",
       "    .dataframe tbody tr th {\n",
       "        vertical-align: top;\n",
       "    }\n",
       "\n",
       "    .dataframe thead th {\n",
       "        text-align: right;\n",
       "    }\n",
       "</style>\n",
       "<table border=\"1\" class=\"dataframe\">\n",
       "  <thead>\n",
       "    <tr style=\"text-align: right;\">\n",
       "      <th></th>\n",
       "      <th>failure</th>\n",
       "      <th>attribute1</th>\n",
       "      <th>attribute2</th>\n",
       "      <th>attribute3</th>\n",
       "      <th>attribute4</th>\n",
       "      <th>attribute5</th>\n",
       "      <th>attribute6</th>\n",
       "      <th>attribute7</th>\n",
       "      <th>attribute8</th>\n",
       "      <th>attribute9</th>\n",
       "    </tr>\n",
       "  </thead>\n",
       "  <tbody>\n",
       "    <tr>\n",
       "      <td>count</td>\n",
       "      <td>124494.000000</td>\n",
       "      <td>1.244940e+05</td>\n",
       "      <td>124494.000000</td>\n",
       "      <td>124494.000000</td>\n",
       "      <td>124494.000000</td>\n",
       "      <td>124494.000000</td>\n",
       "      <td>124494.000000</td>\n",
       "      <td>124494.000000</td>\n",
       "      <td>124494.000000</td>\n",
       "      <td>124494.000000</td>\n",
       "    </tr>\n",
       "    <tr>\n",
       "      <td>mean</td>\n",
       "      <td>0.000851</td>\n",
       "      <td>1.223868e+08</td>\n",
       "      <td>159.484762</td>\n",
       "      <td>9.940455</td>\n",
       "      <td>1.741120</td>\n",
       "      <td>14.222693</td>\n",
       "      <td>260172.858025</td>\n",
       "      <td>0.292528</td>\n",
       "      <td>0.292528</td>\n",
       "      <td>12.451524</td>\n",
       "    </tr>\n",
       "    <tr>\n",
       "      <td>std</td>\n",
       "      <td>0.029167</td>\n",
       "      <td>7.045960e+07</td>\n",
       "      <td>2179.657730</td>\n",
       "      <td>185.747321</td>\n",
       "      <td>22.908507</td>\n",
       "      <td>15.943021</td>\n",
       "      <td>99151.009852</td>\n",
       "      <td>7.436924</td>\n",
       "      <td>7.436924</td>\n",
       "      <td>191.425623</td>\n",
       "    </tr>\n",
       "    <tr>\n",
       "      <td>min</td>\n",
       "      <td>0.000000</td>\n",
       "      <td>0.000000e+00</td>\n",
       "      <td>0.000000</td>\n",
       "      <td>0.000000</td>\n",
       "      <td>0.000000</td>\n",
       "      <td>1.000000</td>\n",
       "      <td>8.000000</td>\n",
       "      <td>0.000000</td>\n",
       "      <td>0.000000</td>\n",
       "      <td>0.000000</td>\n",
       "    </tr>\n",
       "    <tr>\n",
       "      <td>25%</td>\n",
       "      <td>0.000000</td>\n",
       "      <td>6.127675e+07</td>\n",
       "      <td>0.000000</td>\n",
       "      <td>0.000000</td>\n",
       "      <td>0.000000</td>\n",
       "      <td>8.000000</td>\n",
       "      <td>221452.000000</td>\n",
       "      <td>0.000000</td>\n",
       "      <td>0.000000</td>\n",
       "      <td>0.000000</td>\n",
       "    </tr>\n",
       "    <tr>\n",
       "      <td>50%</td>\n",
       "      <td>0.000000</td>\n",
       "      <td>1.227957e+08</td>\n",
       "      <td>0.000000</td>\n",
       "      <td>0.000000</td>\n",
       "      <td>0.000000</td>\n",
       "      <td>10.000000</td>\n",
       "      <td>249799.500000</td>\n",
       "      <td>0.000000</td>\n",
       "      <td>0.000000</td>\n",
       "      <td>0.000000</td>\n",
       "    </tr>\n",
       "    <tr>\n",
       "      <td>75%</td>\n",
       "      <td>0.000000</td>\n",
       "      <td>1.833084e+08</td>\n",
       "      <td>0.000000</td>\n",
       "      <td>0.000000</td>\n",
       "      <td>0.000000</td>\n",
       "      <td>12.000000</td>\n",
       "      <td>310266.000000</td>\n",
       "      <td>0.000000</td>\n",
       "      <td>0.000000</td>\n",
       "      <td>0.000000</td>\n",
       "    </tr>\n",
       "    <tr>\n",
       "      <td>max</td>\n",
       "      <td>1.000000</td>\n",
       "      <td>2.441405e+08</td>\n",
       "      <td>64968.000000</td>\n",
       "      <td>24929.000000</td>\n",
       "      <td>1666.000000</td>\n",
       "      <td>98.000000</td>\n",
       "      <td>689161.000000</td>\n",
       "      <td>832.000000</td>\n",
       "      <td>832.000000</td>\n",
       "      <td>18701.000000</td>\n",
       "    </tr>\n",
       "  </tbody>\n",
       "</table>\n",
       "</div>"
      ],
      "text/plain": [
       "             failure    attribute1     attribute2     attribute3  \\\n",
       "count  124494.000000  1.244940e+05  124494.000000  124494.000000   \n",
       "mean        0.000851  1.223868e+08     159.484762       9.940455   \n",
       "std         0.029167  7.045960e+07    2179.657730     185.747321   \n",
       "min         0.000000  0.000000e+00       0.000000       0.000000   \n",
       "25%         0.000000  6.127675e+07       0.000000       0.000000   \n",
       "50%         0.000000  1.227957e+08       0.000000       0.000000   \n",
       "75%         0.000000  1.833084e+08       0.000000       0.000000   \n",
       "max         1.000000  2.441405e+08   64968.000000   24929.000000   \n",
       "\n",
       "          attribute4     attribute5     attribute6     attribute7  \\\n",
       "count  124494.000000  124494.000000  124494.000000  124494.000000   \n",
       "mean        1.741120      14.222693  260172.858025       0.292528   \n",
       "std        22.908507      15.943021   99151.009852       7.436924   \n",
       "min         0.000000       1.000000       8.000000       0.000000   \n",
       "25%         0.000000       8.000000  221452.000000       0.000000   \n",
       "50%         0.000000      10.000000  249799.500000       0.000000   \n",
       "75%         0.000000      12.000000  310266.000000       0.000000   \n",
       "max      1666.000000      98.000000  689161.000000     832.000000   \n",
       "\n",
       "          attribute8     attribute9  \n",
       "count  124494.000000  124494.000000  \n",
       "mean        0.292528      12.451524  \n",
       "std         7.436924     191.425623  \n",
       "min         0.000000       0.000000  \n",
       "25%         0.000000       0.000000  \n",
       "50%         0.000000       0.000000  \n",
       "75%         0.000000       0.000000  \n",
       "max       832.000000   18701.000000  "
      ]
     },
     "execution_count": 8,
     "metadata": {},
     "output_type": "execute_result"
    }
   ],
   "source": [
    "df.describe()"
   ]
  },
  {
   "cell_type": "code",
   "execution_count": 9,
   "metadata": {},
   "outputs": [],
   "source": [
    "attribute_list = ['attribute1',\n",
    "                  'attribute2',\n",
    "                  'attribute3',\n",
    "                  'attribute4',\n",
    "                  'attribute5',\n",
    "                  'attribute6',\n",
    "                  'attribute7',\n",
    "                  'attribute8',\n",
    "                  'attribute9']  "
   ]
  },
  {
   "cell_type": "code",
   "execution_count": 10,
   "metadata": {},
   "outputs": [
    {
     "data": {
      "text/plain": [
       "attribute1    123878\n",
       "attribute2       558\n",
       "attribute3        47\n",
       "attribute4       115\n",
       "attribute5        60\n",
       "attribute6     44838\n",
       "attribute7        28\n",
       "attribute8        28\n",
       "attribute9        65\n",
       "dtype: int64"
      ]
     },
     "execution_count": 10,
     "metadata": {},
     "output_type": "execute_result"
    }
   ],
   "source": [
    "df[attribute_list].nunique()"
   ]
  },
  {
   "cell_type": "code",
   "execution_count": 11,
   "metadata": {},
   "outputs": [],
   "source": [
    "def plot_bar(data,num_rows,num_cols,col_list) :\n",
    "    x = range(2)\n",
    "    index = 0\n",
    "    \n",
    "    fig,axs = plt.subplots(nrows=num_rows, ncols=num_cols, figsize = (15,6))\n",
    "    \n",
    "    for i in range(num_rows) :\n",
    "        for j in range(num_cols) :\n",
    "            if index < len(col_list) :\n",
    "                axs[i][j].bar(x[0] ,height = data.loc[data.failure == 1,col_list[index]].mean())\n",
    "                axs[i][j].bar(x[1] ,height = data.loc[data.failure == 0,col_list[index]].mean())\n",
    "                axs[i][j].set_xticks([0,1])\n",
    "                axs[i][j].set_xticklabels(['failed','non-failed'])\n",
    "                axs[i][j].set_title(col_list[index])\n",
    "                axs[i][j].set_axisbelow(True)\n",
    "                axs[i][j].grid(axis = 'y')\n",
    "                index += 1\n",
    "            else :\n",
    "                fig.delaxes(axs[i][j])\n",
    "    fig.suptitle('Failed vs Non-Failed Device Mean', fontsize = 30)\n",
    "    fig.tight_layout(rect = [0,0,1,0.93])       "
   ]
  },
  {
   "cell_type": "code",
   "execution_count": 12,
   "metadata": {},
   "outputs": [],
   "source": [
    "cont_num_list = ['attribute1','attribute2','attribute4','attribute6']"
   ]
  },
  {
   "cell_type": "code",
   "execution_count": 13,
   "metadata": {},
   "outputs": [
    {
     "data": {
      "image/png": "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\n",
      "text/plain": [
       "<Figure size 1080x432 with 4 Axes>"
      ]
     },
     "metadata": {
      "needs_background": "light"
     },
     "output_type": "display_data"
    }
   ],
   "source": [
    "plot_bar(df,2,2,cont_num_list)"
   ]
  },
  {
   "cell_type": "markdown",
   "metadata": {},
   "source": [
    "### Null Values"
   ]
  },
  {
   "cell_type": "markdown",
   "metadata": {},
   "source": [
    "**The number of null values are checked for each column.**\n",
    "* _**For the dataset, there were zero null values.**_"
   ]
  },
  {
   "cell_type": "code",
   "execution_count": 14,
   "metadata": {},
   "outputs": [],
   "source": [
    "def null_data(data) :\n",
    "    num_nulls = data.isnull().sum()\n",
    "    percent_nulls = (num_nulls/len(data)) * 100\n",
    "    null_df = pd.DataFrame(data = {'num_nulls' : num_nulls,\n",
    "                         'percent_nulls' : percent_nulls},\n",
    "                index = data.columns)\n",
    "    return null_df\n",
    "    "
   ]
  },
  {
   "cell_type": "code",
   "execution_count": 15,
   "metadata": {},
   "outputs": [
    {
     "data": {
      "text/html": [
       "<div>\n",
       "<style scoped>\n",
       "    .dataframe tbody tr th:only-of-type {\n",
       "        vertical-align: middle;\n",
       "    }\n",
       "\n",
       "    .dataframe tbody tr th {\n",
       "        vertical-align: top;\n",
       "    }\n",
       "\n",
       "    .dataframe thead th {\n",
       "        text-align: right;\n",
       "    }\n",
       "</style>\n",
       "<table border=\"1\" class=\"dataframe\">\n",
       "  <thead>\n",
       "    <tr style=\"text-align: right;\">\n",
       "      <th></th>\n",
       "      <th>num_nulls</th>\n",
       "      <th>percent_nulls</th>\n",
       "    </tr>\n",
       "  </thead>\n",
       "  <tbody>\n",
       "    <tr>\n",
       "      <td>date</td>\n",
       "      <td>0</td>\n",
       "      <td>0.0</td>\n",
       "    </tr>\n",
       "    <tr>\n",
       "      <td>device</td>\n",
       "      <td>0</td>\n",
       "      <td>0.0</td>\n",
       "    </tr>\n",
       "    <tr>\n",
       "      <td>failure</td>\n",
       "      <td>0</td>\n",
       "      <td>0.0</td>\n",
       "    </tr>\n",
       "    <tr>\n",
       "      <td>attribute1</td>\n",
       "      <td>0</td>\n",
       "      <td>0.0</td>\n",
       "    </tr>\n",
       "    <tr>\n",
       "      <td>attribute2</td>\n",
       "      <td>0</td>\n",
       "      <td>0.0</td>\n",
       "    </tr>\n",
       "    <tr>\n",
       "      <td>attribute3</td>\n",
       "      <td>0</td>\n",
       "      <td>0.0</td>\n",
       "    </tr>\n",
       "    <tr>\n",
       "      <td>attribute4</td>\n",
       "      <td>0</td>\n",
       "      <td>0.0</td>\n",
       "    </tr>\n",
       "    <tr>\n",
       "      <td>attribute5</td>\n",
       "      <td>0</td>\n",
       "      <td>0.0</td>\n",
       "    </tr>\n",
       "    <tr>\n",
       "      <td>attribute6</td>\n",
       "      <td>0</td>\n",
       "      <td>0.0</td>\n",
       "    </tr>\n",
       "    <tr>\n",
       "      <td>attribute7</td>\n",
       "      <td>0</td>\n",
       "      <td>0.0</td>\n",
       "    </tr>\n",
       "    <tr>\n",
       "      <td>attribute8</td>\n",
       "      <td>0</td>\n",
       "      <td>0.0</td>\n",
       "    </tr>\n",
       "    <tr>\n",
       "      <td>attribute9</td>\n",
       "      <td>0</td>\n",
       "      <td>0.0</td>\n",
       "    </tr>\n",
       "  </tbody>\n",
       "</table>\n",
       "</div>"
      ],
      "text/plain": [
       "            num_nulls  percent_nulls\n",
       "date                0            0.0\n",
       "device              0            0.0\n",
       "failure             0            0.0\n",
       "attribute1          0            0.0\n",
       "attribute2          0            0.0\n",
       "attribute3          0            0.0\n",
       "attribute4          0            0.0\n",
       "attribute5          0            0.0\n",
       "attribute6          0            0.0\n",
       "attribute7          0            0.0\n",
       "attribute8          0            0.0\n",
       "attribute9          0            0.0"
      ]
     },
     "execution_count": 15,
     "metadata": {},
     "output_type": "execute_result"
    }
   ],
   "source": [
    "null_data(df)"
   ]
  },
  {
   "cell_type": "markdown",
   "metadata": {},
   "source": [
    "### Feature Engineering"
   ]
  },
  {
   "cell_type": "markdown",
   "metadata": {},
   "source": [
    "**Values from columns \"date\" and \"device\" are extracted to create new features.**"
   ]
  },
  {
   "cell_type": "markdown",
   "metadata": {},
   "source": [
    "**First, the \"date\" column is changed to datetime data type.**"
   ]
  },
  {
   "cell_type": "code",
   "execution_count": 16,
   "metadata": {},
   "outputs": [
    {
     "data": {
      "text/plain": [
       "dtype('O')"
      ]
     },
     "execution_count": 16,
     "metadata": {},
     "output_type": "execute_result"
    }
   ],
   "source": [
    "df.date.dtype"
   ]
  },
  {
   "cell_type": "code",
   "execution_count": 17,
   "metadata": {},
   "outputs": [
    {
     "data": {
      "text/plain": [
       "dtype('<M8[ns]')"
      ]
     },
     "execution_count": 17,
     "metadata": {},
     "output_type": "execute_result"
    }
   ],
   "source": [
    "df.date = pd.to_datetime(df.date,format = '%Y-%m-%d')\n",
    "df.date.dtype"
   ]
  },
  {
   "cell_type": "markdown",
   "metadata": {},
   "source": [
    "**A new column is created to get an understanding of which days devices are most likely to fail.**"
   ]
  },
  {
   "cell_type": "code",
   "execution_count": 18,
   "metadata": {},
   "outputs": [
    {
     "data": {
      "text/plain": [
       "array(['Thursday', 'Friday', 'Saturday', 'Sunday', 'Monday', 'Tuesday',\n",
       "       'Wednesday'], dtype=object)"
      ]
     },
     "execution_count": 18,
     "metadata": {},
     "output_type": "execute_result"
    }
   ],
   "source": [
    "df['day_name'] = df.date.dt.day_name()\n",
    "df['day_name'].unique()"
   ]
  },
  {
   "cell_type": "code",
   "execution_count": 19,
   "metadata": {},
   "outputs": [],
   "source": [
    "def plot_day_failure(data,target,col):\n",
    "    fail_percent_day = []\n",
    "    day_list = ['Monday','Tuesday','Wednesday','Thursday','Friday','Saturday','Sunday']\n",
    "    \n",
    "    for day in day_list :\n",
    "        day_percent = (len(data[(data[target] == 1) & (data[col] == day)])/len(data[data[col] == day])) * 100\n",
    "        fail_percent_day.append(day_percent)\n",
    "        \n",
    "    plt.figure(figsize = (15,6))\n",
    "    \n",
    "    plt.plot(fail_percent_day)\n",
    "    plt.xticks(ticks = range(len(fail_percent_day)), labels = day_list)\n",
    "    plt.xlabel('Day of Week',fontsize = 15)\n",
    "    plt.ylabel('Percent of Failed Devices')\n",
    "    plt.suptitle('Percent of Failed Devices Over Week',fontsize = 30)\n",
    "    plt.grid()\n",
    "    \n",
    "    plt.tight_layout(rect = [0,0,1,0.93])"
   ]
  },
  {
   "cell_type": "markdown",
   "metadata": {},
   "source": [
    "**The plot below shows that devices are less likely to fail on the weekends.**"
   ]
  },
  {
   "cell_type": "code",
   "execution_count": 20,
   "metadata": {},
   "outputs": [
    {
     "data": {
      "image/png": "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\n",
      "text/plain": [
       "<Figure size 1080x432 with 1 Axes>"
      ]
     },
     "metadata": {
      "needs_background": "light"
     },
     "output_type": "display_data"
    }
   ],
   "source": [
    "plot_day_failure(df,'failure','day_name')"
   ]
  },
  {
   "cell_type": "markdown",
   "metadata": {},
   "source": [
    "**Another column is created to get an understanding of which months devices are most likely to fail.**"
   ]
  },
  {
   "cell_type": "code",
   "execution_count": 21,
   "metadata": {},
   "outputs": [
    {
     "data": {
      "text/plain": [
       "array([ 1,  2,  3,  4,  5,  6,  7,  8,  9, 10, 11])"
      ]
     },
     "execution_count": 21,
     "metadata": {},
     "output_type": "execute_result"
    }
   ],
   "source": [
    "df['month'] = df.date.dt.month\n",
    "df.month.unique()"
   ]
  },
  {
   "cell_type": "code",
   "execution_count": 22,
   "metadata": {},
   "outputs": [],
   "source": [
    "def plot_month_failure(data,target,col):\n",
    "    fail_percent_month = []\n",
    "    month_list = list(data.month.unique())\n",
    "    \n",
    "    for mo in month_list :\n",
    "        month_percent = (len(data[(data[target] == 1) & (data[col] == mo)]) / len(data[data[col] == mo])) * 100\n",
    "        fail_percent_month.append(month_percent)\n",
    "    \n",
    "    fig,ax = plt.subplots(figsize = (15,6))\n",
    "    \n",
    "    ax.plot(fail_percent_month)\n",
    "    ax.set_xticks(range(len(fail_percent_month)))\n",
    "    ax.set_xticklabels(['January','Febuary','March','April','May','June','July',\\\n",
    "                    'August','September','October','November'])\n",
    "    ax.set_xlabel('Month',fontsize = 15)\n",
    "    ax.set_ylabel('Percent of Failed Devices')\n",
    "    fig.suptitle('Percent of Failed Devices over Month',fontsize = 30)\n",
    "    ax.grid()\n",
    "\n",
    "    fig.tight_layout(rect = [0,0,1,0.93])"
   ]
  },
  {
   "cell_type": "markdown",
   "metadata": {},
   "source": [
    "**Some information are drawn from the plot below:**\n",
    "* _**Device failure peaks during the month of May and July.**_\n",
    "* _**Device failure rarely occurs during the month of September and November.**_"
   ]
  },
  {
   "cell_type": "code",
   "execution_count": 23,
   "metadata": {},
   "outputs": [
    {
     "data": {
      "image/png": "iVBORw0KGgoAAAANSUhEUgAABDAAAAGqCAYAAAD9UbSUAAAABHNCSVQICAgIfAhkiAAAAAlwSFlzAAALEgAACxIB0t1+/AAAADh0RVh0U29mdHdhcmUAbWF0cGxvdGxpYiB2ZXJzaW9uMy4xLjAsIGh0dHA6Ly9tYXRwbG90bGliLm9yZy+17YcXAAAgAElEQVR4nOzdd3wc1bn/8c+j5iL33i0buWA6NjYyzYXeQhJCIMQ2SUgH0ki7ueH+LqTeEBJCSIMkNtUJJJQ4dGPTbIMLxcbGvfduy7ZklfP7Y2ajQd4maXdnV/q+X695aXfmzJlnz86udp89c4455xARERERERERyWZ5YQcgIiIiIiIiIpKIEhgiIiIiIiIikvWUwBARERERERGRrKcEhoiIiIiIiIhkPSUwRERERERERCTrKYEhIiIiIiIiIllPCQwREWkyM+tqZj81s3fM7KCZ1ZqZM7NdYcfWFGb2uP84nJl1i7L9xMD234YRYzRmdlMgrqvDjicXZOtzKdIcmVm7wOttRtjxiEjuKAg7ABHJDmbm4mwuB7YDi4B/Av9wzlVlJLAWzsy6ALf4dxc5554OM55ozKw3MA8YkIK6SoGVDdztZuecvnCmgZndBNwTY3M5cADYCyzBe394yTm3KEPhiWQdM1sAjAysmuecK0ty308DD9ZbfYZzbkGq4ksnM/sC0Ac46pz7SdjxiEjzpASGiCSjnb8cB3wCWGxmVzvnVoQbVovQBfgf//afgaxLYAA/pC558RrwMLADcEBlWEFJ2kXeF/oAJwCfBDCzRcDPnHOPhRibSLY408yGOeeWJ1H2M2mPJr2+gJe8OQQogSEiaaEEhohE89F69zsDY4HrgTbAScCLZnaac25PpoOTrHOp/3cXcJFz7kiK6t0GfDmJcu+m6HjHcM7p8os6zwD3Be4XAZ2AfsBo4Fy894fTgb+b2d+AzzrnDmc60MZwzi0BLOw4pFmpxvusfQPw/XgFzWwAML7efiIiUo/eHEXkGM65J6Os/quZ/RqYDXTD+8X9u/4iLVs//+8HKUxeAByKcS5KONbGez7MrCvwdbwvavl4PTKK/N5atRmKUSSbPAdcDkwysx8keB1MwUugVQEvAxdlID4RkZyjQTxFJGnOufeB/wqs0q/TLZyZFeB9WQVdLtKiOed2O+d+iPfFKzJGzkeBr4YXlUiopvp/+wIXJCg7xf87A683m4iIRKEEhog01L8DtwebWdtohcysyMw+b2b/MrONZlZhZvvM7F0zu9PvLhuTmT0UGKG8n7/u6kB9VWZWHWPfQjOb4s8gsc7MDplZpZltMLMZZvY1M+ue4Pgnmdmv/Hj3+PtvNrOnzOw6M4vZ1dzMSgOx3++v625mt5vZYn+WjgNmttDMvmtmbWLVwYcHtPxcoN7g0q/+/skys2Iz+6aZzTaz7WZ21Mx2mNlrZvY9M+sQY78f+fEFB3OdGCW2sxsbW1P4j+sTZvYHM5vvP4dV/jn4npn91sxGJFFP3FlIGhHXeWZ2n5l9YGb7zeyIf44+YmYXNqCej5nZs/5zVWFma81sqpmNamqMTeWcm8mHE53fM7NW8fYxs+PM7Of+a2KX/3rb6j/GG/1EWbT9Xgg8P4MTxWZmrf12d367W2Bbg2YhMbMyM7vXf01Hzq/dZjbXfyynJ9i/o5ndamYv+4/1qL//PDO7zbwBfBPFMMLM7jazt/3HVeW33wdm9pKZ3WFmJyaqJ4nj5JnZ9Wb2pNW9n+81b9ahX5hZSYz9YrZ3nGONDTwP0+KUa9Q54+97zAwY5r1H32Zmi/znIRWz0bwIbPZvT4lVyMzOwRtjCuqSHkkxs0H+c/CO/5xU+M/Rk2b2KTOL+1nfzBb4j7Xcv29mNsk/L7cH3l/uM7Pj4tVB3eClxRb9f9WtCWLpYN7/nUX+eXPIf33dbjH+F4lIC+Sc06JFixbwBlx03ttC3HKFwbJAnyhlxgBr65Wrv1QAN8Y5zkOBsqXAU1HqqI6y32hgTYJjO+DFGMctAH4L1CTYfw7QI0YdpYFy9/sxbY5T10KgU5w6Ei39GvmcnwVsTVD3TmBilH1/lGRsZzcwpuDjXtWE83lnErHVAv+doJ7HA+W7Rdl+YmD7b+PU0wF4MomYHgPaJHj9/T3O/lXATf4SWXd1E9oxWE/MxxdlvzZ4vyJH9v1IjHIG3A4cTdAuS4BBUfafFCjzwyTiuiZQ/kdNeC7/keT53zVGHR8DdifYdw9wYZw4vuY/34lieL2xz79/nH5471HxjlEB3BJj/z8Hyp2TxPF+Fyh/fqrPGb+OdoFyM4Ayor8XJn3OB+peENi/HfBT//ZhoGOCNtqO9z8o+P9vVJxjfQOv51u8dphPlP/TUeIt9+N9Lk5d5cC4BI853nJrnOfgeLyEfax9VwB9m3Iua9GipXksGgNDRBqqfs+FA8E75v3i/gLeF5ha4Hn//hZ/3VnAp/3b95lZhXPuoQTH/A1wCbAKb4q5FUBb4Jx6xz4P78NXa3/VKrwvex/gfdjtg5dcuZQog/X5vw7+A7jSX7UFeBRYDBwBBgLX4g1SWAa8ZGZjXPxxHwbifTjr7Mc+G2+E9hPwutZ38eu7C/hsYL+teN3vewG/99e9BNwb5RgN7m5s3i/1L+I9D+BNgfkIsNE/5rV4j7Eb8IyZne+cey1QxcN4H1rz8NoM4D3qZkyJWNrQ2FKkDV4S40XgHbz2rML7MnYG8HG8Lwp3mNk259z96QrEzIqBV4FT/FXL8RIVH+AN1jcM79fZwXiXZbUys48451yU6u7HmwkIvC+NfwXm+vfH4s1icDfwr9Q/kuQ5546Y2RPAjf6q8/CSkPX9KVBmN97rbRHeF6W+eM/T2Xivl9l27MDB/8R7fRTjDTJ8R4LQPh24XX+6yoTMrB3wOt5AxuC9lv+GN43wPqAjcDJwGd7zGe19ZhIwzd921H8Mr+Gdr52AiXjnQWdghpmd55ybW6+Os4FfUTdmwt/9uHbhDa7aB+99JelePTEebxe/3oH+qo3AX/DO3fbAxXjJmFbA3WaGc+439ap5kLr3tk/7jzXW8QrxkkzgJX1fjlKsqedMfb3xkovd8c7R5/CSR/3xkg5NNRX4Ht570if9+P/DvF6Mkdf0w8656iQ6qmBm3wLu9O864Ak/9oPAcLw27w+MAl43s9Odc/viVYn3vn4R3vn8GLAJ6IH3/jQK73X2qHmzqgT/938L73y9E68nSQVwXZRjLIlx7K54vTtL8P6fvID3ehoCfAXvfB6CN4jwpdGrEJEWI+wMihYtWrJjIfBLR4Jynw+UXVtvWwe8DzwO74Nl1F/fgaF4H4QdXgKkS5QywV+gHN6H1KI4cXXGm7UiUv4nQEGMssVE+WUT70NYZP+pRPklHO9D3s8D5X4UpUz93hO7ifIrml9uP3W/nPdMUNf9KXqu8/G+gETqvRPIi/I4/zdQZh3QKkpdBYEyL6UgtlT1wLgEyE9wnNX+cXYCrWOUa3IPDLwP3ZEy/1O/rf0yrfhwz4pPRylzcWD7TuCEKGVO5sM9Hxwh9MDw970xsO9rUbZfH9j+NLF/nf5mvNcAH36vOCNOPF2p+9V+fiOfywcCZd4Eesc53kVA23rrhuAlPSK/KA+Lse85eF/II+Xqvz6nBuK4NE4MhUBZE57/BwPHeQFoF6XMRwLtWgEMrbfdgA3+9j3Efx+/MnC8X6TxnAn++u/wejFc3th2qlf3h3pg+Ovm+vfnRCkf7EV0cpRzOtr/juMDbV4JXBHjMc4M1PPXJOJ1wPejlCnA+zEiUuYrCeoqT6Kd6j8Hh4ne46YXH+7BOCIVz5MWLVpydwk9AC1atGTHEvwgEafMcGBHrA+YwHcC2y5JcLwLA2W/E2V78APcOuJ0q/fL3xYo/0AjHn9b6r74zSXKl8x65d/wy+6t/4GcYxMY18Wp52fxypGeBMbHAnW+DlicssHuxDdE2Z7OBEYyS9xLQBIc64pAPVfFKNOkBAYwCK+XhQOmJYinTeCD+qIo218KHOvjcer5ZL02CiuBcX5g3w/qbcujrrv4CqIkx+qV/yd1X9a61dt2UeA4d8ep4yuBcsdc7pDEczmcukvLthDj8pAEj+MvgccRNXkRKHtLIJ4r62173V+/ubHPbRKxDgicuzuJkmgOlP1/gVj/EGX7TwPbPxqnnmAS7+Q0njP1vzzfnsJ2i5bA+GJgXf0ETyTJsCiwLlEC40+B7TEvncJL2kUuVaoiyuWG9eJ9Kk5dpyYqR9MSGN+IU/bryZTTokVLy1g0iKeIHMPMrqq33GBmf8K7DjpyCckW4P/q7TrJ/7vUOfdsvGM4517AS4ZA4m7Of3aJp+e83v9bA/x3grLRXIL3YQ/gLpd42seH/b+d8Ma4iGUbXhfzWIJdpBMOKpkiHwvc/j/nnItT9mcx9msO5gRuj0nTMT5F3Swtd8Yr6J/jkctxTrPAoKFm1hGY4N9dh/flLJa/4/3iHba9gdtd620rw0tWAdzjnEs0g03kMrMiYFy9bS/hvc4ArjWzfKKLXD5SDUxPcLxorqNu8PNfOud2N2Rn//KIT/p3ZzjnlifYJXhpXf33yMilDV3NrGdD4miAK6k7d+9z8S/D+DVe7wvwLn2rL3i5zqejbMcfpPEK/+57zrn36hVJ5TkTVEv0S/NSaTp17XNDZKWZDQTG+3enNqC+SBtX4F1iGZV/jt7n3y2g7vLIWO6OU9c71L2mU/2/qgL4Y5ztYfyfFJEspTEwRCSaJxJsXwZ8wjm3M7LCv1b6BP/uTjO7KonjHMC7vvb4BOViXjPtH7sH3mUpAO865xrz5S04nkbXJOLvHbh9PN4votHMT5AM2Ry43TnBMVMlknCpxfvyF89reON/tCF9X/Jj2QZ8OUGZmGNsmFlvvGu3z8d7jjpTN+ZHfY2eySWByHlVDZTGGsU/oH3g9vHUnfsjqRtP4eV4SSfnnDOzlwl8UQpJ8EeS+vEGX2/FSbzeBgVuf+j9wjlXY2aP4g1o2APvy/6HEqjmzVBS5t99wTm3g4YLzqjzdCP2H4nX0wvgSJLvkRV4Y/rUf498EW9azlbAq2b2U+DpBEmGhgomZl+IV9A5t8/M5uM9rz3MbJBzbm1g+1Izexs4DbjMzDq5Y8djuJq68YuijYuUsnOmnpXOue0J6moS59x+M3sSb2yhSWb23/7/hSnUjWPySDJ1+edyJLn5pnNuf4JdXgC+698egzdIaizzEtS1Ge99NNX/qxY75+KNNxLG/0kRyVJKYIhIMg7h9ZZ4Gy+58ViUX78GUPcF6zx/SVaiDySbE2zvG7i9rAHHDSoJ3P59rEIxxIs/0QCbwXZsHbNUakWSL5sTfGiMfDlcg5ec6m5m+c65mrRH6DnknHuyMTua2Q14s8kUJ7lLuqboK/H/FhC/10Q0wfOqT+D2qiT2TaZMunUK3K7/xbokcPunDaw32uvtQbwEBni/8NfvAdakwTt9kSRXtXNuZdyS0ZUEbl9PXa+xZNR/zL/FG6xyDF7y9q9ArZktxutZNBt41jl3sBFxRgSTtCuSKL+CuiRDb7yZqIIexEtgtMIbtPK+etsjz1Et0b/MlwRup+KciUj0/yVVpuIlMPrhTTn9EjDZ3zbDOZfsYMyNeV6i7VvfkUT/D6j7f5Xq/1XZ+H9SRLKUEhgicgznXOIh0I/VsQmHLEqwPdHlI8Evn+WNjCFd8Se6FCWj/JlW2vl3DyW5W6RNI/sm+sUvVGZ2Md5YA5Hz+C28Lshr8Hr9BD+EP+rfjnXZQVOl6rxqF7idzMwIyT636VQSuL2z3raUvt6cc2+b2ft4ibaPmFmxcy7YBpFkwUGiz4aSjMj7TGPbNmWP2XmzvIzDG6zyS3izTeThzXRzCl7PpSNm9ge8MRIaE3OwN1Ay+wffe9tH2f4o8Au819qnCSQwzKwfdUnvl51z0ZIK6XqPTvT/JVVexEuW9MXrHVWJN2MHNOzykVQ/LxFh/q/Kqv+TIpLdlMAQkVQJfkj6i3Pucxk8dnA6t3YxS8UXjH+Ac25jE+LJWv7lBeV47ZRs74RImzoanyDKpNupS15c75yL2jU7jWMHBEXa67BzLtn2jlcP1F2GEE9TjpUqwUuO3qq3Lfh4Rjvn5qfgeA/ijdlSjDdey4MAZjaaukvMHk9iPJ1YDuDNiNDYtg0+5u84537RyHoAcM5VAD/xLx85EW+K6rPwpmHtjXe51DeAsWZ2jnOuqoGHCPbeKCZx4jL43ntMzw/n3DYzexFvNp1zzGxA4HK/T1F3yVGsHjLpOGcyxjlXa2YP4k2p+lG8nijg9W58pgFV1X9eEon7vIiI5BoN4ikiqRL8xSxd4wnEsilwO9F4GrGEGX+mbfX/9jGzuF+G/QERB/t3d2Tw8pFG8Qe7HOXfnR0reeEbmIGQIudVWzNryrXbWwK3S2OWaliZtDGzNkBwjIJX6hVJx+vtEerG2gheMhK8HW1shWRF3mcKzGxII/ZPy3uM8yx2zv3BOTcJ7xf+i6k7Z8bQsMtVIrYGbifzeINltsQoE2l/qxdT5Dk6TOxLrZrDe/RU/28bvEuAAB52zlU3oI50PC8iIjlDCQwRSQnn3DbqrrUda2aN7QnRmGPvBCIj+p9iZgMaUU3wC1aiWVEyKdi1tjGX9kQT+TU8n7qZLWI5m7qBL+v/ip6NelDXTqsTlL0ozbFA6s6rhdSdC+PjFfQvE4pbJgNuom7mkc3A8/W2p/z15veamu3fnWhmvcysgLqZPzYFtjdGcDDhRLM5RPMmdZcvXdCEOOLyExrP411eEnF2rPJxBF/vceM1s+BsTDucc+tiFH2Cup4U1/v7ngyc5K970jkXq5dXtr5HJ82feab+QJlTG1jHGurGjBhjZvEuC4EPt1W638Mj71Gp+l8lInIMJTBEJJWm+X/bAd/J8LEjv+zlAz9qxP4zqBto8KYMXV6QjOCH+VRdFvCPwO1vJyj73cDtf8QslT2C40PEnPHDnzXnq+kPh4fxpvYF+IGZNWoAOn+mgchUgoPMLNpUlRFXk5neJVGZ2UTgx4FVP4sy6O9r1A3yOMXMUtVjJHL5QT7etKcX4iW1wPuluynX2j9K3Re0b5lZ/alh4/IvXfm7f/d4M/tUE2JJxrrA7cZcMvwUdefu5/0kRSy3UDe4YszBav1BIiPbTzCz00h+gNV0nTOZdjdeMutN4O9RpotNRqQN2+AlC6Py3+du9O9W07jZcxoi8v+qdZzpjEVEmkQJDBFJpXuo62b9AzP7ppnFfJ8xs45m9nUzS8WvxffiTbsJ3jR1P/F/fY123LZm9qFfFP3R+u/w73YDnks05aWZlZnZz5sYdyI7qftQeFqK6nwa+MC/fa6Z/dz/1f5DzOyHwCX+3fXA9BQdP238wf8iXazPM7Njeln4X8T+CaQ9SeWcWwHc7989CXjCzLrFKm9m+WZ2iZlFSyzdGbj9BzM75nIpMzuR+NMkpo2ZdTWz24HngEJ/9RPR4vG7zP+Xf7cN3uvtlAT1n2Jm9yQI4x/UDcr4aVJ3+Ujk1/NIHb2Bf/tT9UZlZhdEuUTrduoGXrzPzK6Jd0wz621md9S/ZMXMfmNmo+LsZ3iDe0a8G+840fg9WiKXYPUAHjWzY5KoZnY58AP/biXwqwRVB5+HyXiJJoDteANdxoonXedMRjnnpjvnzvSXTybeI6pfAUf92/9jZpfWL+A/V9Opm3L1IefcpvrlUiySYIoMKCsiknIaxFNEUsY5d9DMrgJm4Y12/kvgS2b2T7zpTQ/564/D6258Ht7o8NdFr7FBx95rZtfidVVvBXwf+ISZ/Q3vy/pRvAH4RgOXAwuo92HZOfdr/0vB9cCpwDIzewrvl79teL/q9sD7IjoRb5aF5Xy4l0JK+YNuzgKuAIaa2XTgSWBfoNisKL9wx6uzxsw+DbyO96vpd4AJZvYIXnf/nnjT/Y31dzkKTGrIMUJ2D/ATvG7M/zazacBcvN4ZJwOfwXseH6BuGsN0+jreOTMWb2yCtWb2ON4vsLvwnoPeeOfcBUB3vF+/PzTIo3PueTOLxNwDWGhmf8V7bPj1fwbvNfUU8JEUP45B/us7ohBvqtS+eOMsnEfd5Ubg9Tb4TKxeD8656WZ2Bt6lDscBi8zsGbz3j814z183vAEqx+MNxLkfuDlWgM65A2b2NN5lI6f7+wK845xb0rCHG9VX8RKJJ+E95pX+e8xcvNdkB/+Yl/nxdifQK8g5t8rMJuG1TVvgb2b2HeBfeJc8VeK16TCgDDgT78tg/d5PnwJuNrOVwExgMXXn0kDgmsBj30IDL1MI+Dpwrl/nxcD7/jn3AV5Pu4vxxnKIJEC/4yft4pnpx9QH+Ap1M4Q8mmiMnXScM7nIOfeBmX0f739sK2CGmf0D7//fQWA48Fm86c3BSyx8I1pdKTbTPy7Ag37yaAN1PZc+iHN5kYhIcpxzWrRo0QLe4HfOe1tocl3HA+8E64yzVADnR6njoUCZfg049li8D0yJjvtCjP0N+B8/rmTifylKHaWB7fcniDdhWWAk3q/KsWJIun3q1Xs2Xm+FeI9vZ7TnJ1BHQby2aERMwfZY1cg68vF6WMR7XNOBLoH7M2LU9XigTLco208MbP9tnJha400bWZPkeXVvjHqKgMfi7FeF9yX7psC6q5vwfNyUZLzBZRFwTQOOcTNeL6Nk6l6SRH2XRdnvm0nsl+xz2Qkv4ZBMvF1j1HEeyb1PObzESGm9/Xcmue9K4IQmvib7+89pvONUAl9rQJ2/iFLH6Zk6Z/CSL3Ff+01orwWButs1so7g/79Rccp902/7eI9/AdA3iXjLG/DYopbFe39aECeWWxvzHKTz+dKiRUvuLeqBISIp55xb5l/bfCXedIZleL/qF+P9OrQOr0vzy8DTzrl9MapqzLHn+N2tp+D9An0q3i9ytXhdlN/D6+L+aIz9HfC/ZnYf3rXD5+P9itcF7xriXXi/Ps4F/u2cS/vAls65hX7PkG8A5+CNwJ/MVJqJ6n3db6sv4j1Xx+N9OduPNyDrDOB3zht/IWc4r4fJx/F6KnwWrytzG7znfxEw1Tn3ZIYHmq3AG0fgLrxeEuOAQXjtXenHthSvt8+/nHPLYtRzFK9n0ceBz+Mlt9rjJaJeBe5xzi0ws5jXxafQIbypRfcCS/Da9kXn3KKGVOKcu8fv/fM5vB4oJ+ANAOqA3Xi9nN4EnuXDA2nG8jzeF/zu/v0aYrzeG8N/v7rCzMbhXaJyLl4PmtZ4yYbleANOPuqc2x2jjlf8MRyuw+tdNdKPtwivTVfjtyfwrDt26tcR+NOR4r3HDQY6+o91B9776xN4lw0cpQmccxv9959P4fXsGIn3nnoE79KyF/ESbmsbUO2DwK2B+8sact6k4ZzJSc65u8zsSbyeLBfg9ZRpg3f+L8Tr6fOoa9rYLw2J56iZnYf3v+oKvP+d7fGSyiIiKWHeZ3URERERERERkeylQTxFREREREREJOspgSEiIiIiIiIiWU8JDBERERERERHJekpgiIiIiIiIiEjWUwJDRERERERERLKeEhgiIiIiIiIikvWUwBARERERERGRrKcEhoiIiIiIiIhkvYKwA8iEbt26uZKSkrDDaLBDhw5RXFwcdhgtgto6s9TemaX2ziy1d+aorTNL7Z1Zau/MUVtnlto7s3K1vRcuXLjLOde9/voWkcAoKSlhwYIFYYfRYLNnz2bcuHFhh9EiqK0zS+2dWWrvzFJ7Z47aOrPU3pml9s4ctXVmqb0zK1fb28zWR1uvS0hEREREREREJOspgSEiIiIiIiIiWU8JDBERERERERHJekpgiIiIiIiIiEjWUwJDRERERERERLKeEhgiIiIiIiIikvWUwBARERERERGRrKcEhoiIiIiIiIhkPSUwRERERERERCTrKYEhIiIiIiIiIllPCQwRERERERERyXpKYIiIiIiIiIhI1lMCQ0REJAWOVtfy+MJNVNe6sEMRERERaZaUwBAREUmBB+et59bH3uXVTdVhhyIiIiLSLCmBISIi0kQVVTX84ZXVALy0oQrn1AtDREREJNWUwBAREWmiv83fyM6DlXxiZD+2lDvmrt4ddkgiIiIizY4SGCIiIk1QWV3D72evZnRJF+646kTaF8LUOevCDktERESk2VECQ0REpAkeW7CJbQcquGXiEFoX5nNe/0JeWradTXsPhx2aiIiISLOiBIaIiEgjHa2u5fezV3PagE6cVdoVgPH9CzAzHpq3IeToRERERJoXJTBEREQa6Z+LNrF53xFumTgEMwOga5s8LhzRk+nzN1BRVRNyhCIiIiLNhxIYIiIijVBVU8u9s1dxcr+OjBva/UPbJpeVsO9wFU+/uyWk6ERERESaHyUwREREGuHJtzezcc8RbplQ1/si4szBXRjWsz3T5qzTlKoiIiIiKaIEhoiISANV19Ry76xVjOjdgYnH9zhmu5kxZWwJ7285wML1e0OIUERERKT5UQJDRESkgf713hbW7T78obEv6rvqtD50aF3AtLnrMxydiIiISPOkBIaIiEgD1NQ67nl5FcN7tefCET1jlmtbVMA1o/rz7OKtbD9QkcEIRURERJonJTBEREQa4N+Lt7Jm5yFunjCEvLzovS8iJpUNpMY5HnlTU6qKiIiINJUSGCIiIkmqrXXcM3MlQ3q045ITeyUsP7BrMeOH9eCRtzZwtLo2AxGKiIiINF9KYIiIiCTpufe3sXJHOTdNKE3Y+yJiytgSdh6s5NklW9McnYiIiEjzltYEhpldbGbLzWyVmX0vyvZzzWyRmVWb2dWB9ePN7J3AUmFmV/nbpprZ2sC2U9P5GERERMDrffGbmSsZ3K2Yy0/uk/R+55R2Y1C3YqbNWZe+4ERERERagLQlMMwsH7gXuAQYAVxnZiPqFdsA3AA8ElzpnJvlnDvVOXcqMAE4DLwQKPLtyHbn3DvpegwiIiIRLy7bzgfbDnLThFLyk+x9AZCXZ0wuG8iiDftYvGl/GiMUERERad7S2QNjNLDKObfGOXcUmA58JFjAObfOOfceEO/C4KuBZ51zh9MXqoiISGzOeb0vBnZty5WnJN/7IuLqkf0oLspnqnphiIiIiDSaOefSU7F3ScjFzrkb/fuTgDHOuZuilJ0KzHDOPUhY/94AACAASURBVB5l28vAXc65GYGyZUAlMBP4nnOuMsp+XwC+ANCzZ8+R06dPT9Ejy5zy8nLatWsXdhgtgto6s9TemaX2brp3dlTz60WVfO7EIs7pVxi3bKz2fmBpJa9uquaucW3pUJR8Dw6JTed2Zqm9M0vtnTlq68xSe2dWrrb3+PHjFzrnRtVfXxBGMMkys97AScDzgdXfB7YBRcCfgO8Ct9ff1zn3J387o0aNcuPGjUt3uCk3e/ZscjHuXKS2ziy1d2apvZvGOcevfjeHfp3z+N514yjMj995MVZ79xtxkJfvepWNhf356rjSNEXbsujcziy1d2apvTNHbZ1Zau/Mam7tnc5LSDYD/QP3+/nrGuIa4AnnXFVkhXNuq/NUAn/Fu1RFREQkLV5duYt3N+7jq+NLEyYv4int0Z6zSrvy8Lz1VNdoSlURERGRhkpnAmM+MMTMBplZEXAt8HQD67gOeDS4wu+VgZkZcBWwJAWxioiIHMM5x90vraBPx9Z8/PR+Ta5vSlkJW/ZX8NKy7SmITkRERKRlSVsCwzlXDdyEd/nHMuDvzrn3zex2M7sSwMzOMLNNwCeAP5rZ+5H9zawErwfHK/WqftjMFgOLgW7Aj9L1GEREpGWbs3o3izbs48vjSykqaPq/zInH96RvpzYazFNERESkEdI6BoZz7hngmXrrbgvcno93aUm0fdcBfaOsn5DaKEVERKK7e+ZKenVozTWjmt77AiA/z5hUNpCfPfsBy7cdZFiv9impV0RERKQlSOclJCIiIjlr3prdvLV2D186bzCtCvJTVu8nR/WnVUEe0+auS1mdIiIiIi2BEhgiIiJR/GbmSrq3b8W1owektN7OxUVcdWpfnli0mf2HqxLvICIiIiKAEhgiIiLHmL9uD3NW7+aL5w6mdWHqel9ETB47kCNVNTy2cGPK6xYRERFprpTAEBERqec3M1fStbiI68cMTEv9J/TpyBklnXlw3npqa11ajiEiIiLS3CiBISIiErBow15eW7mLz587mDZFqe99ETG5rIT1uw/zyoqdaTuGiIiISHOiBIaIiEjAPTNX0rltIZPOTE/vi4iLT+xFzw6tNKWqiIiISJKUwBAREfG9t2kfs5bv5MZzBlPcKq0zjVOYn8f1YwbyyoqdrNlZntZjiYiIiDQHSmCIiIj4fjNzFR1aFzC5LL29LyKuHd2fwnzjwXnrM3I8ERERkVymBIaIiAiwZPN+Xlq2nc+dPZj2rQszcswe7Vtz2Um9eXzBJg5VVmfkmCIiIiK5SgkMERER4Lcvr6J9qwJuOKsko8edMraEg5XV/HPRpoweV0RERCTXKIEhIiIt3gfbDvDc+9v4zFkldGyTmd4XEaf278TJ/Toybe56nNOUqiIiIiKxKIEhIiIt3j0vr6K4KJ/Pnj0o48c2M6aUlbBqRzlzVu/O+PFFREREcoUSGCIi0qKt3H6QZxZvZcrYEjq1LQolhstO7k2X4iKmaUpVERERkZiUwBARkRbtt7NW0aYwnxvPGRxaDK0L87ludH9eWradTXsPhxaHiIiISDZTAkNERFqsNTvL+de7W5h05kC6FIfT+yLi+jEDMdOUqiIiIiKxKIEhIiIt1r2zVlNUkBdq74uIPp3acOGInvxt/kYqqmrCDkdEREQk6yiBISIiLdL63Yd48p3NXD9mIN3btwo7HMCbUnXf4SqefmdL2KGIiIiIZB0lMEREpEX63azV5OcZXzw3/N4XEWMGdWF4r/ZMnbNOU6qKiIiI1KMEhoiItDgb9xzmH4s28anRA+jRoXXY4fyHmTG5rISlWw+wcP3esMMRERERySpKYIiISIvz+1dWk2fGF8/Lnt4XEVed1ocOrQuYqilVRURERD5ECQwREWlRtuw7wmMLNnLNGf3o3bFN2OEco21RAdeM6s9zS7ax/UBF2OGIiIiIZA0lMEREpEX5wyurAfjyuNKQI4ltclkJNc7x8Jsbwg5FREREJGsogSEiIi3Gtv0VTH9rI1eP7EffTtnX+yJiQNe2TBjWg0fe3MDR6tqwwxERERHJCkpgiIhIi/HHV1dT4xxfyeLeFxGTx5awq7ySZ5dsDTsUERERkaygBIaIiLQIOw5W8MibG/joaX3p36Vt2OEkdE5pNwZ3K9ZgniIiIiI+JTBERKRFuO/VNVTV1PLV8dnf+wIgL8+YVDaQtzfs471N+8IOR0RERCR0SmCIiEizt6u8kofmbeAjp/ZlULfisMNJ2tUj+1FclM+0OevDDkVEREQkdEpgiIhIs3f/a2upqK7Jmd4XEe1bF/Lxkf3413tb2F1eGXY4IiIiIqFSAkNERJq1PYeO8sDcdVx+ch9Ke7QLO5wGm1w2kKPVtUyfvzHsUERERERCpQSGiIg0a395fS2Hj9Zw84Tc6n0RUdqjPWeXduPheeuprtGUqiIiItJyKYEhIiLN1v7DVUyds45LT+rF0J7tww6n0aaMLWHL/gpeXLo97FBEREREQqMEhoiINFt/eWMt5ZXV3DR+SNihNMmE4T3o17kN0+auCzsUaaFqax3OubDDEBGRFk4JDBERaZYOVFTxlzfWcuGInozo0yHscJokP8+YdOZA5q3ZwwfbDoQdjrQw1TW1XPPHuUx9/2jYoYiISAuX1gSGmV1sZsvNbJWZfS/K9nPNbJGZVZvZ1fW21ZjZO/7ydGD9IDN706/zb2ZWlM7HICIiuWnaG+s4WFHNLRNzu/dFxDWj+tOqIE9TqkrGPfrWBhas38srm6pZsnl/2OGIiEgLlrYEhpnlA/cClwAjgOvMbES9YhuAG4BHolRxxDl3qr9cGVj/c+BXzrlSYC/wuZQHLyIiOa28spr7X1/LxOE9OLFvx7DDSYnOxUVcdWpfnnx7M/sPV4UdjrQQ+w9XcdeLKxg1sDPFhXDnC8vDDklERFqwdPbAGA2scs6tcc4dBaYDHwkWcM6tc869ByQ1rLqZGTABeNxfNQ24KnUhi4hIc/DA3HXsP1LFzc2k90XE5LEDOVJVw2MLNaWqZMavZ65g/5Eq7rjqRC4bVMjs5TuZv25P2GGJiEgLZekakMm/JORi59yN/v1JwBjn3E1Ryk4FZjjnHg+sqwbeAaqBnznnnjSzbsA8v/cFZtYfeNY5d2KUOr8AfAGgZ8+eI6dPn57qh5h25eXltGvXLuwwWgS1dWapvTOrpbV3ZbXj1lcOU9Ixn2+Nap3x46e7vX/y5hH2Vjh+fm4b8szSdpxc0NLO7UzbUl7LD984wjn9CrjhhFbs2V/O/y7Ko2db4/ujW2Mt/PxLN53fmaO2ziy1d2blanuPHz9+oXNuVP31BWEEk6SBzrnNZjYYeNnMFgNJX3jpnPsT8CeAUaNGuXHjxqUnyjSaPXs2uRh3LlJbZ5baO7NaWnvf9+oaDlYt4/99YgwjB3bO+PHT3d7lXbZw0yNvQ+8RjBveM23HyQUt7dzOtBv++hZtW1Xxyynj6NquFbNnz+ZbF5dw21Pvk9f3RM4b2j3sEJs1nd+Zo7bOLLV3ZjW39k7nJSSbgf6B+/38dUlxzm32/64BZgOnAbuBTmYWSbw0qE4REWnejhyt4Y+vruHs0m6hJC8y4aITetGzQyumajBPSaNZy3cwe/lOvjZxCF3btfrP+mvPGEC/zm34xfMfaFpVERHJuHQmMOYDQ/xZQ4qAa4GnE+wDgJl1NrNW/u1uwFnAUuf9p5wFRGYsmQI8lfLIRUQkJz361gZ2lVc2m5lHoinMz+P6MQN5dcVO1uwsDzscaYaqamr50YylDO5WzOSykg9tKyrI42sTh7Bk8wGeW7ItnABFRKTFSlsCwzlXDdwEPA8sA/7unHvfzG43sysBzOwMM9sEfAL4o5m97+9+PLDAzN7FS1j8zDm31N/2XeCbZrYK6Ar8OV2PQUREckdFVQ1/eGU1Zw7uwuhBXcIOJ62uGz2AwnzjgbnqhSGp9+Dc9azeeYgfXHY8RQXHflT86Gl9Oa57Mb98cQU1teqFISIimZPWMTCcc88Az9Rbd1vg9ny8y0Dq7zcHOClGnWvwZjgRERH5j78v2MiOg5X8+tpTww4l7bq3b8VlJ/Xm8YWbuPWiYbRrlc1DWkku2XPoKL9+aQXnDOnGhOE9opYpyM/jWxcO4ysPL+LJtzfz8ZHHfJQTERFJi3ReQiIiIpIRldU1/H72as4o6UzZ4K5hh5MRU8aWUF5ZzROLNoUdijQjv3pxBYeO1nDb5SPizjJy8Qm9OLFvB3710gqOVtdmMEIREWnJlMAQEZGc9/jCTWzdX8EtE4e0mKkdTxvQmVP6dWTa3PUaTFFSYvm2gzz85no+PWYAQ3q2j1s2L8/41oXD2LT3CH9bsDFDEYqISEunBIaIiOS0o9W1/G7Wak4b0ImzS7uFHU5GTS4rYdWOcuas3h12KJLjnHPcMWMp7VsX8vXzhya1z7ih3TmjpDP3zFzJkaM1aY5QRERECQwREclxT7y9ic37jnDLhJbT+yLi8lN607W4iKlz1oUdiuS4l5bt4PVVu/jG+UPoXFyU1D5mxrcvGs6Og5U8MHddWuMTEREBJTBERCSHVdXU8ttZqzipb0fGDesedjgZ16ogn+tGD2Dmsu1s3HM47HAkR1VW1/Djfy+ltEc7rj9zYIP2HT2oC+cO7c7vX1nNgYqqNEUoIiLiUQJDRERy1lPvbGHjniMtauyL+q4/cwBmxkNvakpVaZxpc9axbvdhfnj5CArzG/7R8NsXDmPf4Sr+/NraNEQnIiJSRwkMERHJSdU1tdw7axXH9+7A+cdHn+6xJejdsQ0XndCTv83fSEWVxiGQhtlVXsk9M1cxYXgPzhvauF5MJ/XryCUn9uL+19aw59DRFEcoIiJSRwkMERHJSTPe28raXYf42sTSFtv7ImJyWQn7Dlfx1Dubww5FcswvX1jOkaoafnDZ8U2q55sXDOVIVQ2/n70qRZGJiIgcSwkMERHJOTW1jnteXsmwnu25cESvsMMJ3ZhBXRjeqz3T5mhKVUne+1v2M33+RiaXlXBc93ZNqmtIz/ZcdVpfHpi7nm37K1IUoYiIyIcpgSEiIjnnmcVbWb3zEDdPLCUvr2X3vgBvNogpY0tYuvUAC9bvDTscyQHOOW7/11I6tSnkaxOHpKTOb5w/lFrnJRdFRETSQQkMERHJKbV+74vSHu245MTeYYeTNT5yah86tC5gmqZUlSQ8t2Qbb67dwzcvHEbHtoUpqbN/l7Zce8YA/jZ/I+t3H0pJnSIiIkFKYIiISE55/v1trNhezs0TSslX74v/aFtUwCfP6M9zS7ax/YC68EtsFVU1/PiZZQzr2Z7rzuif0rpvnlBKQb7x65fUC0NERFJPCQwREckZtbWOu2euZHC3Yi4/uU/Y4WSdSWeWUOMcD8/TlKoS259fX8umvUe47YoRFDRi2tR4enRozZSyEp58ZzMrth9Mad0iIiJKYIiISM54adl2Pth2kK+OV++LaAZ0bcuEYT145K0NVFZrSlU51o4DFdw7axUXjOjJWaXd0nKML513HMVFBfzyheVpqV9ERFouJTBERCQnOOe45+VVDOjSlo+cqt4XsUwZW8Ku8qM8u3hb2KFIFvq/55dTVVPLDy5t2rSp8XQuLuLz5wzm+fe38+7GfWk7joiItDxKYIiISE6YvXwnizfv56bxpSnv9t6cnF3ajcHdipmqwTylnvc27ePxhZv47FmDKOlWnNZjffbsEjq3LeRO9cIQEZEU0idAERHJes55Y1/07dSGj57eN+xwslpenjG5bCDvbNynX7/lPyLTpnZrV8RNE0rTfrz2rQv5yrhSXlu5i7mrd6f9eCIi0jIogSEiIlnvtZW7eGfjPr46vpRC9b5I6OMj+1FclM+0uevCDkWyxL/e28qC9Xu59cJhtG+dmmlTE5lUNpCeHVpx5wvLcc5l5JgiItK86VOgiIhktUjviz4dW/Pxkep9kYz2rQv5+Mh+zHh3K7vLK8MOR0J25GgNP3tmGSN6d+ATo1I7bWo8rQvzuWXiEBau38us5TsydlwREWm+lMAQEZGsNnf1bhau38uXxx1Hq4L8sMPJGZPLSjhaU8v0+RvDDkVC9qdX17BlfwX/c8WIjM/ec82o/gzo0pY7n19Bba16YYiISNMogSEiIlnt7pkr6dmhVUZ/OW4OSnu045wh3Xho3nqqa2rDDkdCsnX/Ef7wymouPakXYwZ3zfjxC/Pz+MYFQ1i69QDPLNma8eOLiEjzogSGiIhkrXlrdvPm2j186bzjaF2o3hcNNbmshK37K3hx6fawQ5GQ/PzZD6hxju9fkr5pUxO58pS+DO3ZjrteWKFkmoiINIkSGCIikrXueXkl3dq14rrRA8IOJSdNGN6Dfp3baErVFmrRhr08+c4WPn/OIPp3aRtaHPl5xrcuHMaaXYf456LNocUhIiK5TwkMERHJSgvW7eGNVbv50nmD1fuikfLzjElnDuTNtXtYtvVA2OFIBtXWOv73X0vp0b4VXxmX/mlTE7lwRE9O6deRu2eupLK6JuxwREQkRymBISIiWek3L6+ia3ERnxqj3hdN8ckz+tO6MI8H5q4POxTJoCff2cy7G/fxnYuHU9yqIOxwMDNuvWgYm/cd4dE3N4QdjoiI5CglMEREJOu8vWEvr67YyY3nDKZtUfhfvnJZp7ZFXHVqX558ezP7D1eFHY5kwKHKan7+3Aec0q8jHzste6YePru0G2cO7sJvZ63i8NHqsMMREZEcpASGiIhknXteXkWntoVMKhsYdijNwuSyEo5U1fDYQk2p2hL84ZXVbD9QyW1XjCAvw9OmxmNmfPuiYewqP6pxWUREpFGUwBARkayyeNN+Xv5gBzeePYh2WdD1vTkY0acDo0u68MDc9dTUurDDkTTatPcwf3p1DVee0oeRA7uEHc4xRg7swoThPfjD7NXsP6IeQSIi0jBKYIiISFb5zcsr6dC6gMljS8IOpVmZMraEDXsOM3v5jrBDkTT66bMfYAbfu2R42KHE9K0Lh3Kgopr7Xl0TdigiIpJjGpTAMLPOZnZyuoIREZGW7f0t+3lx6XY+e/YgOrQuDDucZuXCE3rSq0Nrpmkwz2brrbV7+Pd7W/niucfRp1ObsMOJ6YQ+Hbn85N785Y217CqvDDscERHJIQkTGGY228w6mFkXYBFwn5ndlf7QRESkpfnty6to36qAz4wdFHYozU5hfh7XjxnAqyt2snpnedjhSIrV1jpun/E+vTu25kvnHRd2OAl944KhVFTV8LtZq8MORUREckgyPTA6OucOAB8DHnDOjQHOT29YIiLS0izfdpBnl2zjhrNK6NhWvS/S4drRAyjKz+NB9cJodh5ftIklmw/wvUuG06YoP+xwEjquezuuHtmPh+atZ/O+I2GHIyIiOSKZBEaBmfUGrgFmpDkeERFpoe55eSXFRfl89iz1vkiX7u1bcdnJvXl84SbKKzWNZXNRXlnNL55fzukDOnHlKX3CDidpt0wcAsA9M1eGHImIiOSKZBIYtwPPA6udc/PNbDCQ1H8aM7vYzJab2Soz+16U7eea2SIzqzazqwPrTzWzuWb2vpm9Z2afDGybamZrzewdfzk1mVhERCR7rdpxkH8v3srksSV0Li4KO5xmbcrYEsorq/nnok1hhyIpcu+sVew8WMn/XHECZtkzbWoi/Tq35VNjBvDYwk2s3XUo7HBERCQHJExgOOcec86d7Jz7sn9/jXPu44n2M7N84F7gEmAEcJ2ZjahXbANwA/BIvfWHgcnOuROAi4Ffm1mnwPZvO+dO9Zd3EsUiIiLZ7d5Zq2ldkM+NZ6v3Rbqd2r8Tp/TryLQ563BOU6rmug27D/Pn19bysdP7ckr/Tol3yDJfGX8cRfl5/OrFFWGHIiIiOSCZQTyHmtlMM1vi3z/ZzP47ibpHA6v8hMdRYDrwkWAB59w659x7QG299Succyv921uAHUD3pB6RiIjklLW7DvHUO5uZVDaQru1ahR1OizBlbAmrdx7ijVW7ww5FmugnzyyjIN/47sXZO21qPD3at+YzZ5Xw9LtbWLrlQNjhiIhIlrNEv76Y2SvAt4E/OudO89ctcc6dmGC/q4GLnXM3+vcnAWOcczdFKTsVmOGcezzKttHANOAE51ytX7YMqARmAt9zzh0zB5eZfQH4AkDPnj1HTp8+Pe7jzEbl5eW0a9cu7DBaBLV1Zqm9Myvb2/v+xZW8ubWaO89rS8dWudP9PZZsb2+AqlrHN2cfprRTPl87vXXY4TRaLrR1Oi3bXcPP51fwsSGFXHlc+i+9Sld7H6py3PrKYYZ1zufrI3P3fEy1ln5+Z5LaOrPU3pmVq+09fvz4hc65UfXXFySxb1vn3Fv1rqnMyMhf/uChDwJTnHORXhrfB7YBRcCfgO/ijdPxIc65P/nbGTVqlBs3blwmQk6p2bNnk4tx5yK1dWapvTMrm9t7w+7DzH1hNlPKBvGRi+pfZZibsrm9g6ZULefe2as47uTR9O/SNuxwGiVX2jodamodP7/ndfp2Mn4y+TxaF6Z/5pF0tvfa/JXc+cIKOgw+hdMHdE7LMXJNSz6/M01tnVlq78xqbu2dzCCeu8zsOMDBf3pWbE1iv81A/8D9fv66pJhZB+DfwA+cc/Mi651zW52nEvgr3qUqIiKSg343exX5ecYXzxscdigtzvVnDiDPjIfmaUrVXPS3+RtZtvUA/3Xp8RlJXqTbZ84aRNfiIu58fnnYoYiISBZLJoHxVeCPwHAz2wx8HfhyEvvNB4aY2SAzKwKuBZ5OJii//BPAA/UvK/F7ZWBel5CrgCXJ1CkiItll097DPL5wE9ed0Z+eHdRtPNN6d2zDRSf0ZPr8jRw5WhN2ONIAByqq+OULyxld0oVLT+oVdjgpUdyqgK+OL2XO6t28sWpX2OGIiEiWSmYWkjXOufPxBtEc7pw72zm3Lon9qoGb8KZgXQb83Tn3vpndbmZXApjZGWa2CfgE8Ecze9/f/RrgXOCGKNOlPmxmi4HFQDfgRw15wCIikh1+P3s1eWZ8adxxYYfSYk0pK2H/kSqefjfpDpKSBe6ZuZI9h49y2xUjcmra1EQ+NWYAfTq25v+eX64ZckREJKpkZiH5iZl1cs4dcs4dNLPOZpZU0sA594xzbqhz7jjn3I/9dbc55572b893zvVzzhU757r606binHvIOVcYmCr1P9OlOucmOOdOcs6d6Jz7tHOuvPEPX0REwrBl3xH+vmAjnxjVj94d24QdTos1elAXhvdqz9Q56/WFMUes3XWIqXPWcc3I/pzYt2PY4aRU68J8bpk4hHc37uOlZTvCDkdERLJQMpeQXOKc2xe545zbC1yavpBERKS5++Mrq3EOvqzeF6EyM6aMLWHZ1gPMX7c37HAkCT/+91JaFeRz60XDwg4lLT4+sh+DuhVz5/PLqa1VUk1ERD4smQRGvpm1itwxszZAqzjlRUREYtp+oIJH52/k6pH96Nc5N2e/aE6uOrUvHdsUMm3uurBDkQReW7mTl5bt4KYJpXRv3zw/ihXm5/GNC4ayfPtB/vXelrDDERGRLJNMAuNhYKaZfc7MPge8CExLb1giItJc/fGVNdTUOr4yrjTsUARoU5TPJ8/oz3NLtrFtf0XY4UgM1TW13DFjKQO7tuUzZ5WEHU5aXX5Sb4b3as+vXlxBVU1t2OGIiEgWSWYQz58DPwaO95c7nHP/l+7ARESk+dlxsIKH31zPR0/ry4Cu6n2RLT49ZiC1zvHIm5pSNVs98tYGVmwv578uPZ5WBbk/bWo8eXnGrRcOY91ub6YiERGRiGR6YOCce9Y5d6u/PJ/uoEREpHm6/7W1VNXU8tXx6n2RTQZ0bcvE4T145K0NVFZrStVss+/wUe56cQVjj+vKhSN6hh1ORkw8vgenDejE3S+tpKJK56SIiHhiJjDM7HX/70EzOxBYDprZgcyFKCIizcHu8koenLueK0/pw6BuxWGHI/VMLithV/lRnlm8NexQpJ5fv7SSA0eqmt20qfGYGd++aBjbDlTw0Dz1DBIREU/MBIZz7mz/b3vnXIfA0t451yFzIYqISHNw/+trqaiu4aYJ6n2Rjc4u7cbg7sVMm6Mvi9lk1Y6DPDhvPdeNHsDwXi3r49fY47pxVmlXfj97NeWV1WGHIyIiWSDhJSRm9hszK8tEMCIi0jztPXSUB+as47KTelPao33Y4UgUeXnGlLIS3tm4j3c37ku8g2TEHTOW0bYon29eMDTsUEJx64XD2H3oKH99fW3YoYiISBZIZgyMhcAPzWy1md1pZqPSHZSIiDQvf3ljLYeO1nDzhCFhhyJxfOz0vhQX5TNtzrqwQxFg1gc7eGXFTr42cQhd2zXPaVMTOW1AZy4Y0ZM/vbqGfYePhh2OiIiELJlZSKY55y4FzgCWAz83s5Vpj0xERJqF/YermPrGOi45sRfDeqn3RTZr37qQq0f2Y8Z7W9lVXhl2OC1aVU0td/x7KYO7FTO5rCTscEL1rQuHUn60mj++uibsUEREJGRJzULiKwWGAwOBD9ITjoiINDd/nbOWg5XVGvsiR0wqK+FoTS3T39oQdigt2gNz17Nm5yH++/LjKSpoyMe15md4rw5ceUof/vrGWnYcrAg7HBERCVEyY2D8n9/j4nZgMTDKOXdF2iMTEZGcd6Ciir+8vpYLRvTkhD4dww5HklDaox3nDOnGQ/M2UF1TG3Y4LdKeQ0e5+6UVnDu0O+OH9Qg7nKzwjfOHUlXjuPflVWGHIiIiIUompb8aKHPOXeycm+qc08heIiKSlAfmrONARTW3aOyLnDKlrIRtByp4Yen2sENpke56cTmHjtbww8uObzHTpiZS0q2Ya0b155G3NrBxz+GwwxERkZAkk8C4D7jYzG4DMLMBZjY6vWGJiEiuK6+s5v7X1zJheA9O6qfeF7lk/PAe9OvchqkazDPjPth2gEfe3MCkMwcypKfGjAm6ZWIpZsZvZRNbzgAAIABJREFUZmooNhGRliqZBMa9QBlwnX//oL9OREQkpofmrWff4Spu1tgXOSc/z5hcNpC31u5h2dYDYYfTYjjnuGPGUjq0KeTr56vXUn29O7Zh0pkD+ceiTazaUR52OCIiEoJkEhhjnHNfBSoAnHN7gaK0RiUiIjnt8NFq7nt1DecO7c5pAzqHHY40wjWj+tO6MI8H5q4LO5QW48Wl23lj1W6+cf5QOrXVR61ovjLuONoU5vOrF1eEHYqIiIQgmQRGlZnlAw7AzLoDGtVLRERieuTNDew+dJSvTVTvi1zVqW0RV53alyfe3sy+w0fDDqfZq6yu4cfPLGNIj3ZcP2ZA2OFkra7tWvG5swfx78VbWbJ5f9jhiIhIhiWTwPgN8ATQw8x+DLwO/CStUYmISM6qqKrhD6+s4azSrowc2CXscKQJpowtoaKqlscWbAo7lGZv6hvrWL/7MD+8fAQF+S172tREbjx3MB3bFPLLF5aHHYqIiGRYwv+QzrmHge8APwW2Alc55x5Ld2AiIpKbHn1rA7vKKzXzSDNwfO8OjB7UhQfmraOm1oUdTrO182Al97y8ionDe3Du0O5hh5P1OrQu5EvnHces5TuZv25P2OGIiEgGJUxgmNlJwEnADmC2c25Z2qMSEZGc5PW+WM2YQV0YM7hr2OFICkwpK2HjniPMXr4j7FCarV++sJzK6hp+cNnxYYeSM6aMHUj39q34xfPLcU7JNRGRliJmAsPMOprZbOBJ4FPA9cBTZjbLzDpkKD4REckhjy3YyPYDlXxtonpfNBcXntCTXh1aa0rVNFmyeT9/W7CRKWUlDO7eLuxwckbbogJuGl/KW2v38NrKXWGHIyIiGRKvB8YdwAJgiHPuo865q4ChwHzgx5kITkREckdldQ2/m72aUQM7U3acel80F4X5eVw/ZgCvrdzF6p2aujKVnHPcPmMpndsWcbOSfg127ej+9O3URr0wRERakHgJjPOB7znn/jPjiHOuBvgvf5uIiMh//GPhZrbur+CWiUMws7DDkRS6bswAivLzeHDu+rBDaVaeXbKNt9bu4VsXDqVjm8Kww8k5rQry+fr5Q1i8eT/Pv78t7HBERCQD4iUwjjrnquuv9NdVpi8kERHJNVU1tdw7axWn9u/EOUO6hR2OpFi3dq24/OTePL5wE+WVx3w0kEaoqKrhJ88sY3iv9lx7hqZNbayPntaX47oXc+cLKzTQrIhICxAvgdHazE4zs9PrLSOBVpkKUEREst8Tizazed8RvqbeF83W5LEllFdW84+FmlI1Ff78+lo27T3CbVeMID9Pr5nGKsjP45sXDGPVjnKeemdz2OGIiEiaFcTZthW4K8Y29dMTEREAqmtq+e2sVZzUtyPjhmkKyObq1P6dOKV/J6bNXcfksoFKVDXB9gMV/5+9+w6L6kz/P/5+6E1ApFioUu29gA3sJiamuIkpxhRTjWlGTXY32f1mN5vYExNNzJqiaab3KCrF3o1dEEQUEUVEeofn94ckP9dYUBnODNyv6zoXU8458+E4DjP3POe5WZCQyvD2PkQFy4il6zWqY0s6tHZl3upDjO7cGjubKzbZE0IIYaEu+QqvtY653NKQIYUQQpivH3ad4FhuCZMHh8iH2kbu/qgA0k4Xsz5Vuj5cj5krkqmq1tI2tZ5YWSmeHxFORm4pX2zPMDqOEEIIE5IStRBCiGtWXaN5OyGVdq1cGdbex+g4wsRu6NQKTxc7lmyUyTyv1e6MPL7ZeZwH+gcS0MLZ6DiNRnSYF70Cm/NWXAplldVGxxFCCGEiUsAQQghxzX7ec4IjOcU8JaMvmgR7G2vu6u1PXNIpMnJLjI5jcX5vm+rpYs+TMSFGx2lUlFI8Pzyc7MJylm5KNzqOEEIIE5EChhBCiGtSXaN5Kz6VMB8XRnRoaXQc0UDu7uOPlVJ8vFlGYVytH3efYMfRs0wdEUYzB2mbWt/6tG3BwDAvFiYeprCs0ug4QgghTOCSBYyLdB/5n6UhQwohhDA/y/dlkZpdxOTBoVhJF4Umo5WbIyM7tOSLbRmUVshQ/boqrajm9eVJdGjtytgefkbHabSmDg8nr6SSxeuOGB1FCCGECVxuBMac2mUBsAV4D/hv7eUFpo8mhBDCXNXUaN6KSyXYy5kbOrUyOo5oYBOiAskvrZS2lVdh0drDZOWX8Y+bOkjbVBPq5OvGyA4teX/9EXKLK4yOI4QQop5dsQsJ59qpdtda99Ra9wC6AfKORQghmrCVB06SfKqQyYND5cNYE9QrsDkRLZvx0cZ0tNZGxzF7J/JKeXfNYW7s1IreQR5Gx2n0pgwPo7iiinfXHDY6ihDiAovXpfFNihQXxbWryxwY4Vrrvb9f0VrvA+rU90spNVIplayUSlVKvXCR+wcqpXYqpaqUUmMvuG+CUiqldplw3u09lFJ7a/c5X8mscUII0aC01syPSyXI05nRnWX0RVOklOL+qECSThayLf2s0XHM3owVSdRoeGFUhNFRmoRQn2bc2q0NSzamc6qgzOg4QohaR3KKeW15Ej8drmR3Rp7RcYSFqksBY49SarFSKrp2+S+w50obKaWsOXeqySigPXCXUqr9BasdA+4HPrtgWw/gH0AfoDfwD6VU89q73wEeBkJrl5F1+B2EEELUk7iD2RzIKmBSTAg21jIXdFM1pmsb3BxtWbIx3egoZm3H0bP8sOsEjwxoi5+Hk9Fxmoxnh4ZRozVvxacYHUUIUWvOymTsbaxoZgszY5OMjiMsVF3eeT4A7Aeerl0O1N52Jb2BVK11mta6AlgGjDl/Ba11utZ6D1BzwbYjgFVa61yt9VlgFTBSKdUKcNVab9bnxqwuBW6pQxYhhBD1QGvN/PgU/D2cGNO1tdFxhIEc7ay5s5cfK/af5GS+fMt9MTU1mld+2o93M3sejw42Ok6T4ufhxJ29/Fi2NYNjZ6TlrxBG23s8n5/3ZDGxfxA3BduxIfUM61JOGx1LWCBVl3NXlVKOgL/WOrnOOz53SshIrfXE2uvjgT5a6ycvsu5HwM9a669rrz8POGit/117/SWgFEgEXtdaD629fQAwXWs9+iL7fAR4BMDHx6fHsmXL6hrdbBQVFeHi4mJ0jCZBjnXDkuPdsOrzeO85XcXcHeU80NGOQb7SBvJimtLz+3RJDdPWljI62JbbQ+0a/PHN/VhvyKzkv3sreLiTHf3aWP7/F3M/3hc6W3bu+dmrpQ2PdLY3Os5Vs7TjbcnkWJve7G1lpBdUM2uQE2Ulxfx7pxXN7BQvRzpgJTMCmJSlPr9jYmJ2aK17Xni7zZU2VErdDMwC7IAgpVRX4BWt9c31H7P+aK3f41znFHr27Kmjo6ONDXQNEhMTscTclkiOdcOS492w6ut4a615Y+FG2rhb8eK4aOxs5PSRi2lqz+/Y09vYlJHH7AcGYG9j3aCPbc7Huri8immzE+ni586Ld0U1ilbD5ny8LyWp5iDvrUvjn3dGEebTzOg4V8USj7elkmNtWhtTc9i3Ygt/v7Edowa0JTExkb/eFMKUr3ZT2iKCG2U+LZNqbM/vurz7/AfnTgfJA9Ba7wKC6rBdJnB+o3Nf6t695FLbZtZevpZ9CiGEuA7rU3PYlZHHEzHBUrwQf5gQFUhOUQW/7s0yOopZeSfxMNmF5bw8un2jKF5YqscGBeNsZ8PclYeMjiJEk6S1ZkZsMq3dHLi3b8Aft9/SrQ1hPi7MXplMZfWFswkIcWl1eQdaqbXOv+C2uvRM2waEKqWClFJ2wDjgxzrmigWGK6Wa107eORyI1VpnAQVKqb613UfuA36o4z6FEEJcI601b65OoZWbA2N7+F55A9Fk9A/xpK2XMx9tPGp0FLORkVvCe+vSGNO1NT0Cml95A2EyzZ3tmDggiBX7T0rXAyEMEFv7f++ZYWE42P7/UXrWVoqpIyI4klPMV9uPG5hQWJq6FDD2K6XuBqyVUqFKqbeAjVfaSGtdBTzJuWLEQeBLrfV+pdQrtaeloJTqpZQ6DvwFWKSU2l+7bS7wL84VQbZx7pSV3NpdPwEsBlKBw8Dyuv+6QgghrsWmtDNsP3qWx6ODG/w0AWHelFJMiAxkd0Yeu+QDIgCvL0/CSsH0kdI21Rw81D+I5k62zF5Z56nchBD1oKq6hlmxyYR6u3B79z9/+TG0nTc9AprzZtwhSiuqDUgoLFFdChiTgQ5AOfA5UAA8U5eda61/1VqHaa2Dtdav1t72stb6x9rL27TWvlprZ611C611h/O2/UBrHVK7fHje7du11h1r9/mkrssspEIIIa7L/LgUvJvZc0dPvyuvLJqc23v44mJvw1JpqcqWtDP8sjeLxwYF09rd0eg4AmjmYMsT0SGsS8lhc9oZo+MI0WR8uzOTw6eLeX5EONYXOZVOKcX0kRGcKihnyab0Bs8nLNMVCxha6xKt9d+01r201j1rL0u/NBPSWrMwMZWsIjkfTAhhvC1pZ9iclstjg4L/Z/inEL9zsbdhbA9fft6TRU5RudFxDFNdo3nl5wO0dnPg0YHSNtWcjI8MwMfVntmxych3X0KYXlllNfNWH6KrnzvD2/tccr3eQR7EhHuxMCGV/JLKBkwoLNUlCxhKqZ+UUj9eamnIkE1NRm4pb6xK4cX1pTz40TY2pubIH1shhGHeik/F08Weu3r7Gx1FmLHxkQFUVNewbOsxo6MY5usdGew/UcD0URE42kmxz5w42FozeXAo24+eJTH5tNFxhGj0Pt50lKz8MqaPjEBdoU3qtJERFJZX8e7aww2UTliyy43AmA3MucwiTMS/hRMbXhjMmGBbdmfkcffiLdwwfz1f7zhOeZWcHyaEaDg7juayPjWHRwe2lQ9k4rKCvVwYEOrJJ5uPNckZ5QvLKpkVm0yPgObc3KW10XHERdzR0w9/DydmxSZTUyNfDAlhKgVllSxITGVQmBeRwS2uuH67Vq6M6dKaDzcc4VSBDPQXl3fJAobWes3lloYM2RR5NbPn1lA7NrwwmBm3d6K6pobnv9pN/xkJvBWXQm5xhdERhRBNwPy4VDyc7binr4y+EFc2ITKQkwVlrNx/yugoDe7thFRyiip4eXT7K37bKIxhZ2PFs8NCOZBVwPJ9J42OI0Sj9d6aNPJKKpk6IrzO2zw3LJyqas2bcSkmTCYag8udQvJl7c+9Sqk9Fy4NF7Fpc7C15s5e/sQ+M5CPH+pN+1auzFl1iMjX4njx272kZhcaHVEI0UjtyshjzaHTPDygLU52NkbHERYgJsIbPw/HJjcZ29EzxXy4Pp3bu/vSxc/d6DjiMm7u0oZQbxfmrEqmqgmOFBLC1LILy3h//RFu6tKajm3c6rydfwsn7u7jzxfbMjiSU2zChMLSXe4Ukqdrf44GbrrIIhqQUooBoV4sebA3q54dyG3d2/DtzuMMnbuW+z/cyrqU0zJPhhCiXr0Vl4K7ky3jIwOMjiIshLWV4r6+gWw9ksvBrAKj4zSYV385iI21YtrIun/bKIxhbaWYMjyctNPFfPtbptFxhGh03o5PpbK6hinDwq5628mDQ7G3sWKOtDwWl3G5U0iyan8evdjScBHFhUJ9mvHabZ3Z+MJgnhsWxr7MAsa/v5VRb67jy20ZlFXKPBlCiOuzLzOfuKRsHuoXhIu9jL4QdfeXnr442FqxpIm0VN2YmsPKA6eYFBOCj6uD0XFEHYzo4ENnXzfeXJ0ic4sJUY+OnSnhsy3HGNfbj0BP56ve3quZPQ/1D+LnPVnsy8w3QULRGFyxjapSqq9SaptSqkgpVaGUqlZKNZ2vVcxYCxd7nhoSyoYXYpg1tjMA077ZQ/8Z8byx+lCTbmUnhLg+8+NSaOZgw4R+gUZHERbG3cmOW7u14ftdmeSVNO75mqqqa3jl5wP4Nnfkof5BRscRdaSU4vnh4WTmlbJsa4bRcYRoNOasSsbW2oqnBode8z4eHtiW5k62zFiRVI/JRGNyxQIG8DZwF5ACOAITgQWmDCWujr2NNX/p6cfypwfw6cQ+dPZ1543VKUS9Hs/0r/dw6JTMkyGEqLsDJwpYeeAUD/YLwtXB1ug4wgLdFxlIWWUNX25v3B8Ol23LIOlkIX+9oR0OttKlx5IMCPWkT5AHb8WnUlJRZXQcISze/hP5/LDrBA/2D8T7OkajuTrYMikmhHUpOWxMzanHhKKxqEsBA611KmCtta7WWn8IjDRtLHEtlFL0C/Hkg/t7sfq5Qfylhy8/7M5k+Ly1jH9/C4nJ2TJPhhDiit5OSMHF3oYH+8k3yuLatGvlSu8gDz7efJTqRtquMr+0krmrDtE7yINRHVsaHUdcJaUUU0eEk1NUzkdN5HQnIUxpdmwybo62PDIw+Lr3dW/fAFq5OTAjNlk+u4g/qUsBo0QpZQfsUkrNVEo9W8fthIFCvF149dZObHphCFNHhJN8spD7P9zG8Hlr+XzrMZknQwhxUcknC/l170nujwrEzUlGX4hrd39UIBm5pSQkZRsdxSTmx6VwtkTaplqynoEeDI7wZtGaNPJLK42OI4TF2pJ2hoTk0zwRHYyb4/W/d3CwtebZoWHszsgjdr+0PBb/qy6FiPG16z0JFAN+wO2mDCXqT3NnOybFhLB++mDm3tEFW2srXvx2L1GvxzN3ZTLZhWVGRxRCmJG3E1JxsrOW8/nFdRvW3oeWrg6NsqXq4dNFLNmYzp09/a6qTaAwP1OGh5FfWsnidWlGRxHCImmtmbEiiZauDkyICqy3/d7WvQ3BXs7MipWWx+J/XbKAoZTyhz+6kJRprQu01v+ntX6u9pQSYUHsbKy4rbsvvzzVn88f7kt3f3feSkil/+sJPP/V7ibV7k4IcXGp2UX8vOcE90UG0tzZzug4wsLZWltxb19/1qXkkJpdZHScevXqLwdxsLVmynBpm2rpOrR248bOrXh//RGZ/FyIa7D6YDY7j+XxzNDQep0LyMbaiqkjIjh8uphvd0rLY/H/XW4Exve/X1BKfdMAWUQDUEoRGdyCxRN6EffcIO7s5ccve7IY9eY67lm8mYSkbGoa6fnKQojLW5iQioONNRMHyOgLUT/G9fbHztqKjzelGx2l3qw5dJr4pGwmDw7Bq5m90XFEPXhuWBhlldUsTDhsdBQhLEp1jWZWbBJtPZ0Z28O33vc/ooMPXfzcmbf6kJz+Lv5wuQLG+Sd0tjV1ENHw2nq58K9bOrLpxcFMHxnB4exiHvhoG0PnreHTLUcprZAXCiGaivScYr7flcm9ff3xdJEPZaJ+eLrYM7pzK77ecZzCMsufY6CyuoZ//XyAgBZO3C8thhuNYC8Xxvbw5ZMtRzmRV2p0HCEsxne/ZXLoVBHPjwjHxrr+p0hUSjF9ZDhZ+WV8vOlove9fWKbLPdP0JS6LRsbdyY7Ho4NZNz2GN8d1xdnOhr99t4+o1+OYHZtMdoHMkyFEY7cgIRVbayseHij1alG/JkQFUlxR3SiGAH+6+Sip2UX87YZ22NtI29TG5KkhoWiteSs+xegoQliE8qpq5q06RGdfN5N2YooK9mRgmBcLElMpaASFcHH9LlfA6KKUKlBKFQKday8XKKUKlVIyYUIjZGttxZiubfjxyX58+WgkvQI9WJCYSr8Z8Tz35S72n8g3OqIQwgQyckv49rdM7u7jj3eza+/dLsTFdPFzp4ufO0s2pVv0KYpniyuYtzqFfiEtGNbex+g4op75Nnfinj4BfLn9OEdyio2OI4TZ+2TzMTLzSpk+MsLknZimjQgnr6SS/66VyXbFZQoYWmtrrbWr1rqZ1tqm9vLv110bMqRoWEopegd58N59PUl8Ppp7+gSwYt9Jbpy/nrve28zqA6cs+k2oEOJ/LUxMxdpK8dig6+/dLsTF3B8VQNrpYjYczjE6yjV7Y/UhCssqeUnapjZaT8QEY2dtxRurDxkdRQizVlhWyYKEVPqHeNIvxNPkj9exjRujO7di8boj0kFR1KmNqmjCAlo488+bO7DpxSG8OCqCo2eKmbh0O0PmruHjTemUVFQZHVEIcR2Ony3h6x3HGdfLDx9XGX0hTOOGTq3wdLFjycZ0o6Nck0OnCvlkyzHu7uNPREv5Dqex8m7mwP39Avlx9wnpzibEZSxed4Tc4gqmjWy4TkzPDw+nsrqGt+OlGWZTJwUMUSdujrY8OiiYNdNimH9XN1wdbHjph/1EvhbPjBVJnMyXaqgQlujdNedm3ZfRF8KU7G2suau3P3FJ2Rw7U2J0nKuiteZfPx/A2c6a54ZJ29TG7tGBbXGxt2HOShmFIcTF5BSVs3hdGjd2akVnX/cGe9xAT2fu7OXHZ1uOWdzfEVG/LlnAUErJNPTiT2ytrbi5S2u+n9SPrx+LJCq4BYvWHKb/jHieWfYbe4/LPBlCWIqs/FK+3Hacv/T0o7W7o9FxRCN3T58ArJXiky2WNZN8fFI261JyeHpoGB7OdkbHESbm7mTHowPbsvrgKXYeO2t0HCHMztvxqZRV1fDc8LAGf+ynhoRiY62Ysyq5wR9bmI/LjcDYBKCU+riBsggLopSiZ6AH79zbgzVTY7gvMpBVB05x09vruWPRJmL3n6Ra5skQwqwtWpNGjdY8LqMvRANo6ebAiI4t+WJbhsW06a6oquHfvxykrZcz90UGGB1HNJAH+gXRwtmOOSvlQ5IQ58vILeHTLUe5o6cvwV4uDf74Pq4OPNAviB92nZDmAk3Y5QoYdkqpu4EopdRtFy4NFVCYPz8PJ16+qT2b/jqEv9/YjsyzpTz68Q4Gz0nkow1HKC6XeTKEMDfZBWV8tvUYt3f3xc/Dyeg4oomYEBlIfmkl3++yjJaqSzelcySnmJdubI+ttZx121Q429vwREwIG1LPsCHVcieeFaK+zVt9CCuleHpIw4+++N1jg4Jxc7RldqwUGJuqy/01fgwYALgDN12wjDZ9NGFpXB1smTigLWumRrPg7u60cLbjnz8dIPK1OF779SAn8kqNjiiEqLVobRrVNZonYmT0hWg4vQKb066VK0s2pqO1eY/SO1NUzptxKQwK8yImwtvoOKKB3dPHn1ZuDsyKTTb756oQDSHpZAHf/ZbJ/f0Caelm3KTfbo62PB4dTELyabaknTEshzDO5dqortdaPw5M01o/cMHyYANmFBbGxtqKGzu34tsn+vHtE1EMCPPiv+vSGDAzgcmf/8bujDyjIwrRpJ0uLOfTLUe5pWsbAlo4Gx1HNCFKKSZEBpB0spCtR3KNjnNZc1YdoqSimpdGtzM6ijCAg601Tw8JZVdGHnEHs42OI4ThZscm08zexixOO50QGYiPqz0zViRJgbEJqst4yI+VUk8ppb6uXSYrpWxNnkw0Ct39m7Pg7u6snRbDg/0CSUzKZsyCDYx9ZyMr9mXJPBlCGGDxujQqqmqYJKMvhAHGdG2Dm6MtSzeZ72SeB7MKWLb1GOP7BhDi3czoOMIgt/fwJcjTmdkrk6mR9yuiCduensvqg9k8Fh2Mu5Pxkxk72lnzzNAwdh7LY7UUGJucuhQwFgI9an8uBLoD75gylGh8fJs78bcbz82T8fLo9pwqLOOxT3YSPTuBD9YfoUjmyRCiQZwpKmfppqPc1KU1bQ2YgEsIRztrxvXyY8X+k2Tlm9+phVprXvnpAK6OtjwzNNToOMJAttZWPDM0lKSThfy054TRcYQwhNaaGSuS8G5mzwNRQUbH+cNfevjS1tOZWbFJ8oVoE1OXAkYvrfUErXV87fIA0MvUwUTj5GJvw4P9g0h8PoZ37+2OTzMHXvn5AJH/iePVXw5w/Kz0dRbClN5ff4SyqmqejAkxOopowu7tG0CN1ny6+ZjRUf4kdv8pNqWd4blhYWbxTaMw1k2dWxPRshnzVh2isrrG6DhCNLiE5Gy2pZ/lqSGhONpZGx3nDzbWVkwZHs6hU0V895tlTAwt6kddChjVSqk/xhkrpdoCltH/TJgtayvFyI6t+PrxKL6f1I/oCG8+2JDOoFmJTPp0p/ReF8IE8koqWLIxnRs6tSLUR4bFC+P4eTgxJMKHz7ceo7zKfN5SlFdV859fDxLm48Ldvf2NjiPMgJWV4vnh4aSfKeGbHceNjiNEg6qp0cxckUxgCyfu7OVndJw/uaFTSzq1cWPeqkNm9bdEmFZdChhTgQSlVKJSag0QD0wxbSzRlHT1c+etu7qxbloME/sHsTblNLct3MitCzfwy54squQbDyHqxQfrj1BcUc3kwTL6Qhjv/qhAzhRX8MueLKOj/OGD9ekcyy3hpdHtsZG2qaLWkHbedPVz5824FMoq5UOSaDp+3H2CpJOFTBkebpatpJVSTB8ZQWZeqVmO6BOmccVnotY6DggFngImA+Fa6wRTBxNNT2t3R168oR2bXxzC/93cgdziCiZ9tpNBsxJZvC6NgrJKoyMKYbHySyv5cEM6Izu0JKKlq9FxhKBfSAuCvZxZsjHd6CgAZBeW8XZ8CkPbeTMg1MvoOMKMKKWYNiKcrPwyPt0iH5JE01BRVcOcVcl0aO3KjZ1aGR3nkvqHetIvpAVvJ6RSKJ8VmoQ6ldK01uVa6z21S7mpQ4mmzdnehglRgcRPiWbR+B60ae7Iv385SNRr8bzy0wEycmWeDCGu1kcb0iksr2LyEBl9IcyDUooJUYHsPp7PLjNorz07NpmK6hr+dmN7o6MIMxQVcu5D0sKEVIpl4nHRBHy+9RgZuaVMGxmBlZUyOs5lTRsRQW5xBYvXHTE6imgA5jcWSIha1laKER1a8uWjkfz0ZH+GtvNm6aZ0Bs1K4PFPdrA9PVd6PwtRB6VVmg82HGFoOx86tHYzOo4Qf7ituy8u9jaGj8LYl5nPVzuOc39UIEGezoZmEebr+eHhnCmu4MMN8iFJNG7F5VW8FZ9CZNsWDAz1NDrOFXXxc+eGTi1ZvC6NnCL5rr2xkwKGsAidfN14Y1w31k8fzKODgtl4+Axj393ELQs38uPuEzIzuBCXEXe0kvzSSp6S0RfCzLixFPDpAAAgAElEQVTY2zC2hy+/7MnidKExbzp/b5vq4WTH5CHSNlVcWjf/5gxt58OitWnklVQYHUcIk3l//RFyiiqYNjIcpcx79MXvpgwPp6yqhrfjU42OIkzsigUMpVRcXW67xLYjlVLJSqlUpdQLF7nfXin1Re39W5RSgbW336OU2nXeUqOU6lp7X2LtPn+/z7suWUTj0NLNgekjI9j04mD+NaYDBaWVPPX5bwyamcCiNYfJL5Vz34Q4X3F5FSvSK4kJ96Kzr7vRcYT4k/GRAVRU17BsqzFzC/y69yRb03OZMjwcVwdbQzIIyzFleBhF5VUsWptmdBQhTCK3uIL31qYxooMP3fybGx2nzoK9XPhLD18+3XJUTjdv5C5ZwFBKOSilPABPpVRzpZRH7RIItLnSjpVS1sACYBTQHrhLKXXhiaUPAWe11iHAPGAGgNb6U611V611V2A8cERrveu87e75/X6tdXadf1vRaDjZ2TA+MpC45wax+L6eBLRw5rXlSUS+Fsc/f9zP0TPFRkcUwix8svkoRZXIN8vCbAV7uTAg1JNPthxt8NF0ZZXn2qa2a+Vqli0Chflp18qVm7u05qMN6WQXlhkdR4h6tzAhlZKKKqaOCDc6ylV7emgoVkoxb/Uho6MIE7rcCIxHgR1ARO3P35cfgLfrsO/eQKrWOk1rXQEsA8ZcsM4YYEnt5a+BIerP45Tuqt1WiD+xslIMbe/D54/05Zen+jOyY0s+3XKU6NmJPLJ0O1uPyDwZomkqq6xmYWIqb8al0LGFNd0t6FsU0fTcHxXIqYJyVu4/1aCPu3hdGpl5pbw8uj3WZj5JnTAfzw4No6K6hoUJh42OIkS9yswrZemmo4zt4UuIdzOj41y1Vm6O3B8VyHe/ZZJ8stDoOMJE1JU+3CmlJmut37rqHSs1FhiptZ5Ye3080Edr/eR56+yrXed47fXDtevknLfOYWCM1npf7fVEoAVQDXwD/Ftf5JdQSj0CPALg4+PTY9kyy6uBFBUV4eLiYnQMi5NXVkPcsSriMyoproRAVytGBNrSq6U1Npd4gyrHumHJ8TadGq1Zn1nFdymVnC3XdPWy5raAKvw95Xg3FHl+X70arZm+tpTmDoq/9nGs83bXc6zPltXwwrpSOnpaM7mbwzXto6mR5/b/9+G+ctZnVjFjoCOejqaZUk6Od8ORY33O+3vL2ZRVxYwBjrQw0fMaTHu8iyo0U9eWEN7cmmd6yGs7WO7zOyYmZofWuueFt9tcaUOt9VtKqSgg8Pz1tdZL6zXhRSil+gAlvxcvat2jtc5USjXjXAFjPPCnLFrr94D3AHr27Kmjo6NNHbfeJSYmYom5zcEtQGlFNd/+dpwP1h9h0Z5ifkh34L6oAO7u7Y+7k93/rC/HumHJ8a5/WmsSkrN5fXkSh05V0NXPnXdHRdCnbQs53g1Mjve1ecQ6jVd/PYh3WHfat3at0zbXc6yf+3IXmizm3TcQ/xZO17SPpkae2/9fWNdSomcnsqWoBbNGdTHJY8jxbjhyrCHlVCEbYtfyYL8gbh9l2nbSpj7eR21TmRWbjEtgZ3oGepjscSxFY3t+12USz4+B2UB/oFft8qdKyEVkAuefUOpbe9tF11FK2QBuwJnz7h8HfH7+BlrrzNqfhcBnnDtVRYg/cbSz5p4+Aax6dhAf3t+LEG8XZq5IJvK1eF7+YR9HcmSeDNE47MrIY9x7m3nwo+1UVmsW3tOd756Iok/bFkZHE6LO7ujph4OtFUs3pZv8sXZl5PHtzkweGhAkxQtxTVq7OzK+bwDf7DzO4dNFRscR4rrNXpmMs50Nk2Isv2PZA/0C8Wpmz4wVSXIqeSN0xREYnCtWtL/YaRpXsA0IVUoFca5QMQ64+4J1fgQmAJuAsUD874+jlLIC7gAG/L5ybZHDXWudo5SyBUYDq68yl2hirKwUMRHexER4czCrgA/WH2HZ1gw+3nyUIRHePNS/rby4CYuUnlPMrNhkftmbhaeLHf8a04Fxvf2xtZYO2cLyuDnZcmu3Nnz3WyYvjIr400i5+nKubep+vJrZN4o36sI4j0cH8/nWY8xddYgFd3c3Oo4Q12znsbPE7j/FlGFhNHc2zWtvQ3Kys+GpIaG89P0+EpKzGRzhY3QkUY/q8i53H9Dyanesta4CngRigYPAl1rr/UqpV5RSN9eu9j7QQimVCjwHnN9qdSCQobU+v0+VPRCrlNoD7OJcYeS/V5tNNF3tWrky6y9dWP9CDJMHh7LzWB53/Xcz/9xUxi97sqipkUKGMH85ReW8/MM+hs5dQ0JyNk8NCSVxagzjIwOleCEs2oSoQMoqa/hye4bJHuPH3SfYeSyPqSPCcbGvy/c4Qlycp4s9D/UP4pc9WezLzDc6jhDXRGvNjOVJeLrY82D/IKPj1JtxvfwIaOHEzBXJ8v6+kanLX25P4IBSaitQ/vuNWuubL73JH+v8Cvx6wW0vn3e5DPjLJbZNBPpecFsx0KMOmYW4LO9mDjw3LIwnooP5/rdM3lixj0mf7STE24UnY0IY3bkVNvJBUJiZkooqFq87wqI1hymrqmFcLz+eHhqKdzOZpEo0DhEtXekT5MHSTUd5qH/beu8MUlJRxevLk+jYxpWx3X3rdd+iaZo4oC1LNx1l7qpDfHB/L6PjCHHV1qbksOVILq+M6YBzIyrq2lpbMWV4OE99/hs/7j7BLd3aGB1J1JO6PEv/aeoQQhjFwdaacb398S4+TLFHOG/Hp/LMF7t4Y/UhnogO4ZZubbCzkUKGMFZVdQ1fbM/gjdUpnC4sZ2SHlkwdGU6wl+XNKC3ElUyICuSJT3cSn5TNsPb1O+x30Zo0svLLeHNcN6ykbaqoB26Otjw2KJgZK5LYnp4rEwYKi1JTc270hZ+HI+N6+Rsdp96N7tSKdxMPM2dVMjd0aiXv6RuJK/4raq3XAOmAbe3lbcBOE+cSokFZKcVNXVqz/OkBLBrfg2YOtkz7Zg8xsxP5ePNRyiqrjY4omiCtNbH7TzLijbX87bt9BHg48c3jkbw7vocUL0SjNby9D63cHOp9Ms8TeaUsWnuYGzu3oneQfMgU9WdCVACeLvbMjE2WObWERfl5bxYHsgqYMiy8UX64t7JSTBsZTkZuKZ9vPWZ0HFFP6tKF5GHga2BR7U1tgO9NGUoIo1hZKUZ0aMmPT/bjwwd64eNqz0vf72PQrATeX3+E0gopZIiGseNoLmPf3cSjH+8A4L3xPfjqsUh6BMgHL9G42VhbcW/fANal5JCaXX/dHV5fnoTW8OKoiHrbpxBwbsLAyYND2Hokl3UpOUbHEaJOKqtrmLMymYiWzbi5S2uj45jMoDAv+rb14K34FIrLq4yOI+pBXUptk4B+QAGA1joF8DZlKCGMppQiJtybbx6P4rOJfWjr6cK/fj5A/xnxLExMpUheAIWJHD5dxKMfb+f2dzZxLLeE/9zaidhnBjK8Q0uUkiHvomm4s5cfdtb111J1x9Fcftx9gkcGtsW3ubRNFfVvXG8/2rg7MnuljMIQlmHZtgyOnilh+siIRn1KnVKKaSMjyCmq4IP1R4yOI+pBXQoY5Vrrit+v1LYylVdm0SQopYgK8eTzR/ry9WORdGzjxswVyfR7PZ43V6eQX1JpdETRSGQXlPHX7/YyfN5aNqSeYcqwMNZMjebuPv4yoaxocjxd7BndpRXf7DhOYdn1vc7W1Gj+76cD+Lja89ig4HpKKMT/srex5umhoew5nk/s/lNGxxHiskoqqpgfl0LvQA+iw72MjmNy3f2bM7y9D4vWppFbXHHlDYRZq8u74jVKqb8CjkqpYcBXwE+mjSWE+ekZ6MGSB3vzw6R+9A7yYN7qQ/SbEc/MFUmcKSq/8g6EuIii8irmrkxm0KxEvtyWwb19/EmcGs3kIaE42TWe2cCFuFoTIgMprqjmmx3Hr2s/3/6WyZ7j+UwfGdGoZtgX5ue2bm1o6+XMnJXJVEvbRmHGPtyQzunCcqaPCm8yozunjginpKKKhQmpRkcR16kuBYwXgNPAXuBRzrVF/bspQwlhzrr4ufPf+3qy/OkBDAr34p01h+k/I4F//3yA7IIyo+MJC1FZXcPSTekMmpnA/PhUBrfzZvVzg/i/MR3xdLE3Op4Qhuvi505XP3eWbjpKzTV+GCwur2LmiiS6+LlzS1dpoSdMy8baiinDwknJLuLH3ZlGxxHiovJKKnh3zWGGtvNpUvNqhfo04/buvizdfJTMvFKj44jrUJcChiPwgdb6L1rrscAHtbcJ0aS1a+XKgru7s+rZgYzq2JIPN6bTf2YCL/+wT14YxSVprfllTxbD5q7h5R/2E+rjwg+T+rHg7u4EejobHU8Is3J/VCBpOcWsT722iREXJqaSXVjOP25q36jP8RbmY1THlnRo7cq8VSlUVNUYHUeIP3kn8TBF5VVMHRFudJQG98ywMNDwxqpDRkcR16EuBYw4/rdg4QisNk0cISxPiHcz5t7Zlfgpg7itWxs+33qM6FkJvPDNHo6dKTE6njAjW9LOcOvCjUz6bCd2NlZ8eH8vPn+4L1383I2OJoRZGtWpJZ4udizZmH7V22bklvDfdUe4pWtruvs3r/9wQlyElZXi+eHhHMst4cvtGUbHEeJ/ZOWX8tHGdG7t1obwls2MjtPg2rg7Mj4ygG92HiflVKHRccQ1qksBw0Fr/Ucfs9rLMoW3EBcIaOHM67d3JnFqDHf19ufb3zKJmZPIc1/sqtdWgMLyHDpVyEMfbePO9zZzMr+MmWM7s/zpgcREeDeZc0+FuBb2Ntbc3duf+OTsqy4Iv7b8INZKMV3apooGFh3uRc+A5rwVn0JZpbRfF+ZjflwKWsOzQ8OMjmKYSTEhONnZMHtlstFRxDWqSwGjWCnV/fcrSqkegIyPF+IS2rg78sqYjqyfFsMDUYEs33eSYfPWMOmznRzMKjA6nmhAJ/PLmPb1bka+sZat6blMGxlO4tRo7ujph7UMZxeiTu7pG4C1Uny8Ob3O22xOO8Ove0/y2KBgWrnJWa+iYSmlmDoinFMF5Xy86ajRcYQAzrVp/3L7ce7p64+fR9P9LtrD2Y5HBrYldv8pdh47a3QccQ3qUsB4GvhKKbVOKbUe+AJ40rSxhLB83q4O/H10e9ZPj+HxQcGsST7NqDfX8fDS7ew5nmd0PGFCBWWVzFyRRPTsBL7/7QQP9Ati7dQYnogOwcHW2uh4QlgUH1cHRnRsyRfbMiipqLri+tU1mld+OkBrNwceGdi2ARIK8Wd92rZgYJgXCxNTr7sVsBD1Yc7KZBxsrJgUE2J0FMM91D8ITxc7ZixPQmvpGGRpLlvAUEpZAXZABPA48BjQTmu9owGyCdEotHCxZ9rICDZMH8wzQ0PZknaGm9/ewIQPtrI9PdfoeKIelVdV8/76IwyamcDCxMOM6NCSuCmDeGl0e5o72xkdTwiLdX9UIAVlVfyw68QV1/1qewYHsgp44YZ2ONpJwVAY5/nhYZwtqeT99UeMjiKauN0Zefy69yQTB7SVTmeAs70NkweHsuVILmtTrm2SaGGcyxYwtNY1wAKtdaXWel/tImVkIa6Bm5MtzwwNY8MLg5k2Mpy9mfmMfXcTd723mY2pOVIBtmA1NZofdmUydO4a/vXzATq0duPnyf15c1y3Jj1MU4j60jOgOe1aubJkY/plXysLyyqZvTKZngHNualzqwZMKMSfdfZ1Z2SHlixed4SzxRVGxxFN2MzYJDyc7XhYRqX94a7e/vg2d2TmiqRrbtUtjFGnLiRKqduVzDQnRL1o5mDLE9EhrJ8ew99vbMfh00XcvXgLY9/dREJythQyLMyG1BzGLNjA08t24WJvy9IHe/PJxD50bONmdDQhGg2lFPdHBZB0spCtRy49cu3t+FRyiip4+ab2MkGuMAtThodRXFHFu2sOGx1FNFHrU3LYkHqGJ2NCcLG3MTqO2bCzsWLK8DD2nyjg571ZRscRV6EuBYxHga+ACqVUgVKqUCklMxEKcZ2c7GyYOKAta6fF8K8xHcjKK+WBD7dx89sbiN1/UqrBZu7AiQLu+2Ar9yzeQm5xBfPu7MIvk/szMMzL6GhCNEpjurbB3cmWJZvSL3p/ek4xH2w4wtgevnT2ldbEwjyE+jTj1q5t+GhjOqcKyoyOI5oYrTUzViTRxt2Re/r6Gx3H7NzcpQ0RLZsxZ2UyldU1RscRdXTFAobWupnW2kprbau1dq297toQ4YRoChxsrRkfGUji1Bhm3N6JgrJKHv14BzfMX8dPu09QLYUMs5KZV8pzX+7ixrfWsTsjj7/d0I64KYO4tZsvVtJZRAiTcbC15s6efsTuP8WJvD83Q3v114PYWVsxbUS4AemEuLRnhoZRXaN5Kz7F6CiiiVm+7yR7M/N5blgY9jYyJ9CFrK0U00aGc/RMCV9syzA6jqijKxYw1Dn3KqVeqr3up5TqbfpoQjQtdjZW3NnLn7jnBjHvzi5UVtcw+fPfGDZvDd/sOE6VVIYNlV9SyX9+PUjM7ER+3pPFIwPbsnZqDA8PbCudRYRoIPf2DUBrzWdbjv3P7RtSc1h14BRPxITg7epgUDohLs6/hRPjevuxbGsGx86UGB1HNBFV1TXMjk0mzMeFW7q1MTqO2YoJ96ZXYHPejEupU6crYby6nEKyEIgE7q69XgQsMFkiIZo4G2srbu3my8pnB7Hg7u7YWVsx5avdxMxJ5POtx6iokkJGQyqrrOa9tYcZOCuB/65L46bOrUl4PpoXR7XDzcnW6HhCNCl+Hk4MaefD51uPUVZZDZx7k/7KTwfw83Dkof5BBicU4uImDw7F2krxRtwho6OIJuKrHcdJyylm6ogIrGWE6CUppZg+MoLTheV8uCHd6DiiDupSwOijtZ4ElAForc9yrrWqEMKErK0UN3ZuxfKnB/Df+3rS3MmOF7/dy6BZCSzZmP7Hm3dhGtU1mm92HGfInDX859ckuvq58+tTA5hzRxfauDsaHU+IJmtCZCBniiv4Zc+5Sdc+35ZB8qlC/jqqnYyGEmbLx9WBCVGBfPdbJodOFRodRzRyZZXVvLH6ED0CmjO0nbfRccxez0APhrbz5t01h8krkY5B5q4uBYxKpZQ1oAGUUl6AfAUsRANRSjGsvQ8/TOrHkgd708bdkX/8uJ8BMxP479o0istluFt90lqTmJzNjfPXMeWr3Xg42/HZxD4sebA37VrJ9D9CGK1fSAuCvZxZuimd4krN3JXJ9AnyYGTHlkZHE+KyHhsUjLOdDXNXyigMYVrnJo0tZ/rICOnIVEfPjwinqLyKdxKlY5C5q0sBYz7wHeCtlHoVWA/8x6SphBB/opRiUJgXXz0WyecP9yXMx4VXfz1I/xnxLEhIpaCs0uiIFm9fZj73vr+F+z/cRnFFFfPv6sYPk/oRFeJpdDQhRC2lFBOiAtl9PJ8Fu8rIK62UtqnCIng42zFxQBAr9p9kz/E8o+OIRiq/pJKFCanEhHvRO8jD6DgWI6Kl6x8dg7Ly/zxRtDAfdelC8ikwDXgNyAJu0Vp/ZepgQoiLU0oRGdyCTyf25ZvHo+jq586s2GT6vx7P3FWHZOjbNcjILeGpz39j9FvrOXCigH/c1J6456K5uUtr6SwihBm6rbsvLvY2HDhTw7hefnRo7WZ0JCHq5KH+QTR3smW2jMIQJrJo7WEKy6uYOiLC6CgW59lhYdRozfw46RhkzmwudYdSygF4DAgB9gKLtNYyVl0IM9IjoDkfPtCbfZn5vBWfwvy4FN5fl8b4yEAmDgjC08Xe6IhmLbe4grfjU/l4czrWVopJMcE8OigYVweZnFMIc+Zib8Pdffz5dFMaU4ZL21RhOZo52PJ4dDD/+TWJLWln6NO2hdGRRCNyqqCMDzYcYUyX1rRvLae9Xi0/Dyfu6RPAx5uPMnFAW4K9XIyOJC7iciMwlgA9OVe8GAXMbpBEQoir1rGNG4vG9yT2mYEMbufDorWH6T8jnld+OsDJ/DKj45md0opqFiSkMmhmAh9tPMLt3X1JfD6GqSMipHghhIWYNiKcmQOdpFArLM59kYH4uNoze2UyWmuj44hGZH5cClXVmueGSWH3Wj05OAR7GyvmrEw2Ooq4hEuOwADaa607ASil3ge2NkwkIcS1Cm/ZjLfu6sYzQ0NZmHCYJZvS+WTzUe7o5ctjg4Lxbe5kdERD/d5ZZO6qQ5wsKGNoO2+mj4wg1KeZ0dGEEFfJxtoKZ1s5xUtYHgdbayYPDuXv3+8j8dBpYsKlS4S4fkdyilm2LYN7+vjj36Jpv9+7Hp4u9kwc0Jb5cSnszsiji5+70ZHEBS43AuOPGQHl1BEhLEuwlwtz7uhC4vPR3N7Dly+2ZRA9K5GpX+0mPafY6HgNTmtN3MFTjHpzLdO+2UNLNwe+eKQviyf0kuKFEEKIBndHTz/8PByZHZtMTY2MwhDXb87KZOxtrJg8ONToKBbv4QFBeDjbMStWRmGYo8sVMLoopQpql0Kg8++XlVIFDRVQCHHt/DyceO22TqydFsO9fQP4cfcJBs9J5Jllv5HSRPrQ/3bsLHe+t5mHlmynslqz8J7ufPdElJx3LIQQwjB2NlY8OzSM/ScKWL7vpNFxhIXbl5nPz3uyeKh/EF7N5LS669XMwZZJMSGsT81hfUqO0XHEBS5ZwNBaW2utXWuXZlprm/Muy6wwQliQVm6O/PPmDqybHsPEAW1ZeeAUw99Yy+Of7GD/iXyj45lEek4xkz7dya0LN5J2uoh/jenAymcHckOnVtJuUQghhOHGdG1DqLcLc1clU1VdY3QcYcFmxibj7mTLwwPbGh2l0binjz9t3B2ZsSJJ5qoxM1dsoyqEaDy8mznw1xvasX76YCZFh7A+JYcb569n4pJt7MpoHD3pc4rKefmHfQydu4aE5GyeHhJK4tQYxkcGYmstL3lCCCHMg7WVYsrwcA6fLua73zKNjiMs1MbDOaw9dJpJ0SEyEXk9crC15tlhYezNzJdRUmZG3s0L0QR5ONvx/Ihw1r8wmOeGhbH96FluWbCB8e9vYeuRXKPjXZOSiirmx6UwaGYCn245xp29/EicGs2zw8Jwsb/cfMVCCCGEMUZ08KGzrxtvrE6hvKra6DjCwmitmbEimVZuDoyPDDA6TqNza7dzo6Rmx8ooKXMiBQwhmjA3R1ueGhLK+umDeWFUBAezCrhj0SbuWLSJ9Sk5FjFkrqq6hk+3HGXQrETmrjrEgFAvVj47kFdv7YR3Mwej4wkhhBCXpJTi+eHhZOaV8sW2DKPjCAsTu/8UuzPyeHZoGA621kbHaXSsrRRTR4STllPMVzuOGx1H1JIChhACF3sbHhsUzLppg/nHTe05dqaEe9/fwq0LNxKfdMosCxlaa2L3n2T4G2v523f7CPBw4pvHI3l3fA+CvVyMjieEEELUyYBQT/oEeTA/LpWSCmn8J+qmqrqG2SuTCfZy5rbubYyO02gNa+9Dd3933lh9iLJKGSVlDkxawFBKjVRKJSulUpVSL1zkfnul1Be1929RSgXW3h6olCpVSu2qXd49b5seSqm9tdvMVzIbnxD1xtHOmgf6BbFmWjSv3tqR04XlPPjRdm6cv57le7PMptXbjqO5jH13E49+vAMFvDe+B189FkmPAA+jowkhhBBXRalz3/LmFJWzZONRo+MIC/HtzkxSs4uYOiICG5njy2SUUkwfGcGpgnKWbEw3Oo7AhAUMpZQ1sAAYBbQH7lJKtb9gtYeAs1rrEGAeMOO8+w5rrbvWLo+dd/s7wMNAaO0y0lS/gxBNlb2NNff0CSBxajSzxnamtLKaxz/dyYg31vLDrkyqDSpkpGYX8cjS7dz+ziaO5Zbwn1s7EfvMQIZ3aCmdRYQQQlisnoEexIR78e6aw+SXVhodR5i5sspq5q0+RBc/d0Z08DE6TqPXp20LosO9WJgo/z/NgSnLdb2BVK11mta6AlgGjLlgnTHAktrLXwNDLjeiQinVCnDVWm/W58a0LwVuqf/oQggAW2sr/tLTj9XPDeLNcV0BeHrZLobOXcOX2zOobKAJjbILyvjrd3sZ8cZaNh4+w5RhYayZGs3dffzlWwchhBCNwpTh4eSXVvL+ujSjowgz98nmo2TllzF9ZLh8gdNApo449/9z0ZrDRkdp8pSpzm1XSo0FRmqtJ9ZeHw/00Vo/ed46+2rXOV57/TDQB3AB9gOHgALg71rrdUqpnsDrWuuhtesPAKZrrUdf5PEfAR4B8PHx6bFs2TKT/J6mVFRUhIuLnMvfEORY102N1uw8Vc1PaZUcLaihhYPixra2DPC1wdaq7n9A63q8S6s0y49UsiK9kuoaiPGz4eYQO1zt5I/11ZDnd8OS491w5Fg3LDneprdwVxm7T1cza6ATVpXFcrwbiCU9t0sqNVPXlhDkas3zvSxzsnJLOt7ne3d3GTtPVTNzoCPuDpbzBZqlHu+YmJgdWuueF95urr0FswB/rfUZpVQP4HulVIer2YHW+j3gPYCePXvq6Ojo+k9pYomJiVhibkskx7ruBgNTtCYhOZv5caksPZBH7HHFowODuau3P452V54F+0rHu7K6hs+3HuPNdSmcKa7kxs6tmDo8nEBP5/r7RZoQeX43LDneDUeOdcOS4216vu2LGD5vDbsrfRjgki3Hu4FY0nN7zspkiitTef3uSDq2cTM6zjWxpON9vqBOxQyZs4ZtpV68OrKT0XHqzFKP96WYsoCRCfidd9239raLrXNcKWUDuAFnak8PKQfQWu+oHZkRVru+7xX2KYQwMaUUgyN8iAn3ZkPqGebHp/DKzwdYmJjKxAFtubdvAC72V//yorXm170nmRWbRPqZEvq29eCDUe3o4udugt9CCCGEMC8h3i7c3t2XjzcfJSLK3ug4wsycLixn8bojjO7cymKLF5YsoIUzd/X257Otx5g4oC1B8sWaIUw59mUbEKqUClJK2QHjgB8vWOdHYELt5ZlSmvgAACAASURBVLFAvNZaK6W8aicBRSnVlnOTdaZprbOAAqVU39q5Mu4DfjDh7yCEuAylFP1DPfny0Ui+eKQv7Vq58vryJPrPiGd+XMpVTXS0Oe0MtyzcyKTPdmJvY82H9/fi84f7SvFCCCFEk/L00FBsrRSvby0jNbvQ6DjCjLwdn0JldQ1ThocbHaXJmjwkBDtrK+auOmR0lCbLZAUMrXUV8CQQCxwEvtRa71dKvaKUurl2tfeBFkqpVOA54PdWqwOBPUqpXZyb3PMxrXVu7X1PAIuBVOAwsNxUv4MQou76tG3Bxw/14bsnougZ0Jy5qw7R//V4Zscmk1tcccntDp0q5KGPtjHuvc2cyi9j5tjO/Pr0AGIivGViKiGEEE2Ob3Mnvng0ksoauG3hRrYeyb3yRqLRO3amhM+2HuPOXn7yzb+BvJs58FD/IH7afYJ9mflGx2mSTDoHhtb6V+DXC257+bzLZcBfLrLdN8A3l9jndqBj/SYVQtSXbv7NWTyhF/tP5PN2fCpvJ6TywYYj3Ns3gIkDgvBudm7Cqaz8UuatOsTXO47jbG/DtJHhPNgvCAfbK8+hIYQQQjRmHdu48VJfB945aMW9i7cw786u3Ni5ldGxhIHmrkrG2krx1JBQo6M0eY8MassnW44yMzaZpQ/2NjpOk2Ouk3gKISxch9ZuvHNvDw6dKmRhQiqL16WxZGM6d/X253RWBatXJ6I1PNAviCdjQmjubGd0ZCGEEMJseDlZ8e3jUUxcsp1Jn+0kK78dD/UPktGJTdCBEwX8sPsEjw0KxsfVMjuPNCauDrZMig7h1V8PsvFwDlHBnkZHalIsp/+LEMIihfk0441x3YibEs2Yrq35ZPNRfjlSyaiOLYmbMoiXRreX4oUQQghxEe5OdnwysQ83dGrJv385yCs/H6C6RhsdSzSwWbFJuDrY8tigYKOjiFrjIwNo5ebAzBXJnOs/IRqKFDCEEA0iyNOZmWO7sG56DK8PcOSNcd3w83AyOpYQQghh1hxsrXn7ru481D+IDzek8+RnOymrrDY6lmggW9LOkJB8msejg3FztDU6jqjlYGvNM0ND2ZWRR+z+U0bHaVKkgCGEaFCt3Bxp6SwvPUIIIURdWVkpXhrdnr/f2I4V+09y7+ItnL3MBNmicdBaMzM2GR9XeyZEBhodR1zg9u6+BHs5M3tlMlXVNUbHaTLkU4QQQgghhBAWYOKAtrx9V3f2ZOZz+7sbycgtMTqSMKHVB7PZcfQsTw8Jw9FOJjk3NzbWVkwdEU5qdhHf/pZpdJwmQwoYQgghhBBCWIgbO7fik4f6cKaoglsXbmTP8TyjIwkTqK7RzIpNoq2nM3f09DU6jriEER1a0sXXjTdWHZJTuxqIFDCEEEIIIYSwIL2DPPjm8UjsbawY995mEpKyjY4k6tn3v2Vy6FQRU4aHY2MtH9nMlVKK6SMjOJFfxiebjxodp0mQ/w1CCCGEEEJYmBDvZnz3RBRtvZyZuHQ7y7YeMzqSqCflVdXMXXWITm3cGNWxpdFxxBVEhXgyINSTBQmpFJRVGh2n0ZMChhBCCCGEEBbI29WBZY9E0j/Ekxe+3cvcVYekpWMj8On/a+++w6Qosz2Of88EZohDRjIIDCwKIlEQBAUEXV1XRAXdNaGY16y7d+913V3dvYg5gAERMxjwiqsLKDAGskgOQ86C5DwMzLz3j6pZmpEwQHdXd8/v8zzzdHeFt0+frqmuOvVW1ZTVrNu+j0d6NiEpyYIOR4rg4R5N2Lb3AEO+XR50KAlPBQwRERERkThVJi2FIde35qrWtXhh3BIe+ngOB3RHhLi1e/9BXpqwlHMbVqJjo8pBhyNF1KxWBr9uXp0h369g0679QYeT0FTAEBERERGJY6nJSQy4ojn3dmvExzPWctOw6exSV/a4NOS75Wzdk8vDPZoEHYqcoAcvbMz+g/m8NH5J0KEkNBUwRERERETinJlxb7dMnryiOZOWbeHqV6ewcWdO0GHJCdi8ez+vf7uci5udxlm1ywcdjpyg+pVLc3Wb2rw/bTWrt+gWx5GiAoaIiIiISIK4qk1t3ri+Nau27KHXoEks2bgr6JCkiF6esJScg/k8cGHjoEORk3RP10YkmfHMV9lBh5KwVMAQEREREUkgXRpXZcSt7cnNy+eKwZOYunxL0CHJcazZupf3pqzmyla1aFClTNDhyEmqVi6dG8+tz2ez17Ng/c6gw0lIKmCIiIiIiCSYM2tmMPL2DlQpm8bv35jGv+asDzokOYZnv16MGdzTrVHQocgpur1zA8qmpfDUWPXCiAQVMEREREREElDtiqX45PYOnFU7g7ven8nr3y7XbVZjUPaGXXw6cx03dKhH9YySQYcjpyijVCq3d2nI+EU/M23F1qDDSTgqYIiIiIiIJKjypUrwTr92XNzsNJ74ciF//XwBefkqYsSSgWOyKZOWwu1dGgQdioTJDR3qUa1cGgNGL1LRMMxUwBARERERSWDpqcm81Lcl/TrWZ9ikldz53o/kHMgLOiwBZqzaytcLN3Jb5waUL1Ui6HAkTEqWSOaerpnMWLWNcQt/DjqchKIChoiIiIhIgktKMv7nkqb8zyVNGbNgA9cOmcq2PblBh1WsOecY8O9sqpRN48Zz6wUdjoTZla1rUb9yaQaOyVavpzBSAUNEREREpJjo17E+L1/TkrnrdnDF4Ems2bo36JCKrazsTUxbuZU/dG1EqRIpQYcjYZaanMQDF2aSvXEX/zdzXdDhJAwVMEREREREipGLm1XnvZvbsWVPLpcPmsictduDDqnYyc93DBi9iLqVStGnTe2gw5EIufjM6pxZsxzPfLWY/Qd12lY4qIAhIiIiIlLMtKlXkU9u70BaSjJXvzqFCYt0nn40jZq9nkUbdnF/90xSk7VLlqiSkoxHejZh3fZ9vD91ddDhJAT9t4iIiIiIFEMNq5bh0zs70KBqaW5++wc+mKYdrGjIPZjP019l07R6OS5tXiPocCTCOjasTIcGlXhp/FJ27z8YdDhxTwUMEREREZFiqmrZdEb0b0/HhpX508i5PDM2W7d9jLDh01ezZus+Hu7ZmKQkCzociTAz4+GeTdiyJ5ch3y0POpy4pwKGiIiIiEgxVjothSHXt+bq1rV5YfxSHvxoDgfy8oMOKyHt2X+QF8YtoV39inTOrBJ0OBIlLWqX56IzT+P1b5ezZff+oMOJaypgiIiIiIgUc6nJSfzvFc24r1smn/y4lpuGTWdXzoGgw0o4Q79fwebduTxyURPM1PuiOHngwsbsO5DHSxOWBh1KXFMBQ0REREREMDPu6daIJ3s3Z9KyLVz16hQ27swJOqyEsXVPLq99u5wLm1ajZZ0KQYcjUdawahmubFWb96as1u2LT4EKGCIiIiIi8h9Xta7N0BvasHrLHi5/eSKLN+4KOqSEMDhrKXtyD/JQj8ZBhyIBubd7IzB47uslQYcSt1TAEBERERGRw3TOrMKIW9tzIN/Re/AkpizfEnRIcW3d9n28NXkVV7SsRaNqZYMORwJSPaMkN3Sox8iZa8neoMLgyVABQ0REREREfuHMmhl8ekcHqpZL57o3pvH57PVBhxS3nv96MTi4t3tm0KFIwG7v3IAyJVIYOCY76FDikgoYIiIiIiJyRLUqlOLj29rTonZ57v5gJq99u0y3WT1BS3/exccz1vL79nWpWb5k0OFIwCqULsGtnU/n64UbmbFqa9DhxB0VMERERERE5KjKlyrB2/3a8utm1fnHl4v46+cLyMtXEaOoBo7JplSJFO48v2HQoUiMuKljfSqXSWPAv7NVEDxBKmCIiIiIiMgxpacm82Lfs7m5Y32GTVrJHe/NIOdAXtBhxbyZq7cxZv5G+p93OhVLlwg6HIkRpUqkcE/XhkxbuZWs7E1BhxNXIlrAMLOeZpZtZkvN7I9HGJ9mZiP88VPNrJ4/vLuZzTCzuf7jBSHzZPltzvL/qkbyM4iIiIiICCQlGf99SVMevaQpYxds5JrXp7B1T27QYcUs5xwDRi+iUukS9OtYP+hwJMZc3aYOdSqWYsDoReSrR1ORRayAYWbJwMvARUBToK+ZNS00WT9gm3OuIfAsMMAfvhm41DnXDLgeeKfQfNc651r4fz9H6jOIiIiIiMjhbupYn0HXtGTe+p30HjyJ1Vv2Bh1STPp2yWamLN/K3Rc0pHRaStDhSIwpkZLEAxdmsmjDLj6fowvkFlUke2C0BZY655Y753KB4cBlhaa5DHjLf/4x0NXMzDk30zlX8C3OB0qaWVoEYxURERERkSK6qFl13r+5HVv35tJr8ERmr9kedEgxJT/f8eToRdSqUJJr2tUNOhyJUZc2r8Gvqpfj6bGLyT2YH3Q4ccEiddEQM+sN9HTO3ey//j3Qzjl3V8g08/xp1vqvl/nTbC7Uzm3OuW7+6yygEpAHfAI87o7wIcysP9AfoFq1aq2GDx8ekc8ZSbt376ZMmTJBh1EsKNfRpXxHl/IdXcp39CjX0aV8R1e85Hv97nyemZHDzlzHHWel0aJq/PU0iESup/50kMGz99O/eRodasRfTiIpXpbtaJmz6SDPzNjP735Vgm51U8Pefrzm+/zzz5/hnGtdeHhM/zeZ2Rl4p5VcGDL4WufcOjMri1fA+D3wduF5nXOvAa8BtG7d2nXp0iXyAYdZVlYW8Rh3PFKuo0v5ji7lO7qU7+hRrqNL+Y6ueMp3t8453DRsOi/M3Mnjv83kmnZ1gg7phIQ71wfy8nnsmW9oclpZHunTieQkC1vbiSCelu1o6OwcE7dOYfSaPfypT8ewn26UaPmO5Ckk64DaIa9r+cOOOI2ZpQAZwBb/dS3gU+A659yyghmcc+v8x13A+3inqoiIiIiISACqlk1nRP/2nJdZhf/6dC5Pjy3et4YcMX0NK7fs5aEejVW8kOMyMx7u2YTNu/fz5sQVQYcT8yJZwJgONDKz+mZWAugDjCo0zSi8i3QC9AbGO+ecmZUHvgD+6JybWDCxmaWYWWX/eSpwCTAvgp9BRERERESOo3RaCkOua02fNrV5cfxSHvhodrE8p39fbh7Pj1tCm3oVuKCJbpYoRdOqbgW6N63Gq98sZ5vu7HNMEStgOOcOAncBY4CFwIfOuflm9jcz+40/2RtAJTNbCtwPFNxq9S6gIfBoodulpgFjzGwOMAuvB8frkfoMIiIiIiJSNCnJSfyzVzPu757JyB/XcdOw6ezKORB0WFH15qQVbNq1n4d7NsFMvS+k6B7q0Zg9uQcZlLU06FBiWkSvgeGc+xL4stCwR0Oe5wBXHmG+x4HHj9Jsq3DGKCIiIiIi4WFm/KFrI6pnpPOnkXO58pXJDLuxLadlpAcdWsRt35vL4KxldG1SlTb1KgYdjsSZzGpl6dWyFm9NXsWN59anRvmSQYcUkyJ5ComIiIiIiBRDV7auzRs3tGHN1r30GjSRxRt3BR1SxA3+Zhm79x/koZ6Ngw5F4tS93RqBg+e+Xhx0KDFLBQwREREREQm7zplVGHFrew7kO64YPInJy7YEHVLEbNiRw7CJK7m8RU2anFYu6HAkTtWqUIrfnVOXj2esZenPiV/0OxkqYIiIiIiISEScWTODT+/oQLVy6Vw/dBqjZq8POqSIeH7cYvKd477umUGHInHuzvMbUKpECk+NUS+MI1EBQ0REREREIqZWhVJ8clsHWtQpzx8+mMmr3yxLqNusLtu0mw9/WMu17epSu2KpoMOROFepTBq3dDqd0fM3MHP1tqDDiTkqYIiIiIiISERllErl7Zva8uvm1fnnvxfx2Kj55OUnRhHjmbGLSUtJ4q4LGgYdiiSIfp3qU6l0CQaMXpRQxb5wUAFDREREREQiLj01mRf7nM0tnerz1uRV3P7uDHIO5AUd1imZs3Y7X8z9iZs7nU7lMmlBhyMJokxaCndf0JApy7fy3ZLNQYcTU1TAEBERERGRqEhKMv7866Y8eklTvlq4kWten8LWPblBh3XSnhydTcXSJbilU/2gQ5EE07ddHWpVKMmTYxaRnyC9lcJBBQwREREREYmqmzrWZ9A1LZm/fidXDJ7E6i17gw7phH2/ZDPfL93Mnec3pGx6atDhSIJJS0nm/u6ZzFu3ky/m/hR0ODFDBQwREREREYm6i5pV572b27Ftby69Bk9k9prtQYdUZM45nhyziJrlS3JtuzpBhyMJ6rIWNWlcrSxPj83mQF5+0OHEBBUwREREREQkEK3rVeST2zuQnppMn9emMG7hxqBDKpJ/z9vAnLU7uLdbI9JTk4MORxJUcpLxcM/GrNyylw9/WBN0ODFBBQwREREREQlMgyplGHlHBxpWLcMtb//Ae1NXBR3SMR3My+epMdk0qlqGXi1rBR2OJLgLmlSldd0KPP/1EvblxvdFb8NBBQwREREREQlU1bLpDO9/DudlVuHPn87jqTHZMXv7yI9nrGX55j081KMxyUkWdDiS4MyMRy5qws+79vPmpBVBhxM4FTBERERERCRwpdNSGHJda/q0qc1LE5bywEezyT0YW+f95xzI47mvl3B2nfJ0b1ot6HCkmGhTryJdm1Tllaxl7Nh7IOhwAqUChoiIiIiIxISU5CT+2asZD3TPZOSP67hp2HR25sTODttbk1ayYWcOj/Rsgpl6X0j0PNijMbv2H2TQN0uDDiVQKmCIiIiIiEjMMDPu7tqIgb2bM2X5Fq56ZTIbduQEHRY79h1gUNYyujSuwjmnVwo6HClmflW9HL9tUZNhE1fGxP9DUFTAEBERERGRmHNl69oMvaENa7bu5fJBE8nesCvQeF79Zhk79h3goR6NA41Diq/7u2eS7xzPj1sSdCiBUQFDRERERERi0nmZVfjwtvbk5Tt6vzKJycu2BBLHzztzGDpxBb85qwZn1MgIJAaR2hVLcW27unz4wxqWb9oddDiBUAFDRERERERi1hk1Mhh5RweqlUvn+qHT+GzWuqjH8ML4JRzMczxwYWbU31sk1J3nNyQtJYmnxy4OOpRAqIAhIiIiIiIxrVaFUnxyWwda1CnPPcNn8co3y6J2m9WVm/cwfNoa+ratQ91KpaPyniJHU6VsGjd3rM8Xc39iztrtQYcTdSpgiIiIiIhIzMsolco7/dpySfPq/O+/F/GXUfPJy498EePprxaTmpzE3V0bRvy9RIrilvNOp0KpVAaOyQ46lKhTAUNEREREROJCWkoyL/Q5m/7nnc7bk1dx27sz2JebF7H3m7duB5/PXk+/jvWpWjY9Yu8jciLKpqdy5/kN+W7JZiYu3Rx0OFGlAoaIiIiIiMSNpCTjvy7+FX+5tClfL9zINUOmsHVPbkTea+CYbMqXSqV/59Mj0r7IyfrdOXWpkZHOgNGLonY6VSxQAUNEREREROLOjefWZ/C1LVmwfidXDJ7Eqi17wtr+5GVb+GbxJu7o0oBy6alhbVvkVKWnJnNf90zmrN3B6Hkbgg4nalTAEBERERGRuNTzzOq8f0s7tu3NpdegScxaE56LGjrnGDB6EdUz0rmufb2wtCkSbr1a1qJR1TIMHJvNwbz8oMOJChUwREREREQkbrWqW5FPbu9AqbRk+rw2ma8XbDzlNscu2MisNdu5t1sj0lOTwxClSPglJxkP9mjM8k17+HjG2qDDiQoVMEREREREJK41qFKGkbefS6OqZen/zg+8N3XVSbd1MC+fgWOyOb1Kaa5oWSuMUYqE34VNq3F2nfI89/UScg5E7oK2sUIFDBERERERiXtVyqYxvP85dM6swp8/ncfAMSd3ccORM9ex9OfdPHRhY1KStbsksc3MeKRnEzbszOHtySuDDifi9B8pIiIiIiIJoXRaCq9f15q+bWvz8oRlPPDhbHIPFv3aADkH8njuq8WcVSuDnmeeFsFIRcLnnNMr0TmzCi9PWMaOfQeCDieiVMAQEREREZGEkZKcxD8ub8YD3TMZOXMdNw6bxs6cou3UvTtlFet35PBIzyaYWYQjFQmfh3o0Zse+A7z27bKgQ4koFTBERERERCShmBl3d23EU1eexdTlW7nqlcn8tGPfMefZmXOAlycspVOjynRoWDlKkYqEx5k1M/jNWTUY+v1Kft6ZE3Q4EaMChoiIiIiIJKTerWrx5o1tWLttH70GTSJ7w66jTjvk2+Vs23uAh3s0iWKEIuFzf/dMDuTl88L4JUGHEjEqYIiIiIiISMLq1KgKI249h7x8R+9XJjFp2eZfTLNp136GfL+CXzevTrNaGQFEKXLq6lUuTZ+2tRk+bQ0rN+8JOpyIUAFDREREREQS2hk1Mvj0znM5rVw61w+dxmez1h02/qXxS9h/MJ8HumcGFKFIePzhgkakJifxzFeLgw4lIiJawDCznmaWbWZLzeyPRxifZmYj/PFTzaxeyLg/+cOzzaxHUdsUEREREREprGb5knx8Wwda1qnAPcNnMThrGc45ft6bz/vTVnNV69qcXqVM0GGKnJKq5dK5qWM9Rs1ez7x1O4IOJ+wiVsAws2TgZeAioCnQ18yaFpqsH7DNOdcQeBYY4M/bFOgDnAH0BAaZWXIR2xQREREREfmFjFKpvN2vLZeeVYMBoxfx6GfzGbkklyQz7u3WKOjwRMKi/3kNyCiZysAx2UGHEnaR7IHRFljqnFvunMsFhgOXFZrmMuAt//nHQFfz7ld0GTDcObffObcCWOq3V5Q2RUREREREjigtJZnnr27BreedzjtTVjHlpzxuPLc+1cqlBx2aSFhklEzlji4N+GbxJhZuyQs6nLBKiWDbNYE1Ia/XAu2ONo1z7qCZ7QAq+cOnFJq3pv/8eG0CYGb9gf4A1apVIysr66Q+RJB2794dl3HHI+U6upTv6FK+o0v5jh7lOrqU7+hSviOvfSnY86sSTF63n2YpP5GVtSHokIoFLdvRUT/PUSndWLxpX0LlO5IFjEA5514DXgNo3bq169KlS7ABnYSsrCziMe54pFxHl/IdXcp3dCnf0aNcR5fyHV3Kd3R0QbmONuU7ejp1ymPqpO8SKt+RPIVkHVA75HUtf9gRpzGzFCAD2HKMeYvSpoiIiIiIiEixVrJEctAhhF0kCxjTgUZmVt/MSuBdlHNUoWlGAdf7z3sD451zzh/ex79LSX2gETCtiG2KiIiIiIiISIKJ2Ckk/jUt7gLGAMnAUOfcfDP7G/CDc24U8AbwjpktBbbiFSTwp/sQWAAcBO50zuUBHKnNSH0GEREREREREYkNEb0GhnPuS+DLQsMeDXmeA1x5lHmfAJ4oSpsiIiIiIiIiktgieQqJiIiIiIiIiEhYqIAhIiIiIiIiIjFPBQwRERERERERiXkqYIiIiIiIiIhIzFMBQ0RERERERERingoYIiIiIiIiIhLzVMAQERERERERkZinAoaIiIiIiIiIxDwVMEREREREREQk5qmAISIiIiIiIiIxz5xzQccQcWa2CVgVdBwnoTKwOeggignlOrqU7+hSvqNL+Y4e5Tq6lO/oUr6jR7mOLuU7uuI133Wdc1UKDywWBYx4ZWY/OOdaBx1HcaBcR5fyHV3Kd3Qp39GjXEeX8h1dynf0KNfRpXxHV6LlW6eQiIiIiIiIiEjMUwFDRERERERERGKeChix7bWgAyhGlOvoUr6jS/mOLuU7epTr6FK+o0v5jh7lOrqU7+hKqHzrGhgiIiIiIiIiEvPUA0NEREREREREYp4KGCIiIiIiIiIS81TAiAAz2x10DMWBmeWZ2ayQv3rHmLaLmf0retEVD2bmzOzdkNcpZrYpXLk2sywzS5jbPoWbmf3W/w6anMS8Q8ysqf98pZlVDn+EiSXSy7scTr+l0Xe8nGudfGJOZR19Cu95r5mVitb7RYOZ/dnM5pvZHH97r91JtNHFzDqEMaZi+btpZrXM7DMzW2Jmy8zseTMrcYzpi7Q8Fuf1vb+OeDrk9YNm9lhAscTF96ACRoIws5SgYwjAPudci5C/ldEOoJjmPdQe4EwzK+m/7g6sO5EGlMNT0hf43n8sMjNLds7d7JxbEJmwEtYpL+8iUqyc1Dr6FN0LJEwBw8zaA5cALZ1zzYFuwJqTaKoLELYCxqmI1+0eMzNgJPB/zrlGQCZQBnjiGLNFfHmM13yG2A/0iveCWDS/BxUwIsTMypjZODP70czmmtll/vB6ZrbQzF73q8ljCzaGQ49smFllM1sZMs93fls/FlSQ/Wryd2Y2ClhgZn8zs3tDYnjCzO6J9mcPkpklm9lAM5vuV+pvDRldzsy+MLNsM3vFzJL8eXaHzN/bzIb5zy81s6lmNtPMvjazav7wx8zsHTObCLxjZt+aWYuQNr43s7Oi8oFjw5fAr/3nfYEPCkaYWVszm+zncJKZNfaH32Bmo8xsPDDOH/aI/78y28z+N6T9K81smpktNrNOUfpMMc/MygAdgX5AH39YF395POJybmZPm9lsoL2OpJ60k1nei/s64qRZod5zZvaSmd3gP19pZn8N+Z1t4g8vbWZD/fXGzILfXymaY+U8ZNhNZvZcyOtbzOzZKIYZ846xjj7a8nyxmS0ysxlm9kLBdP42x4Mh88zztwtL++v62f6wq83sD0ANYIKZTYjep42o6sBm59x+AOfcZufcejNrZWbf+PkaY2bV4T/b0s+b11Njnr9ergfcBtznD+9kZlXM7BN/e3G6mZ3rz/+Ymb1l3vb1KjPrZWZP+uuY0WaWGhLbw/7waWbW0J//WO3+Z9sxatkLrwuAHOfcmwDOuTzgPuAmf3l8ys/5HDO7+0jLo5n19XM2z8wGhDZuZs+at280zsyq+MMa+Hmf4X8nBev5Yf42zlTgyeilICIO4t0l5L7CI/z/9fF+TseZWR0zy/CXzYLtu9JmtsbMUo+Tr8FmNsXMlvvroqHm7ZMOK/SeMf89qIAROTnA5c65lsD5wNNmZv64RsDLzrkzgO3AFcdp62egu9/W1cALIeNaAvc45zKBocB1AP5C3Qd4l8RV0g6dPvKpP6wfB9w89QAAC/pJREFUsMM51wZoA9xiZvX9cW2Bu4GmQAOg13Ha/x44xzl3NjAceDhkXFOgm3OuL/AGcAOAmWUC6c652af86eLHcKCPmaUDzYGpIeMWAZ38HD4K/CNkXEugt3Ous5ldBFwGtHPOncXhK8EU51xbvCr+XyL4OeLNZcBo59xiYIuZtfKHH205Lw1Mdc6d5Zz7PurRJo6TWd6L+zoikjb7v42DgYKdvD8D4/31xvnAQDMrHVSACepD4NKQnbkb8bZB5JCjraN/wV+fvApc5JxrBVQpQvs9gfX+Ov1M/71eANYD5zvnzj/1jxATxgK1zTuIMcjMOvvL3Yt42xCt8Ja90F4ApZxzLYA7gKF+D91XgGf9HrvfAc/7r9vgbYcPCZm/Ad7O+m/wtqMnOOeaAfs4VMAGb3uzGfASUFDQO1a7oduO8egMYEboAOfcTmA1cDNQD2jh95R5r/DyaGY1gAF4uW0BtDGz3/pNlQZ+8PeNvuHQ9t5rwN3+9/wgMCjk7WsBHZxz94f9k0bfy8C1ZpZRaPiLwFsFOQVecM7tAGYBnf1pLgHGOOcOcOx8VQDa4xVKRgHP4n2nzezQQZa4+B7ivctNLDPgH2Z2HpAP1ASq+eNWOOdm+c9n4P3DH0sq8JK/cOXhddkqMM05twLAObfSzLaY2dn+e810zm0Jy6eJTfv8H6hQFwLNzay3/zoDr2CUi5er5QBm9gHekZGPj9F+LWCEX9UvAawIGTfKObfPf/4R8D9m9hBwEzDs5D9S/HHOzfGPbvTFOzodKgN4y8waAQ5vWS7wlXNuq/+8G/Cmc26v3+bWkOlG+o9F+V8pTvribSiBt1PdF/gXR1/O84BPAogzoZzk8l6s1xERFrp+KCjWXQj8xg4dtU4H6gALoxxbwnLO7TavB90lZrYQSHXOzQ06rhhztHX0kTQBlhdsz+H17Op/nPbn4h0cGwD8y98pTzj+stYK6IRXkBwBPA6cCXzlHxtMBn4Kme0Df95vzaycmZU/QtPdgKaHji1SzrxeMwD/ds4dMLO5ftuj/eFzOXw75IOQx4IeSMdqN3TbMdF0AQY55w7CL7bjCrQBspxzmwDM7D3gPOD/8PaVRvjTvQuM9PPWAfgoJJ9pIe195PcCiXvOuZ1m9jbwB7xCWYH2HPpte4dDB/hG4B3UnoB3wHpQEfL1uXPO+cv1xoJ1tpnNx1uuZxEn34MKGJFzLV4FvZW/ElyJtxEF3rlOBfKAgvOpD3KoV0x6yDT3ARuBs/zxOSHj9hR63yF4R/pOo3geDTG8CuGYwwaadcHboQjlCj3C4Xl/EXjGOTfKn/+xkHH/ybtzbq+ZfYV3tOUq4KhHWRLYKOApvB+wSiHD/4535OJyf6cvK2Rc4WX3aAr+X/LQOgsAM6uIdwSjmZk5vA0sB3zB0ZfznET5oY8BJ7S8ax1xSkJ/F+HwdTQcef1gwBXOuewIx5aojpfzAkOA/8LrefRmpIOKJ8dYR39G0XIb6ojfh3NusZm1BC4GHjezcc65v4Uj/ljj/3ZlAVn+ztedwHznXPujzXKc1+Dl9BznXOg2Nf4OWsHpKvlmdsA5VzB/Podvh7gjPD9Wu0Xd7olVC4DeoQPMrBxegXhlmN/L4eVy+xEOVhaI93wW9hzwI0Vbn47CO1BeEW+bYjxe74lj5avg9zKfw/dFCy/XoWLye9ApJJGTAfzsFy/OB+oWYZ6VHNqwDV1BZAA/Oefygd/j/RAezad43QrbAGOOMV2iGgPcXtCt1cwyQ7oOtzWz+v7pNVfjnSICsNHMfuUPvzykrQwOXaDv+uO87xC8U3umO+e2heODxJmhwF+PcAQuNIc3HGP+r4Abzb9Stb9ClqPrDbzjnKvrnKvnnKuN10OoE0dfziV8TmZ5L+7riJO1Cu9oZpp/FLVrEeYZA9xdcNqm3ytRiq5IOXfOTQVqA9cQci0YAY6+jk7iyLnNBk63Q3dTuzqkrZV4p1ziFyzq+89rAHudc+8CAwumAXYBZSP0uaLOzBr7vdoKtMDrTVXFvAt8Yt65/2eETHO1P7wj3mkeO/hlXsbinW5Z8D5H2zk7lqtDHieHsd1YNQ4oZWYFp6snA0/j9SocA9xq/oUcQ7bjQvM+Dehs3nX+kvF6JX3jj0vi0L7PNcD3/ukpK8zsSr9NswS+fpTfa+VDvNPhC0zCv4YO3sHx7/xpdwPT8Xp5/cs5lxemfMXF96ACRpj5/7j78c5Tau1Xiq/DO0JxPE/h7XzPBEKvRDsIuN68i+814RiVLudcLl53og+L6dHWIXgV4h/NbB7eOaUFVcXpeOcpLsTbkCi4bsYf8bp1TuLwLoiP4XWXmgFsPtabOudmADsppkehnHNr/XMdC3sS+Ke/TB+194RzbjReNfkHM5vFoXPZ5cj6cmj5LfCJP/xoy7mEycks78V9HXGiCn5LnXNr8Dbo5vmPM4sw+9/xTt+Z43eN/XvEAk0gJ5nzD4GJKsr9wtHW0X04Qm790wruAEb72xy7gB0h81X0l+W7gMX+8GbANP838y94p1WAd676aEuci3iWwTs1b4GZzcG7jsSjeDtZA/xt41kcfoeRHH89/AqHdgY/By43/yKeeF31W5t3ccQFeBf5PFEV/Jju4dAFGMPRbkzye6Jcjndx9SV4y2IOXk+sIXjXwpjjfyfX+LP9Z3l0zv2Et809AZgNzHDOfeZPtwfvAMw8vN5LBb2JrgX6+W3Ox+vJmMie5vB9wLvxDvDNwTuIHXpzhhHA7zh0ygecer7i4nuwQ72iJBz8itTrzrt4WBDvn4TX/ehK59ySIGIojvwjIVlAE7+njEjU+ac6PeicuyToWORwWkecmKB/S4ujk8m5eXfKeNY5Ny5ykRUPZlbGv96D4V3Qb4lzTnd2OUFmloX3O/hD0LGISGSoB0YYmdlteN0o/zug928KLAXGqXgRPX5XuqnAn7VjIiKFaR1xYoL+LS2OTjTnZlbezBbjXUxbxYvwuMXvTTEf73S0VwOOR0QkJqkHhoiIiIiIiIjEPPXAEBEREREREZGYpwKGiIiIiIiIiMQ8FTBEREREREREJOapgCEiIiIRZWaPmZnzb713pPFL/PGPReC9+5vZb48wfKWZPRXu9xMREZHIUQFDREREoiEHqG9mrUMHmlkboJ4/PhL6A78oYIiIiEj8UQFDREREomEPMB7oU2h4H3/4nqhHJCIiInFFBQwRERGJluHAVWZmAP7jVf7ww5jZVWY218z2m9kaM3vCzFJCxt/gn3bSzMy+MrM9ZrbIzHqFTJMFtAKu96d1ZnZDofe5z8zWmtk2MxtuZuUj8slFRETklKmAISIiItEyEqgGdPRfdwKq+MP/w8wuBEYAPwKXAS8CDwIvHaHN94FRwOXAEmC4mdXyx90BLAK+BNr7f1+EzHsV0BXvNJNHgEuAf5zKBxQREZHISTn+JCIiIiKnzjm33cxG45028p3/ONo5t8PvlFHgb0CWc+56//Vof/w/zexx59zakGmfdc4NBTCzGcBGvELEK865BWa2B9jknJtyhJAOAL91zh3052/qx3RHmD6yiIiIhJF6YIiIiEg0DQd6m1ka0JtCp4+YWTLQEvio0Hwj8LZb2hcaPrbgiXNuC/AzUIuimVBQvPAtAKqaWWoR5xcREZEoUgFDREREomkUUAZ4AigNfF5ofGUgFa8nRaiC1xULDd9e6HUukF7EWI40rwFpRZxfREREokgFDBEREYka59we4F/AfcDn/utQm/FO7ahaaHg1/3FrZCMUERGRWKUChoiIiETbYLyeF68UHuGcywNmAFcWGnUVkA9MPsH3OpEeGSIiIhLDdBFPERERiSrnXBaQdYxJ/gKMMbM38a6R0Qz4O/B6oQt4FsUioIeZ9QC2ACv8a2WIiIhInFEPDBEREYkpzrmxeHcDaY3XU+Ne4GngrpNo7nFgIfAhMB24NExhioiISJSZcy7oGEREREREREREjkk9MEREREREREQk5qmAISIiIiIiIiIxTwUMEREREREREYl5KmCIiIiIiIiISMxTAUNEREREREREYp4KGCIiIiIiIiIS81TAEBEREREREZGYpwKGiIiIiIiIiMS8/webOdqsUYNhCwAAAABJRU5ErkJggg==\n",
      "text/plain": [
       "<Figure size 1080x432 with 1 Axes>"
      ]
     },
     "metadata": {
      "needs_background": "light"
     },
     "output_type": "display_data"
    }
   ],
   "source": [
    "plot_month_failure(df,'failure','month')"
   ]
  },
  {
   "cell_type": "markdown",
   "metadata": {},
   "source": [
    "**Next, the first four letters for each value in column \"device\" are extracted.**"
   ]
  },
  {
   "cell_type": "code",
   "execution_count": 24,
   "metadata": {
    "scrolled": true
   },
   "outputs": [
    {
     "name": "stdout",
     "output_type": "stream",
     "text": [
      "There are 1168 unique devices in the dataset.\n"
     ]
    },
    {
     "data": {
      "text/plain": [
       "Z1F0GE1M    304\n",
       "W1F0FY92    304\n",
       "S1F0H6JG    304\n",
       "W1F0FZPA    304\n",
       "Z1F0KJDS    304\n",
       "Name: device, dtype: int64"
      ]
     },
     "execution_count": 24,
     "metadata": {},
     "output_type": "execute_result"
    }
   ],
   "source": [
    "print('There are {} unique devices in the dataset.'.format(df.device.nunique()))\n",
    "df.device.value_counts().head()"
   ]
  },
  {
   "cell_type": "code",
   "execution_count": 25,
   "metadata": {},
   "outputs": [
    {
     "data": {
      "text/plain": [
       "S1F0    33169\n",
       "W1F0    23294\n",
       "S1F1    21689\n",
       "W1F1    19974\n",
       "Z1F0    18869\n",
       "Z1F1     7248\n",
       "Z1F2      251\n",
       "Name: dev_code, dtype: int64"
      ]
     },
     "execution_count": 25,
     "metadata": {},
     "output_type": "execute_result"
    }
   ],
   "source": [
    "df['dev_code'] = [df.loc[ind,'device'][0:4] for ind in range(len(df))]\n",
    "df['dev_code'].value_counts()"
   ]
  },
  {
   "cell_type": "code",
   "execution_count": 26,
   "metadata": {},
   "outputs": [],
   "source": [
    "def plot_device_failure(data,target,col):\n",
    "    device_percent = []\n",
    "    dev_list = list(df.dev_code.unique())\n",
    "    \n",
    "    for code in dev_list:\n",
    "        percent = ((len(data[(data[target] == 1) & (data[col] == code)]) / len(data[data[col] == code]))) * 100\n",
    "        device_percent.append(percent)\n",
    "    \n",
    "    color_list = ['red','orange','gold','green','blue','indigo','violet']\n",
    "    \n",
    "    fig,ax = plt.subplots(figsize = (15,6))\n",
    "\n",
    "    ax.bar(x = data[col].unique(), height = device_percent, color = color_list)\n",
    "    ax.set_xlabel('Device Code Name', fontsize = 15)\n",
    "    ax.set_ylabel('Percent of Failed Devices', fontsize = 15)\n",
    "    fig.suptitle('Percent of Failed Devices Per Device Code',fontsize = 30)\n",
    "    ax.set_axisbelow(True)\n",
    "    ax.grid(axis = 'y')\n",
    "    \n",
    "    fig.tight_layout(rect = [0,0,1,0.93])"
   ]
  },
  {
   "cell_type": "markdown",
   "metadata": {},
   "source": [
    "**Plotting the percent of failed devices in respect to the extracted values shows promising distinction.**"
   ]
  },
  {
   "cell_type": "code",
   "execution_count": 27,
   "metadata": {},
   "outputs": [
    {
     "data": {
      "image/png": "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\n",
      "text/plain": [
       "<Figure size 1080x432 with 1 Axes>"
      ]
     },
     "metadata": {
      "needs_background": "light"
     },
     "output_type": "display_data"
    }
   ],
   "source": [
    "plot_device_failure(df,'failure','dev_code')"
   ]
  },
  {
   "cell_type": "markdown",
   "metadata": {},
   "source": [
    "**The \"device\" column is used to get the number of days the devices worked before failing.**"
   ]
  },
  {
   "cell_type": "code",
   "execution_count": 28,
   "metadata": {},
   "outputs": [
    {
     "name": "stdout",
     "output_type": "stream",
     "text": [
      "The maximum amount of times any device broke: 1\n"
     ]
    }
   ],
   "source": [
    "print('The maximum amount of times any device broke:', df.loc[df.failure == 1,'device'].value_counts().max())"
   ]
  },
  {
   "cell_type": "code",
   "execution_count": 29,
   "metadata": {},
   "outputs": [],
   "source": [
    "num_day_list = []\n",
    "ind_list = []\n",
    "\n",
    "for dev in df.device.unique() :\n",
    "    index = 0\n",
    "    indices = df.loc[df.device == dev].index\n",
    "    ind_list += indices.to_list()\n",
    "    for i in indices :\n",
    "        index += 1\n",
    "        num_day_list.append(index) \n",
    "        \n",
    "s = pd.Series(num_day_list,index = ind_list,name = 'num_day_usage')\n",
    "df = df.merge(s,left_index = True,right_index = True)"
   ]
  },
  {
   "cell_type": "markdown",
   "metadata": {},
   "source": [
    "### Feature Selection"
   ]
  },
  {
   "cell_type": "markdown",
   "metadata": {},
   "source": [
    "**A correlation matrix is visualized to check for redundant columns.**\n",
    "* _**Note: Columns \"attribute7\" and \"attribute8\" has a correlation of one. One of these attributes will be dropped.**_"
   ]
  },
  {
   "cell_type": "code",
   "execution_count": 30,
   "metadata": {},
   "outputs": [],
   "source": [
    "def corr_viz(data):\n",
    "    corr_mat = data.corr()\n",
    "    \n",
    "    plt.figure(figsize = (15,6))\n",
    "    \n",
    "    sns.heatmap(corr_mat,annot = True)\n",
    "    plt.tight_layout()"
   ]
  },
  {
   "cell_type": "code",
   "execution_count": 31,
   "metadata": {},
   "outputs": [
    {
     "data": {
      "image/png": "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\n",
      "text/plain": [
       "<Figure size 1080x432 with 2 Axes>"
      ]
     },
     "metadata": {
      "needs_background": "light"
     },
     "output_type": "display_data"
    }
   ],
   "source": [
    "corr_viz(df)"
   ]
  },
  {
   "cell_type": "markdown",
   "metadata": {},
   "source": [
    "### Data Wrangling"
   ]
  },
  {
   "cell_type": "markdown",
   "metadata": {},
   "source": [
    "**The dataframe is grouped by unique device value, and the last values for each column is retained.**"
   ]
  },
  {
   "cell_type": "code",
   "execution_count": 32,
   "metadata": {},
   "outputs": [
    {
     "data": {
      "text/plain": [
       "(1168, 15)"
      ]
     },
     "execution_count": 32,
     "metadata": {},
     "output_type": "execute_result"
    }
   ],
   "source": [
    "df_last = df.groupby('device').last()\n",
    "df_last.shape"
   ]
  },
  {
   "cell_type": "code",
   "execution_count": 33,
   "metadata": {},
   "outputs": [
    {
     "name": "stdout",
     "output_type": "stream",
     "text": [
      "The number of rows and columns for failed devices: (101, 15)\n",
      "The number of rows and columns for non-failed devices: (1067, 15)\n"
     ]
    }
   ],
   "source": [
    "print('The number of rows and columns for failed devices:',df_last[df_last.failure == 1].shape)\n",
    "print('The number of rows and columns for non-failed devices:', df_last[df_last.failure == 0].shape)"
   ]
  },
  {
   "cell_type": "markdown",
   "metadata": {},
   "source": [
    "**The \"failure\" column and the remaining columns are split. At this time, columns of no importance are dropped.**"
   ]
  },
  {
   "cell_type": "code",
   "execution_count": 34,
   "metadata": {},
   "outputs": [],
   "source": [
    "X = df_last.drop(['date','failure','attribute8'],axis = 1)\n",
    "y = df_last['failure']"
   ]
  },
  {
   "cell_type": "markdown",
   "metadata": {},
   "source": [
    "### Encoding"
   ]
  },
  {
   "cell_type": "markdown",
   "metadata": {},
   "source": [
    "**Categorical columns are encoded to numbers.**"
   ]
  },
  {
   "cell_type": "code",
   "execution_count": 35,
   "metadata": {},
   "outputs": [
    {
     "data": {
      "text/plain": [
       "((1168, 210), (1168,))"
      ]
     },
     "execution_count": 35,
     "metadata": {},
     "output_type": "execute_result"
    }
   ],
   "source": [
    "dummy_list = ['attribute3', 'attribute5', 'attribute7', 'attribute9', 'day_name', 'month', 'dev_code']\n",
    "\n",
    "X = pd.get_dummies(X,columns = dummy_list,drop_first = True)\n",
    "X.shape,y.shape"
   ]
  },
  {
   "cell_type": "markdown",
   "metadata": {},
   "source": [
    "### Model Evaluation - Base Scores"
   ]
  },
  {
   "cell_type": "markdown",
   "metadata": {},
   "source": [
    "**Four models are used to predict device failure.**\n",
    "* _**Note: High accuracy score for each model but low recall and f1 scores. This is due to an imbalanced dataset. It is critical to look at other evaluation metrics for imbalanced datasets. The accuracy score will not tell the full story on how well the model is performing.**_"
   ]
  },
  {
   "cell_type": "code",
   "execution_count": 36,
   "metadata": {},
   "outputs": [],
   "source": [
    "base_classifiers_dict = {'Logistic Regression' : LogisticRegression(),\n",
    "                    'Random Forest' : RandomForestClassifier(),\n",
    "                    'Gradient Boosting' : GradientBoostingClassifier(),\n",
    "                    'Extreme Gradient Boosting' : XGBClassifier()}"
   ]
  },
  {
   "cell_type": "code",
   "execution_count": 37,
   "metadata": {
    "scrolled": true
   },
   "outputs": [],
   "source": [
    "def base_scores(dictionary):\n",
    "    acc_list = []\n",
    "    recall_list = []\n",
    "    precision_list = []\n",
    "    f1_list = []\n",
    "    \n",
    "    for key,val in dictionary.items() :\n",
    "        scores = cross_validate(val, X, y, cv = 3, scoring = ['accuracy','recall','precision','f1'])\n",
    "        acc_list.append(scores['test_accuracy'].mean())\n",
    "        recall_list.append(scores['test_recall'].mean())\n",
    "        precision_list.append(scores['test_precision'].mean())\n",
    "        f1_list.append(scores['test_f1'].mean())\n",
    "        \n",
    "    base_scores_df = pd.DataFrame(data = {'accuracy' : acc_list,\n",
    "                                          'recall' : recall_list,\n",
    "                                          'precision' : precision_list,\n",
    "                                          'f1' : f1_list},\n",
    "                                  index = dictionary.keys())\n",
    "    \n",
    "    return base_scores_df"
   ]
  },
  {
   "cell_type": "code",
   "execution_count": 38,
   "metadata": {},
   "outputs": [
    {
     "data": {
      "text/html": [
       "<div>\n",
       "<style scoped>\n",
       "    .dataframe tbody tr th:only-of-type {\n",
       "        vertical-align: middle;\n",
       "    }\n",
       "\n",
       "    .dataframe tbody tr th {\n",
       "        vertical-align: top;\n",
       "    }\n",
       "\n",
       "    .dataframe thead th {\n",
       "        text-align: right;\n",
       "    }\n",
       "</style>\n",
       "<table border=\"1\" class=\"dataframe\">\n",
       "  <thead>\n",
       "    <tr style=\"text-align: right;\">\n",
       "      <th></th>\n",
       "      <th>accuracy</th>\n",
       "      <th>recall</th>\n",
       "      <th>precision</th>\n",
       "      <th>f1</th>\n",
       "    </tr>\n",
       "  </thead>\n",
       "  <tbody>\n",
       "    <tr>\n",
       "      <td>Logistic Regression</td>\n",
       "      <td>0.910960</td>\n",
       "      <td>0.019608</td>\n",
       "      <td>0.133333</td>\n",
       "      <td>0.034188</td>\n",
       "    </tr>\n",
       "    <tr>\n",
       "      <td>Random Forest</td>\n",
       "      <td>0.934931</td>\n",
       "      <td>0.315211</td>\n",
       "      <td>0.862745</td>\n",
       "      <td>0.440660</td>\n",
       "    </tr>\n",
       "    <tr>\n",
       "      <td>Gradient Boosting</td>\n",
       "      <td>0.906646</td>\n",
       "      <td>0.523767</td>\n",
       "      <td>0.611996</td>\n",
       "      <td>0.524762</td>\n",
       "    </tr>\n",
       "    <tr>\n",
       "      <td>Extreme Gradient Boosting</td>\n",
       "      <td>0.952917</td>\n",
       "      <td>0.573678</td>\n",
       "      <td>0.844554</td>\n",
       "      <td>0.679012</td>\n",
       "    </tr>\n",
       "  </tbody>\n",
       "</table>\n",
       "</div>"
      ],
      "text/plain": [
       "                           accuracy    recall  precision        f1\n",
       "Logistic Regression        0.910960  0.019608   0.133333  0.034188\n",
       "Random Forest              0.934931  0.315211   0.862745  0.440660\n",
       "Gradient Boosting          0.906646  0.523767   0.611996  0.524762\n",
       "Extreme Gradient Boosting  0.952917  0.573678   0.844554  0.679012"
      ]
     },
     "execution_count": 38,
     "metadata": {},
     "output_type": "execute_result"
    }
   ],
   "source": [
    "base_scores(base_classifiers_dict)"
   ]
  },
  {
   "cell_type": "markdown",
   "metadata": {},
   "source": [
    "### HyperParameter Tuning"
   ]
  },
  {
   "cell_type": "markdown",
   "metadata": {},
   "source": [
    "**The dataset is split into train and validation sets and the optimal parameters are found.**  \n",
    "**The models with optimal parameters and the probabality of device failure are saved as variables.**"
   ]
  },
  {
   "cell_type": "code",
   "execution_count": 39,
   "metadata": {},
   "outputs": [
    {
     "data": {
      "text/plain": [
       "((934, 210), (234, 210), (934,), (234,))"
      ]
     },
     "execution_count": 39,
     "metadata": {},
     "output_type": "execute_result"
    }
   ],
   "source": [
    "X_train,X_test,y_train,y_test = train_test_split(X,y,test_size = 0.2,random_state = 0,stratify = y)\n",
    "X_train.shape,X_test.shape,y_train.shape,y_test.shape"
   ]
  },
  {
   "cell_type": "code",
   "execution_count": 40,
   "metadata": {},
   "outputs": [],
   "source": [
    "weight = y_train.value_counts()[0]/y_train.value_counts()[1]\n",
    "weight_dict = {0 : 1.0, 1 : weight}"
   ]
  },
  {
   "cell_type": "code",
   "execution_count": 41,
   "metadata": {},
   "outputs": [
    {
     "name": "stdout",
     "output_type": "stream",
     "text": [
      "Training done.\n"
     ]
    }
   ],
   "source": [
    "#Logistic Regression Hyperparameter Tuning\n",
    "lr_grid = {'penalty' : ['l1','l2','elasticnet'],\n",
    "           'C' : [0.01,0.1,1,10,100],\n",
    "           'class_weight' : [weight_dict,'balanced']}\n",
    "\n",
    "lr = GridSearchCV(LogisticRegression(solver = 'liblinear'),\n",
    "                  param_grid = lr_grid,\n",
    "                  scoring = 'average_precision',\n",
    "                  cv = 3,\n",
    "                  n_jobs = -1)\n",
    "lr.fit(X_train,y_train)\n",
    "\n",
    "\n",
    "#Random Forest Hyperparameter Tuning\n",
    "rf_grid = {'max_depth' : range(2,6),\n",
    "           'min_samples_split' : range(10,21,2),\n",
    "           'max_features' : [0.3,0.4,0.5,0.6,'sqrt'],\n",
    "           'class_weight' : [weight_dict,'balanced']}\n",
    "\n",
    "rf = GridSearchCV(RandomForestClassifier(n_estimators = 1000),\n",
    "                        param_grid = rf_grid,\n",
    "                        scoring = 'average_precision',\n",
    "                        cv = 3,\n",
    "                        n_jobs = -1)\n",
    "rf.fit(X_train,y_train)\n",
    "\n",
    "\n",
    "#Gradient Boosting Classifier Hyperparameter Tuning\n",
    "gb_grid = {'learning_rate' : [0.05,0.1,0.2,0.3,0.4],\n",
    "           'n_estimators' : [200,500,1000,1250],\n",
    "           'min_samples_split' : range(10,21,2),\n",
    "           'max_depth' : range(2,6),\n",
    "           'max_features' : [0.3,0.4,0.5,0.6,'sqrt']}\n",
    "\n",
    "gb = GridSearchCV(GradientBoostingClassifier(),\n",
    "                        param_grid = gb_grid,\n",
    "                        scoring = 'average_precision',\n",
    "                        cv = 3,\n",
    "                        n_jobs = -1)\n",
    "gb.fit(X_train,y_train)\n",
    "\n",
    "\n",
    "#Extreme Gradient Boosting Classifier Hyperparameter Tuning\n",
    "xg_grid = {'learning_rate': [0.05,0.1,0.2,0.3,0.4],\n",
    "           'n_estimators' : [200,500,1000,1250],\n",
    "           'max_depth' : range(2,6),\n",
    "           'min_child_weight' : [2,3,4,5],\n",
    "           'xgbclassifier__subsample' : [0.5,0.75,1],\n",
    "           'colsample_bytree' : [0.3,0.4,0.5,0.6,'sqrt']}\n",
    "\n",
    "xg = GridSearchCV(XGBClassifier(scale_post_weight = weight),\n",
    "                        param_grid = xg_grid,\n",
    "                        scoring = 'average_precision',\n",
    "                        cv = 3,\n",
    "                        n_jobs = -1)\n",
    "xg.fit(X_train,y_train)\n",
    "\n",
    "print('Training done.')\n"
   ]
  },
  {
   "cell_type": "code",
   "execution_count": 42,
   "metadata": {},
   "outputs": [],
   "source": [
    "lr_best = lr.best_estimator_\n",
    "rf_best = rf.best_estimator_\n",
    "gb_best = gb.best_estimator_\n",
    "xg_best = xg.best_estimator_\n",
    "\n",
    "lr_proba = lr_best.predict_proba(X_test)[:,1]\n",
    "rf_proba = rf_best.predict_proba(X_test)[:,1]\n",
    "gb_proba = gb_best.predict_proba(X_test)[:,1]\n",
    "xg_proba = xg_best.predict_proba(X_test)[:,1]"
   ]
  },
  {
   "cell_type": "markdown",
   "metadata": {},
   "source": [
    "**Next, the majority class is undersampled to an appropriate ratio.  \n",
    "Similarly, the undersampled models and the probability of device failure are saved as variables.**"
   ]
  },
  {
   "cell_type": "code",
   "execution_count": 43,
   "metadata": {},
   "outputs": [
    {
     "name": "stdout",
     "output_type": "stream",
     "text": [
      "Training done.\n"
     ]
    }
   ],
   "source": [
    "#Logistic Regression Undersampling\n",
    "lr_under_grid = {'logisticregression__penalty' : ['l1','l2','elasticnet'],\n",
    "           'logisticregression__C' : [0.01,0.1,1,10,100],\n",
    "           'nearmiss__sampling_strategy' : np.linspace(0.10,1,10)}\n",
    "\n",
    "lr_under_pipe = make_pipeline(NearMiss(),LogisticRegression(solver = 'liblinear'))\n",
    "lr_under = GridSearchCV(estimator = lr_under_pipe,\n",
    "                        param_grid = lr_under_grid,\n",
    "                        scoring = 'average_precision',\n",
    "                        cv = 3,\n",
    "                        n_jobs = -1)\n",
    "lr_under.fit(X_train,y_train)\n",
    "\n",
    "\n",
    "#Random Forest Classifier UnderSampling\n",
    "rf_under_grid = {'randomforestclassifier__max_depth' : range(2,6),\n",
    "           'randomforestclassifier__min_samples_split' : range(10,21,2),\n",
    "           'randomforestclassifier__max_features' : [0.3,0.4,0.5,0.6,'sqrt'],\n",
    "           'nearmiss__sampling_strategy' : np.linspace(0.10,1,10)}\n",
    "\n",
    "rf_under_pipe = make_pipeline(NearMiss(),RandomForestClassifier(n_estimators = 1000))\n",
    "rf_under = GridSearchCV(estimator = rf_under_pipe,\n",
    "                              param_grid = rf_under_grid,\n",
    "                              scoring = 'average_precision',\n",
    "                              cv = 3,\n",
    "                              n_jobs = -1)\n",
    "rf_under.fit(X_train,y_train)\n",
    "\n",
    "\n",
    "#Gradient Boosting Classifier Undersampling\n",
    "gb_under_grid = {'gradientboostingclassifier__learning_rate' : [0.05,0.1,0.2,0.3,0.4],\n",
    "           'gradientboostingclassifier__n_estimators' : [200,500,1000,1250],\n",
    "           'gradientboostingclassifier__min_samples_split' : range(10,21,2),\n",
    "           'gradientboostingclassifier__max_depth' : range(2,6),\n",
    "           'gradientboostingclassifier__max_features' : [0.3,0.4,0.5,0.6,'sqrt'],\n",
    "           'nearmiss__sampling_strategy' : np.linspace(0.10,1,10)}\n",
    "\n",
    "gb_under_pipe = make_pipeline(NearMiss(),GradientBoostingClassifier())\n",
    "gb_under = GridSearchCV(estimator = gb_under_pipe,\n",
    "                              param_grid = gb_under_grid,\n",
    "                              scoring = 'average_precision',\n",
    "                              cv = 3,\n",
    "                              n_jobs = -1)\n",
    "gb_under.fit(X_train,y_train)\n",
    "\n",
    "\n",
    "#Extreme Gradient Boosting Classifier Undersampling\n",
    "xg_under_grid = {'xgbclassifier__learning_rate': [0.05,0.1,0.2,0.3,0.4],\n",
    "           'xgbclassifier__n_estimators' : [200,500,1000,1250],\n",
    "           'xgbclassifier__max_depth' : range(2,6),\n",
    "           'xgbclassifier__min_child_weight' : [2,3,4,5],\n",
    "           'xgbclassifier__subsample' : [0.5,0.75,1],\n",
    "           'xgbclassifier__colsample_bytree' : [0.3,0.4,0.5,0.6,'sqrt'],\n",
    "           'nearmiss__sampling_strategy' : np.linspace(0.10,1,10)}\n",
    "\n",
    "xg_under_pipe = make_pipeline(NearMiss(),XGBClassifier())\n",
    "xg_under = GridSearchCV(estimator = xg_under_pipe,\n",
    "                              param_grid = xg_under_grid,\n",
    "                              scoring = 'average_precision',\n",
    "                              cv = 3,\n",
    "                              n_jobs = -1)\n",
    "xg_under.fit(X_train,y_train)\n",
    "\n",
    "print('Training done.')\n"
   ]
  },
  {
   "cell_type": "code",
   "execution_count": 44,
   "metadata": {},
   "outputs": [],
   "source": [
    "lr_best_under = lr_under.best_estimator_\n",
    "rf_best_under = rf_under.best_estimator_\n",
    "gb_best_under = gb_under.best_estimator_\n",
    "xg_best_under = xg_under.best_estimator_\n",
    "\n",
    "lr_proba_under = lr_best_under.predict_proba(X_test)[:,1]\n",
    "rf_proba_under = rf_best_under.predict_proba(X_test)[:,1]\n",
    "gb_proba_under = gb_best_under.predict_proba(X_test)[:,1]\n",
    "xg_proba_under = xg_best_under.predict_proba(X_test)[:,1]"
   ]
  },
  {
   "cell_type": "markdown",
   "metadata": {},
   "source": [
    "**Finally, the minority class is oversampled to an appropriate ratio.  \n",
    "The oversampled models and the probability of device failure are saved as variables.**"
   ]
  },
  {
   "cell_type": "code",
   "execution_count": 45,
   "metadata": {},
   "outputs": [
    {
     "name": "stdout",
     "output_type": "stream",
     "text": [
      "Training done.\n"
     ]
    }
   ],
   "source": [
    "#Logistic Regression Oversampling\n",
    "lr_over_grid = {'logisticregression__penalty' : ['l1','l2','elasticnet'],\n",
    "           'logisticregression__C' : [0.01,0.1,1,10,100],\n",
    "           'smote__sampling_strategy' : np.linspace(0.10,1,10)}\n",
    "\n",
    "lr_over_pipe = make_pipeline(SMOTE(),LogisticRegression(solver = 'liblinear'))\n",
    "lr_over = GridSearchCV(estimator = lr_over_pipe,\n",
    "                       param_grid = lr_over_grid,\n",
    "                       scoring = 'average_precision',\n",
    "                       cv = 3,\n",
    "                       n_jobs = -1)\n",
    "lr_over.fit(X_train,y_train)\n",
    "\n",
    "\n",
    "#Random Forest Classifier Oversampling\n",
    "rf_over_grid = {'randomforestclassifier__max_depth' : range(2,6),\n",
    "           'randomforestclassifier__min_samples_split' : range(10,21,2),\n",
    "           'randomforestclassifier__max_features' : [0.3,0.4,0.5,0.6,'sqrt'],\n",
    "           'smote__sampling_strategy' : np.linspace(0.10,1,10)}\n",
    "\n",
    "rf_over_pipe = make_pipeline(SMOTE(),RandomForestClassifier(n_estimators = 1000))\n",
    "rf_over = GridSearchCV(estimator = rf_over_pipe,\n",
    "                             param_grid = rf_over_grid,\n",
    "                             scoring = 'average_precision',\n",
    "                             cv = 3,\n",
    "                             n_jobs = -1)\n",
    "rf_over.fit(X_train,y_train)\n",
    "\n",
    "\n",
    "#Gradient Boosting Classifier OverSampling\n",
    "gb_over_grid = {'gradientboostingclassifier__learning_rate' : [0.05,0.1,0.2,0.3,0.4],\n",
    "           'gradientboostingclassifier__n_estimators' : [200,500,1000,1250],\n",
    "           'gradientboostingclassifier__min_samples_split' : range(10,21,2),\n",
    "           'gradientboostingclassifier__max_depth' : range(2,6),\n",
    "           'gradientboostingclassifier__max_features' : [0.3,0.4,0.5,0.6,'sqrt'],\n",
    "           'smote__sampling_strategy' : np.linspace(0.10,1,10)}\n",
    "\n",
    "gb_over_pipe = make_pipeline(SMOTE(),GradientBoostingClassifier())\n",
    "gb_over = GridSearchCV(estimator = gb_over_pipe,\n",
    "                              param_grid = gb_over_grid,\n",
    "                              scoring = 'average_precision',\n",
    "                              cv = 3,\n",
    "                              n_jobs = -1)\n",
    "gb_over.fit(X_train,y_train)\n",
    "\n",
    "\n",
    "#Extreme Gradient Boosting Classifier Oversampling\n",
    "xg_over_grid = {'xgbclassifier__learning_rate': [0.05,0.1,0.2,0.3,0.4],\n",
    "           'xgbclassifier__n_estimators' : [200,500,1000,1250],\n",
    "           'xgbclassifier__max_depth' : range(2,6),\n",
    "           'xgbclassifier__min_child_weight' : [2,3,4,5],\n",
    "           'xgbclassifier__subsample' : [0.5,0.75,1],\n",
    "           'xgbclassifier__colsample_bytree' : [0.3,0.4,0.5,0.6,'sqrt'],\n",
    "           'smote__sampling_strategy' : np.linspace(0.10,1,10)}\n",
    "\n",
    "xg_over_pipe = make_pipeline(SMOTE(),XGBClassifier())\n",
    "xg_over = GridSearchCV(estimator = xg_over_pipe,\n",
    "                              param_grid = xg_over_grid,\n",
    "                              scoring = 'average_precision',\n",
    "                              cv = 3,\n",
    "                              n_jobs = -1)\n",
    "xg_over.fit(X_train,y_train)\n",
    "\n",
    "print('Training done.')\n",
    "\n"
   ]
  },
  {
   "cell_type": "code",
   "execution_count": 46,
   "metadata": {},
   "outputs": [],
   "source": [
    "lr_best_over = lr_over.best_estimator_\n",
    "rf_best_over = rf_over.best_estimator_\n",
    "gb_best_over = gb_over.best_estimator_\n",
    "xg_best_over = xg_over.best_estimator_\n",
    "\n",
    "lr_proba_over = lr_best_over.predict_proba(X_test)[:,1]\n",
    "rf_proba_over = rf_best_over.predict_proba(X_test)[:,1]\n",
    "gb_proba_over = gb_best_over.predict_proba(X_test)[:,1]\n",
    "xg_proba_over = xg_best_over.predict_proba(X_test)[:,1]"
   ]
  },
  {
   "cell_type": "markdown",
   "metadata": {},
   "source": [
    "### Model Selection"
   ]
  },
  {
   "cell_type": "markdown",
   "metadata": {},
   "source": [
    "**A bar graph is visualized below to help pick the three best models:**\n",
    "* _**No Sampling- Gradient Boosting Classifier**_\n",
    "* _**Undersampling- Gradient Boosting Classifier**_\n",
    "* _**Oversampling- Extreme Gradient Boosting Classifier**_"
   ]
  },
  {
   "cell_type": "code",
   "execution_count": 47,
   "metadata": {},
   "outputs": [],
   "source": [
    "def plot_scores(no_samp_dict,under_samp_dict,over_samp_dict,plot_titles):\n",
    "    i = 0\n",
    "    fig, ax = plt.subplots(ncols = 3, figsize = (15,6))\n",
    "    \n",
    "    for d in [no_samp_dict,under_samp_dict,over_samp_dict] :\n",
    "        score_list = []\n",
    "        for _,val in d.items():\n",
    "            score_list.append(average_precision_score(y_test,val))\n",
    "        \n",
    "        x = range(len(d))\n",
    "        ax[i].bar(x = x, height = score_list)\n",
    "        ax[i].set_xticks(x)\n",
    "        ax[i].set_xticklabels(d.keys(), rotation = 40)\n",
    "        for x_pos,y_pos in zip(x,score_list) :\n",
    "            ax[i].text(x = x_pos-0.15, y = y_pos-0.05, s = y_pos.round(decimals = 3), color = 'white',fontsize = 10)\n",
    "        ax[i].set_axisbelow(True)\n",
    "        ax[i].grid(axis = 'y')\n",
    "        \n",
    "        ax[i].set_title(plot_titles[i], fontsize = 15)\n",
    "        i +=1\n",
    "    \n",
    "    fig.tight_layout(rect = [0,0,1,0.92])"
   ]
  },
  {
   "cell_type": "code",
   "execution_count": 48,
   "metadata": {},
   "outputs": [],
   "source": [
    "no_sampling_dict = {'LR' : lr_proba, 'RF' : rf_proba, 'GB' : gb_proba, 'XG' : xg_proba}\n",
    "under_classifiers_dict = {'LR' : lr_proba_under, 'RF' : rf_proba_under, 'GB' : gb_proba_under, 'XG' : xg_proba_under}\n",
    "over_classifiers_dict = {'LR' : lr_proba_over, 'RF' : rf_proba_over, 'GB' : gb_proba_over, 'XG' : xg_proba_over}"
   ]
  },
  {
   "cell_type": "code",
   "execution_count": 49,
   "metadata": {},
   "outputs": [],
   "source": [
    "title = ['No Sampling Avg Precision Scores','Undersampling Avg Precision Scores','Oversampling Avg Precision Scores']\n"
   ]
  },
  {
   "cell_type": "code",
   "execution_count": 50,
   "metadata": {},
   "outputs": [
    {
     "data": {
      "image/png": "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\n",
      "text/plain": [
       "<Figure size 1080x432 with 3 Axes>"
      ]
     },
     "metadata": {
      "needs_background": "light"
     },
     "output_type": "display_data"
    }
   ],
   "source": [
    "plot_scores(no_sampling_dict, under_classifiers_dict, over_classifiers_dict,title)"
   ]
  },
  {
   "cell_type": "markdown",
   "metadata": {},
   "source": [
    "**A Precision-Recall Curve is visualized below for the three remaining models.**  \n",
    "**The plot shows the undersampled Gradient Boosting classifier model returns a high recall score while perserving a high precision score.**"
   ]
  },
  {
   "cell_type": "code",
   "execution_count": 51,
   "metadata": {},
   "outputs": [],
   "source": [
    "def PR_curve(classifier_dict):\n",
    "    no_skill = y_train.value_counts()[1]/len(y_train)\n",
    "    c_list = ['blue','black','red']\n",
    "    index = 0\n",
    "    a = 0.4\n",
    "    lw = 5.0\n",
    "\n",
    "    fig = plt.figure(figsize = (6,6))\n",
    "    for name, prob in classifier_dict.items():\n",
    "        avg_pr = average_precision_score(y_test,prob).round(decimals = 3)\n",
    "        model_precision, model_recall,_ = precision_recall_curve(y_test,prob)\n",
    "        \n",
    "        plt.plot(model_recall,\n",
    "                 model_precision,\n",
    "                 label = '{} avg precision: {}'.format(name,avg_pr),\n",
    "                 c = c_list[index],\n",
    "                 alpha = a,\n",
    "                 linewidth = lw)\n",
    "        \n",
    "        a += 0.3\n",
    "        lw -= 1.5\n",
    "        index +=1\n",
    "    \n",
    "    plt.xlabel('Recall', fontsize = 10)\n",
    "    plt.ylabel('Precision', fontsize = 10)\n",
    "    \n",
    "    plt.suptitle('Precision Recall Curve', fontsize = 20)\n",
    "    \n",
    "    plt.legend(loc = 'best')\n",
    "    fig.tight_layout(rect = [0,0,1,0.95])       "
   ]
  },
  {
   "cell_type": "code",
   "execution_count": 52,
   "metadata": {},
   "outputs": [],
   "source": [
    "best_classifiers_dict = {'No sampled GB': gb_proba,'Undersampled GB': gb_proba_under,'Oversampled XG': xg_proba_over}"
   ]
  },
  {
   "cell_type": "code",
   "execution_count": 53,
   "metadata": {},
   "outputs": [
    {
     "data": {
      "image/png": "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\n",
      "text/plain": [
       "<Figure size 432x432 with 1 Axes>"
      ]
     },
     "metadata": {
      "needs_background": "light"
     },
     "output_type": "display_data"
    }
   ],
   "source": [
    "PR_curve(best_classifiers_dict)"
   ]
  },
  {
   "cell_type": "markdown",
   "metadata": {},
   "source": [
    "### Cost Function"
   ]
  },
  {
   "cell_type": "markdown",
   "metadata": {},
   "source": [
    "**A cost function is introduced to help choose the optimal threshold, maximuming savings.**\n",
    "**The following is a cost breakdown:**\n",
    "* \$32 Ticket Cost  \n",
    "* \$51 Service Cost\n",
    "* \$16 Downtime Cost\n",
    "    * 8 hours at \$2 per hour\n",
    "     * 6 hours of travel time and 2 hours of service time  \n",
    "     \n",
    "**Credit for the cost breakdown goes to [Stephan Spiegel, Fabian Mueller, Dorothea Wiesmann, and John Bird.](https://arxiv.org/pdf/1809.10979.pdf)**\n"
   ]
  },
  {
   "cell_type": "code",
   "execution_count": 54,
   "metadata": {},
   "outputs": [],
   "source": [
    "def cost_function(proba_pred):\n",
    "    savings_list = []\n",
    "    precision, recall, thresholds = precision_recall_curve(y_test,proba_pred)\n",
    "    \n",
    "    for thresh in thresholds:\n",
    "        predictions = np.where(proba_pred > thresh,1,0)\n",
    "        cm = confusion_matrix(y_test,predictions)\n",
    "        FN,FP,TP = cm[1][0], cm[0][1], cm[1][1]\n",
    "        saving = 32*TP + 2*6*TP - 51*FP - 2*2*FP - 32*FN - 2*6*FN \n",
    "        savings_list.append(saving)\n",
    "    \n",
    "    saving_df = pd.DataFrame(data = {'Threshold' : thresholds,\n",
    "                                     'Savings' : savings_list})\n",
    "    \n",
    "    saving_df = saving_df.sort_values(by = 'Savings', ascending = False)\n",
    "    \n",
    "    return saving_df"
   ]
  },
  {
   "cell_type": "code",
   "execution_count": 55,
   "metadata": {},
   "outputs": [
    {
     "data": {
      "text/html": [
       "<div>\n",
       "<style scoped>\n",
       "    .dataframe tbody tr th:only-of-type {\n",
       "        vertical-align: middle;\n",
       "    }\n",
       "\n",
       "    .dataframe tbody tr th {\n",
       "        vertical-align: top;\n",
       "    }\n",
       "\n",
       "    .dataframe thead th {\n",
       "        text-align: right;\n",
       "    }\n",
       "</style>\n",
       "<table border=\"1\" class=\"dataframe\">\n",
       "  <thead>\n",
       "    <tr style=\"text-align: right;\">\n",
       "      <th></th>\n",
       "      <th>Threshold</th>\n",
       "      <th>Savings</th>\n",
       "    </tr>\n",
       "  </thead>\n",
       "  <tbody>\n",
       "    <tr>\n",
       "      <td>10</td>\n",
       "      <td>0.367639</td>\n",
       "      <td>451</td>\n",
       "    </tr>\n",
       "    <tr>\n",
       "      <td>12</td>\n",
       "      <td>0.379604</td>\n",
       "      <td>418</td>\n",
       "    </tr>\n",
       "    <tr>\n",
       "      <td>9</td>\n",
       "      <td>0.248398</td>\n",
       "      <td>396</td>\n",
       "    </tr>\n",
       "    <tr>\n",
       "      <td>14</td>\n",
       "      <td>0.700986</td>\n",
       "      <td>385</td>\n",
       "    </tr>\n",
       "    <tr>\n",
       "      <td>11</td>\n",
       "      <td>0.377934</td>\n",
       "      <td>363</td>\n",
       "    </tr>\n",
       "  </tbody>\n",
       "</table>\n",
       "</div>"
      ],
      "text/plain": [
       "    Threshold  Savings\n",
       "10   0.367639      451\n",
       "12   0.379604      418\n",
       "9    0.248398      396\n",
       "14   0.700986      385\n",
       "11   0.377934      363"
      ]
     },
     "execution_count": 55,
     "metadata": {},
     "output_type": "execute_result"
    }
   ],
   "source": [
    "saving_df = cost_function(gb_proba_under)\n",
    "saving_df.head()"
   ]
  },
  {
   "cell_type": "markdown",
   "metadata": {},
   "source": [
    "**An output of key metrics show high scores for the undersampled classifier.**"
   ]
  },
  {
   "cell_type": "code",
   "execution_count": 56,
   "metadata": {},
   "outputs": [
    {
     "name": "stdout",
     "output_type": "stream",
     "text": [
      "              precision    recall  f1-score   support\n",
      "\n",
      "           0       0.99      0.99      0.99       214\n",
      "           1       0.85      0.85      0.85        20\n",
      "\n",
      "    accuracy                           0.97       234\n",
      "   macro avg       0.92      0.92      0.92       234\n",
      "weighted avg       0.97      0.97      0.97       234\n",
      "\n"
     ]
    }
   ],
   "source": [
    "opt_thresh = saving_df.loc[saving_df['Savings'] == saving_df['Savings'].max(),'Threshold'].values\n",
    "pred = np.where(gb_proba_under > opt_thresh,1,0)\n",
    "print(classification_report(y_test,pred))"
   ]
  }
 ],
 "metadata": {
  "kernelspec": {
   "display_name": "Python 3",
   "language": "python",
   "name": "python3"
  },
  "language_info": {
   "codemirror_mode": {
    "name": "ipython",
    "version": 3
   },
   "file_extension": ".py",
   "mimetype": "text/x-python",
   "name": "python",
   "nbconvert_exporter": "python",
   "pygments_lexer": "ipython3",
   "version": "3.7.4"
  }
 },
 "nbformat": 4,
 "nbformat_minor": 2
}
